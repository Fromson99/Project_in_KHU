{
 "cells": [
  {
   "cell_type": "markdown",
   "id": "b7c95bdb",
   "metadata": {},
   "source": [
    "## 주제선정이유\n",
    "주식차트를 보던 중 비슷한 정도의 호재에도 어떤기업은 주가가 많이 그리고 지속적으로 오르는데 어떤 기업은 그렇지 못한 모습을 보였다. 위 두 기업은 거래량에서 명확한 차이가 났다. 그렇기에 나는 주가의 상승폭이 거래량과 관련이 있지 않을까 라는 의문을 가지게 되었고 이를 확인해보자 하였다. 또한 추가적으로 기업의 가치평가를 할때 자주 사용되는 재무제표가 정말 주가와 연관성이 있는지 확인해보았다.\n"
   ]
  },
  {
   "cell_type": "markdown",
   "id": "fccb4893",
   "metadata": {},
   "source": [
    "## 가설 1. 주가 상승 하락폭이 큰 날이 아닌날 보다 거래량이 더 많을 것이다.\n",
    "\n",
    "## 가설2. 기본적 분석에 활용되는 재무제표는 기업의 거래량과 관련이 있을 것이다. "
   ]
  },
  {
   "cell_type": "markdown",
   "id": "26ddd8a0",
   "metadata": {},
   "source": [
    "# 데이터들\n",
    "#### 유한양행의 거래정보 데이터 (_000100.volume.csv)\n",
    "#### 코스피 상장 기업의 재무제표 데이터(fs_df_2019.csv,fs_df_2020.csv)\n",
    "####  코스피 상장 기업의 거래량 데이터(all_data_set.csv)\n",
    "#### 공적분 페어 리스트(pairs.pickle)\n",
    "\n",
    "웹 크롤링: csv파일, 코스피 상장기업 리스트\n",
    "\n",
    "\n",
    "전처리 데이터: pickle(데이터량이 많아 따로 저장함)"
   ]
  },
  {
   "cell_type": "code",
   "execution_count": 1,
   "id": "31bd2cb0",
   "metadata": {},
   "outputs": [],
   "source": [
    "import warnings\n",
    "warnings.filterwarnings(action='ignore')\n",
    "import pandas as pd\n",
    "from urllib import request as req\n",
    "from bs4 import BeautifulSoup as bs\n",
    "import matplotlib.pyplot as plt\n",
    "import numpy as np\n",
    "from sklearn.preprocessing import StandardScaler\n",
    "import seaborn as sns\n",
    "from scipy.stats import norm\n",
    "from scipy import stats\n",
    "%matplotlib inline\n",
    "import copy\n",
    "import statsmodels\n",
    "from statsmodels.tsa.stattools import coint\n",
    "from sklearn.preprocessing import power_transform"
   ]
  },
  {
   "cell_type": "markdown",
   "id": "087db6b1",
   "metadata": {},
   "source": [
    "## 데이터 전처리\n",
    "프로젝트를 진행하면서 전처리가 많이 필요했다. 왜도가 심한데이터, 이상치가 있는 데이터, 결측치등 분석을 함에 있어 방해되는 요소들이 하나한 줄여나갔다. 주로한 전처리는 스케일링, 로그변환, 거듭제곱 변환, 결측치 제거등이 있다. 전처리 내용이 많아 이후 전처리 시작부분에는 -전처리-, 끝부분에는 -end- 표시를 하겠다.\n",
    "## 데이터 분석\n",
    "전처리가 어느정도 완료된 데이터들로 데이터 분석을 진행하였다. \n",
    "분석을 위해 사용한 도구는 피어슨 상관관계이다. \n",
    "원 계획은 거래량은 피어슨 상관계수\n",
    "재무제표는 클러스터링과 공적분으로 분석을 진행하려고 했다. \n",
    "하지만 재무제표 부분에서 클러스터링 보단 상관계수분석이 좀더 유의미 하다고 판단하여 피어슨 상관계수 그리고 공적분으로 둘의 관계를 분석해보았다. \n",
    "\n",
    "###  피어슨 상관계수\n",
    "피어슨 상관계수는 데이터에서 두 변수의 공분산(covariance) 을 각각의 표준 편차의 곱으로 나눈 값이다.(위키피디아)\n",
    "표준편차의 곱으로 나누었기 때문에 상관계수 값은 -1 ~ 1사이로 나오게 된다. \n",
    "여기서 주목해야할 점은 두 변수의 공분산이다. \n",
    "#### 공분산\n",
    "공분산(共分散, 영어: covariance)은 2개의 확률변수의 선형 관계를 나타내는 값이다.[1] 만약 2개의 변수중 하나의 값이 상승하는 경향을 보일 때 다른 값도 상승하는 선형 상관성이 있다면 양수의 공분산을 가진다.[2] 반대로 2개의 변수중 하나의 값이 상승하는 경향을 보일 때 다른 값이 하강하는 선형 상관성을 보인다면 공분산의 값은 음수가 된다.(위키피디아)\n",
    "\n",
    "공분산 식을 조금 들어다 보면, X의 편차와 Y의 편차를 곱하여 그것의 평균임을 알수있다. 여기서 핵심은 X이 편차와 Y의 편차를 곱한다는 것이다. 즉 X,Y의 값들이 평균에서 얼마나 멀어져있는가 그리고 편차가 양인가 음인가에 따라 공분산의 값이 결정된다. \n",
    "그럼으로 X,Y의 움직임에 대해 연관성을 찾아낼수 있다. "
   ]
  },
  {
   "cell_type": "markdown",
   "id": "7bc82b6e",
   "metadata": {},
   "source": [
    "## 1. 주가와 거래량이 관계가 있을까?"
   ]
  },
  {
   "cell_type": "markdown",
   "id": "ac39cf8f",
   "metadata": {},
   "source": [
    "### 한 기업(유한양행)에 대해 거래량과 주가의 관계를 분석해보았다. "
   ]
  },
  {
   "cell_type": "markdown",
   "id": "96f5d1c9",
   "metadata": {},
   "source": [
    "크롤링으로 기업의 시장정보를 들고온다"
   ]
  },
  {
   "cell_type": "code",
   "execution_count": 2,
   "id": "6054bf5f",
   "metadata": {},
   "outputs": [],
   "source": [
    "df = pd.read_csv('_000100.volume.csv')"
   ]
  },
  {
   "cell_type": "markdown",
   "id": "a4df34eb",
   "metadata": {},
   "source": [
    "전일비에 +,-가 표시 돼지않았음으로 전일 가격과 비교하여 전일비에 +,- 를 부여한다"
   ]
  },
  {
   "cell_type": "code",
   "execution_count": 3,
   "id": "01a98aa4",
   "metadata": {},
   "outputs": [],
   "source": [
    "for i in df.index:\n",
    "    if i != list(df.index)[-1]:\n",
    "        if df.loc[i,'종가'] < df.loc[i+1,'종가']:\n",
    "            df.loc[i,'전일비'] = - df.loc[i,'전일비']\n",
    "        else:\n",
    "            pass\n",
    "    else:\n",
    "        pass\n",
    "    "
   ]
  },
  {
   "cell_type": "markdown",
   "id": "900ce9c7",
   "metadata": {},
   "source": [
    "주가의 상승폭을 확인하기 위해서 전일대비라는 컬럼을 만들었고 추가적으로 상승과 하락 두 상황에서 모두 적용가능하게 전일대비 값을 절댓값으로 만든 abs전일대비(%) 컬럼또한 만들었다. \n",
    "\n"
   ]
  },
  {
   "cell_type": "code",
   "execution_count": 4,
   "id": "9a264f0e",
   "metadata": {},
   "outputs": [],
   "source": [
    "for i in df.index:\n",
    "    if i != list(df.index)[-1]:\n",
    "        df.loc[i,'전일대비(%)'] = round(float(df.loc[i,'전일비'])*100 / float(df.loc[i,'종가']),2)\n",
    "\n",
    "df['abs전일대비(%)'] = abs(df['전일대비(%)'])"
   ]
  },
  {
   "cell_type": "markdown",
   "id": "5cda00d8",
   "metadata": {},
   "source": [
    "이상태로 상관관계 분석을 해보았다. 결과는 전일대비 그리고 abs전일대비 모두 거래량과 상관관계가 없다고 나온다"
   ]
  },
  {
   "cell_type": "code",
   "execution_count": 5,
   "id": "2bd87c22",
   "metadata": {
    "scrolled": true
   },
   "outputs": [
    {
     "data": {
      "text/html": [
       "<div>\n",
       "<style scoped>\n",
       "    .dataframe tbody tr th:only-of-type {\n",
       "        vertical-align: middle;\n",
       "    }\n",
       "\n",
       "    .dataframe tbody tr th {\n",
       "        vertical-align: top;\n",
       "    }\n",
       "\n",
       "    .dataframe thead th {\n",
       "        text-align: right;\n",
       "    }\n",
       "</style>\n",
       "<table border=\"1\" class=\"dataframe\">\n",
       "  <thead>\n",
       "    <tr style=\"text-align: right;\">\n",
       "      <th></th>\n",
       "      <th>종가</th>\n",
       "      <th>전일비</th>\n",
       "      <th>시가</th>\n",
       "      <th>고가</th>\n",
       "      <th>저가</th>\n",
       "      <th>거래량</th>\n",
       "      <th>전일대비(%)</th>\n",
       "      <th>abs전일대비(%)</th>\n",
       "    </tr>\n",
       "  </thead>\n",
       "  <tbody>\n",
       "    <tr>\n",
       "      <th>종가</th>\n",
       "      <td>1.000000</td>\n",
       "      <td>0.023753</td>\n",
       "      <td>0.997377</td>\n",
       "      <td>0.997711</td>\n",
       "      <td>0.997762</td>\n",
       "      <td>-0.094703</td>\n",
       "      <td>0.018095</td>\n",
       "      <td>-0.080880</td>\n",
       "    </tr>\n",
       "    <tr>\n",
       "      <th>전일비</th>\n",
       "      <td>0.023753</td>\n",
       "      <td>1.000000</td>\n",
       "      <td>-0.009896</td>\n",
       "      <td>0.008211</td>\n",
       "      <td>0.007259</td>\n",
       "      <td>0.060778</td>\n",
       "      <td>0.807555</td>\n",
       "      <td>0.030596</td>\n",
       "    </tr>\n",
       "    <tr>\n",
       "      <th>시가</th>\n",
       "      <td>0.997377</td>\n",
       "      <td>-0.009896</td>\n",
       "      <td>1.000000</td>\n",
       "      <td>0.999535</td>\n",
       "      <td>0.999537</td>\n",
       "      <td>-0.094388</td>\n",
       "      <td>-0.008790</td>\n",
       "      <td>-0.079668</td>\n",
       "    </tr>\n",
       "    <tr>\n",
       "      <th>고가</th>\n",
       "      <td>0.997711</td>\n",
       "      <td>0.008211</td>\n",
       "      <td>0.999535</td>\n",
       "      <td>1.000000</td>\n",
       "      <td>0.999340</td>\n",
       "      <td>-0.090031</td>\n",
       "      <td>0.005388</td>\n",
       "      <td>-0.069763</td>\n",
       "    </tr>\n",
       "    <tr>\n",
       "      <th>저가</th>\n",
       "      <td>0.997762</td>\n",
       "      <td>0.007259</td>\n",
       "      <td>0.999537</td>\n",
       "      <td>0.999340</td>\n",
       "      <td>1.000000</td>\n",
       "      <td>-0.096471</td>\n",
       "      <td>0.004425</td>\n",
       "      <td>-0.088282</td>\n",
       "    </tr>\n",
       "    <tr>\n",
       "      <th>거래량</th>\n",
       "      <td>-0.094703</td>\n",
       "      <td>0.060778</td>\n",
       "      <td>-0.094388</td>\n",
       "      <td>-0.090031</td>\n",
       "      <td>-0.096471</td>\n",
       "      <td>1.000000</td>\n",
       "      <td>0.113183</td>\n",
       "      <td>0.168515</td>\n",
       "    </tr>\n",
       "    <tr>\n",
       "      <th>전일대비(%)</th>\n",
       "      <td>0.018095</td>\n",
       "      <td>0.807555</td>\n",
       "      <td>-0.008790</td>\n",
       "      <td>0.005388</td>\n",
       "      <td>0.004425</td>\n",
       "      <td>0.113183</td>\n",
       "      <td>1.000000</td>\n",
       "      <td>0.020975</td>\n",
       "    </tr>\n",
       "    <tr>\n",
       "      <th>abs전일대비(%)</th>\n",
       "      <td>-0.080880</td>\n",
       "      <td>0.030596</td>\n",
       "      <td>-0.079668</td>\n",
       "      <td>-0.069763</td>\n",
       "      <td>-0.088282</td>\n",
       "      <td>0.168515</td>\n",
       "      <td>0.020975</td>\n",
       "      <td>1.000000</td>\n",
       "    </tr>\n",
       "  </tbody>\n",
       "</table>\n",
       "</div>"
      ],
      "text/plain": [
       "                  종가       전일비        시가        고가        저가       거래량  \\\n",
       "종가          1.000000  0.023753  0.997377  0.997711  0.997762 -0.094703   \n",
       "전일비         0.023753  1.000000 -0.009896  0.008211  0.007259  0.060778   \n",
       "시가          0.997377 -0.009896  1.000000  0.999535  0.999537 -0.094388   \n",
       "고가          0.997711  0.008211  0.999535  1.000000  0.999340 -0.090031   \n",
       "저가          0.997762  0.007259  0.999537  0.999340  1.000000 -0.096471   \n",
       "거래량        -0.094703  0.060778 -0.094388 -0.090031 -0.096471  1.000000   \n",
       "전일대비(%)     0.018095  0.807555 -0.008790  0.005388  0.004425  0.113183   \n",
       "abs전일대비(%) -0.080880  0.030596 -0.079668 -0.069763 -0.088282  0.168515   \n",
       "\n",
       "             전일대비(%)  abs전일대비(%)  \n",
       "종가          0.018095   -0.080880  \n",
       "전일비         0.807555    0.030596  \n",
       "시가         -0.008790   -0.079668  \n",
       "고가          0.005388   -0.069763  \n",
       "저가          0.004425   -0.088282  \n",
       "거래량         0.113183    0.168515  \n",
       "전일대비(%)     1.000000    0.020975  \n",
       "abs전일대비(%)  0.020975    1.000000  "
      ]
     },
     "execution_count": 5,
     "metadata": {},
     "output_type": "execute_result"
    }
   ],
   "source": [
    "df.corr()"
   ]
  },
  {
   "cell_type": "markdown",
   "id": "463a1ece",
   "metadata": {},
   "source": [
    "원인을 분석해보았다. 내가 찾은 원인은 크게 두가지이다. \n",
    "1. 분석한 기업은 몇년전에 액면분할을 했다. 보통 액면분할을 하면 주가가 내려가기때문에ㅣ이후 거래량이 증가한다.\n",
    "2. 거래량은 시계열분석에 해당한다. 그럼으로 단순히 전일대비 값으로 비교하면 안된다.\n",
    "\n",
    "1번 먼저 확인해보자 유한양행의 액면분할일은 2020년 4월8일이다. 크롤링해서 얻은 데이터의 앞부분은 계속해서 변함으로 뒤에서 부터 슬라잉싱을 진행한다. "
   ]
  },
  {
   "cell_type": "markdown",
   "id": "66f605c6",
   "metadata": {},
   "source": [
    "### 액면분할 일을 기준으로 슬라이싱한 테이블은 abs전일대비(%)와 거래량 사이에서 0.629 정도의 상관계수가 나왔다.\n",
    "상관계수로 상관관계의 정도를 판단하는 기준은 아래와 같다. 0.8≤r 일 때, 강한 상관이 있다. 0.6≤r<0.8 일 때, 상관이 있다. 0.4≤r<0.6 일 때, 약한 상관이 있다라고 보기에 abs전일대비(%)와 거래량에서 서로 상관이 있다고 판단한다. "
   ]
  },
  {
   "cell_type": "code",
   "execution_count": 6,
   "id": "1030ff97",
   "metadata": {
    "scrolled": true
   },
   "outputs": [],
   "source": [
    "df_1_1 = df.iloc[:-5969,:]\n",
    "df_1_2 = df.iloc[-5969:,:]\n",
    "#df_1_1: 액면분할 이후\n",
    "#df_1_2: 액면분할 이전"
   ]
  },
  {
   "cell_type": "code",
   "execution_count": 7,
   "id": "6098c7bf",
   "metadata": {},
   "outputs": [
    {
     "name": "stdout",
     "output_type": "stream",
     "text": [
      "0.6308308576814534 0.2866132763283159\n"
     ]
    }
   ],
   "source": [
    "print(df_1_1.corr().loc['거래량','abs전일대비(%)'],df_1_2.corr().loc['거래량','abs전일대비(%)'])"
   ]
  },
  {
   "cell_type": "markdown",
   "id": "bb137746",
   "metadata": {},
   "source": [
    "하지만 액면분할 이전의 상관계수는 매우낮게 나왔다. 이렇게 된다면 거래량과 abs전일대비 값이 상관성이 있다고 말할수 없다.\n",
    "무언가 놓친게 있다고 판단하여 데이터들을 그래프로 그려보았다. 이때 공분산과 관련있는 평균값도 같이 본다."
   ]
  },
  {
   "cell_type": "code",
   "execution_count": 8,
   "id": "0502efab",
   "metadata": {},
   "outputs": [
    {
     "data": {
      "image/png": "[encoded data removed]",
      "text/plain": [
       "<Figure size 720x432 with 4 Axes>"
      ]
     },
     "metadata": {
      "needs_background": "light"
     },
     "output_type": "display_data"
    }
   ],
   "source": [
    "plt.figure(figsize=(10,6))\n",
    "plt.subplot(221)\n",
    "plt.plot(df_1_1['거래량'])\n",
    "plt.axhline(y = df_1_1['거래량'].mean(),color = 'red')\n",
    "plt.subplot(222)\n",
    "plt.plot(df_1_2['거래량'])\n",
    "plt.axhline(y = df_1_2['거래량'].mean(),color = 'red')\n",
    "plt.subplot(223)\n",
    "plt.plot(df_1_1['abs전일대비(%)'])\n",
    "plt.axhline(y = df_1_1['abs전일대비(%)'].mean(),color = 'red')\n",
    "plt.subplot(224)\n",
    "plt.plot(df_1_2['abs전일대비(%)'])\n",
    "plt.axhline(y = df_1_2['abs전일대비(%)'].mean(),color = 'red')\n",
    "plt.show()\n"
   ]
  },
  {
   "cell_type": "markdown",
   "id": "3da04718",
   "metadata": {},
   "source": [
    "평균선을 한번보자 abs전일대비 그래프에 비해 거래량 그래프의 평균선이 매우 아래쪽에 위치해있는 것을 볼수있다. \n",
    "이는 전일대비는 단위가 % 이며 그 특성상 값의 변동성이 거래량만큼 크지 않기때문이다. 그럼으로 거래량데이터는 일부 이상치에 의해 피어슨 상관계수값이 크게 바뀔 것이다. 그럼으로 좀 더 정확한 분석을 위해 데이터 스케일링 필요하다. "
   ]
  },
  {
   "cell_type": "markdown",
   "id": "4a2fa051",
   "metadata": {},
   "source": [
    "Scikit-Learn에서 제공하는 스케일러에는 크게 4가지가 존재한다.\n",
    "1. StandardScaler\n",
    "    기본스케일, 평균과 표준편차를 이용한다.\n",
    "    평균을 제거하고 데이터 단위 분산으로 조정한다. 그러나 이상치가 존재한다면 평균과 표준편차에 영향을 미쳐 변환된 데이터의 확산은 매우 달라진다. (이상치에 민감하다)\n",
    "2. MiniMaxScaler\n",
    "    모든 feafure 값이 0~1사이에 있도록 데이터를 재조정한다. 다만 이상치가 있는 경우 변환된 값이 매우 좁은 범위로 압축될 수 있다.(역시 이상치에 민감하다.)(데이터의 분포의 형태를 유지하면서 스케일링을 진행할 수 있다. \n",
    "3. MaxAbsScaler\n",
    "    절댓값이 0~ 1사이에 매핑되도록 한다. 즉 -1~1 사이로 재조정한다. 양수 데이터로만 구성된 특징 데이터셋에서는 MiniMaxScaler와 유사하게 동작하며, 큰 이상치에 민감할 수 있다.\n",
    "4. RobustScaler\n",
    "    아웃라이어의 영향을 최소한 기법이다. 중앙값과 사분위수를 사용하기 때문에 StandardScaler와 비교해보면 표준화 후 동일한 값을 더 넓게 분포 시키고 있음을 확인 할 후 있다."
   ]
  },
  {
   "cell_type": "markdown",
   "id": "a7f34726",
   "metadata": {},
   "source": [
    "standardscaler를 사용해봤지만 이상치 때문에 분포가 정확하게 나오지않는다. \n",
    "이는 다른 scaler도 동일할것이다. "
   ]
  },
  {
   "cell_type": "code",
   "execution_count": 9,
   "id": "8e633ba7",
   "metadata": {
    "scrolled": true
   },
   "outputs": [
    {
     "data": {
      "text/plain": [
       "[<matplotlib.lines.Line2D at 0x1fe052058e0>]"
      ]
     },
     "execution_count": 9,
     "metadata": {},
     "output_type": "execute_result"
    },
    {
     "data": {
      "image/png": "[encoded data removed]",
      "text/plain": [
       "<Figure size 432x288 with 1 Axes>"
      ]
     },
     "metadata": {
      "needs_background": "light"
     },
     "output_type": "display_data"
    }
   ],
   "source": [
    "array_volum_000100 = df['거래량']\n",
    "scaler = StandardScaler()\n",
    "scaler.fit(array_volum_000100[:,np.newaxis])\n",
    "_000100_scaler = scaler.transform(array_volum_000100[:,np.newaxis])\n",
    "plt.plot(_000100_scaler)"
   ]
  },
  {
   "cell_type": "markdown",
   "id": "ac774fcc",
   "metadata": {},
   "source": [
    "스케일링이 의미가 없다는 것을 파악하고 로그변환을 시도해보았다\n",
    "\n",
    "\n",
    "시계열에서 변환이 필요한 이유는 시간이 흐를수록 분산이 커지는 경우 그에 따른 ‘패널티’를 줘서 분산을 일정하게 하고 정상성을 얻기 위함이다. 루트나 로그 log 는 값이 클수록 줄어드는 양이 많기 때문에 자주 사용된다. https://freshrimpsushi.github.io/posts/transformation/\n",
    "\n",
    "만약 거래량이 시계열분석에 해당하려면 시간이 지남에 따라 증가하는 추세에 있어야한다. 확인해보자"
   ]
  },
  {
   "cell_type": "code",
   "execution_count": 10,
   "id": "8afed4c3",
   "metadata": {},
   "outputs": [
    {
     "data": {
      "text/plain": [
       "count    6.670000e+02\n",
       "mean     4.016608e+05\n",
       "std      7.834511e+05\n",
       "min      0.000000e+00\n",
       "25%      1.390075e+05\n",
       "50%      2.012310e+05\n",
       "75%      3.681500e+05\n",
       "max      1.239500e+07\n",
       "Name: 거래량, dtype: float64"
      ]
     },
     "execution_count": 10,
     "metadata": {},
     "output_type": "execute_result"
    },
    {
     "data": {
      "image/png": "[encoded data removed]",
      "text/plain": [
       "<Figure size 432x288 with 1 Axes>"
      ]
     },
     "metadata": {
      "needs_background": "light"
     },
     "output_type": "display_data"
    }
   ],
   "source": [
    "plt.plot(df_1_1['거래량'])\n",
    "plt.axhline(y = df_1_1['거래량'].mean(),color = 'red')\n",
    "#df_1_1은 액면분할 이후 \n",
    "df_1_1.describe()['거래량']"
   ]
  },
  {
   "cell_type": "code",
   "execution_count": 11,
   "id": "6023b265",
   "metadata": {},
   "outputs": [
    {
     "data": {
      "text/plain": [
       "count    5.969000e+03\n",
       "mean     4.130992e+04\n",
       "std      5.482404e+04\n",
       "min      1.300000e+02\n",
       "25%      1.931400e+04\n",
       "50%      3.107600e+04\n",
       "75%      4.965400e+04\n",
       "max      2.285194e+06\n",
       "Name: 거래량, dtype: float64"
      ]
     },
     "execution_count": 11,
     "metadata": {},
     "output_type": "execute_result"
    },
    {
     "data": {
      "image/png": "[encoded data removed]",
      "text/plain": [
       "<Figure size 432x288 with 1 Axes>"
      ]
     },
     "metadata": {
      "needs_background": "light"
     },
     "output_type": "display_data"
    }
   ],
   "source": [
    "plt.plot(df_1_2['거래량'])\n",
    "plt.axhline(y = df_1_2['거래량'].mean(),color = 'red')\n",
    "#df_1_2는 액면분할 이전\n",
    "df_1_2.describe()['거래량']"
   ]
  },
  {
   "cell_type": "markdown",
   "id": "0bf13a80",
   "metadata": {},
   "source": [
    "그렇다면 액면분할 이전과 이후에는 시간이 흐를수록 분산이 커진다. 이 말이 맞을까? 확인해보면 어느정도 그러한 경향성을 파악 할 수 있다. 25%,50%,75% 값들이 액면분할이후 값이 8~10배정도더 큰것을 알 수있다. 그럼으로 시계열 분석을 위해 로그변환을 해야한다. "
   ]
  },
  {
   "cell_type": "code",
   "execution_count": 12,
   "id": "80cbb443",
   "metadata": {},
   "outputs": [],
   "source": [
    "df_volum_log_1 = np.log(df_1_1['거래량'])\n",
    "df_abs_log_1 = np.log(df_1_1['abs전일대비(%)'])\n",
    "df_volum_log_2 = np.log(df_1_2['거래량'])\n",
    "df_abs_log_2 = np.log(df_1_2['abs전일대비(%)'])"
   ]
  },
  {
   "cell_type": "code",
   "execution_count": 13,
   "id": "7b8dd274",
   "metadata": {
    "scrolled": false
   },
   "outputs": [
    {
     "data": {
      "text/plain": [
       "<matplotlib.lines.Line2D at 0x1fe036429d0>"
      ]
     },
     "execution_count": 13,
     "metadata": {},
     "output_type": "execute_result"
    },
    {
     "data": {
      "image/png": "[encoded data removed]",
      "text/plain": [
       "<Figure size 720x432 with 4 Axes>"
      ]
     },
     "metadata": {
      "needs_background": "light"
     },
     "output_type": "display_data"
    }
   ],
   "source": [
    "plt.figure(figsize=(10,6))\n",
    "plt.subplot(221)\n",
    "plt.plot(df_volum_log_1)\n",
    "plt.axhline(y = df_volum_log_1.mean(),color = 'black')\n",
    "plt.subplot(222)\n",
    "plt.plot(df_abs_log_1)\n",
    "plt.axhline(y = df_abs_log_1.mean(),color = 'red')\n",
    "plt.subplot(223)\n",
    "plt.plot(df_volum_log_2)\n",
    "plt.axhline(y = df_volum_log_2.mean(),color = 'red')\n",
    "plt.subplot(224)\n",
    "plt.plot(df_abs_log_2)\n",
    "plt.axhline(y = df_abs_log_2.mean(),color = 'red')"
   ]
  },
  {
   "cell_type": "markdown",
   "id": "7d440d03",
   "metadata": {},
   "source": [
    "이제 다시 상관관계 분석을 다시 해보자"
   ]
  },
  {
   "cell_type": "code",
   "execution_count": 14,
   "id": "ba6655f7",
   "metadata": {
    "scrolled": true
   },
   "outputs": [
    {
     "data": {
      "text/plain": [
       "(667, 667)"
      ]
     },
     "execution_count": 14,
     "metadata": {},
     "output_type": "execute_result"
    }
   ],
   "source": [
    "len(df_volum_log_1),len(df_abs_log_1)"
   ]
  },
  {
   "cell_type": "code",
   "execution_count": 15,
   "id": "a97c5c01",
   "metadata": {
    "scrolled": true
   },
   "outputs": [
    {
     "data": {
      "text/plain": [
       "numpy.float64"
      ]
     },
     "execution_count": 15,
     "metadata": {},
     "output_type": "execute_result"
    }
   ],
   "source": [
    "type(df_volum_log_1[0])"
   ]
  },
  {
   "cell_type": "code",
   "execution_count": 16,
   "id": "201053f2",
   "metadata": {},
   "outputs": [
    {
     "data": {
      "text/plain": [
       "0.03922071315328133"
      ]
     },
     "execution_count": 16,
     "metadata": {},
     "output_type": "execute_result"
    }
   ],
   "source": [
    "df_abs_log_1[0]"
   ]
  },
  {
   "cell_type": "code",
   "execution_count": 17,
   "id": "9e924497",
   "metadata": {
    "scrolled": true
   },
   "outputs": [
    {
     "data": {
      "text/html": [
       "<div>\n",
       "<style scoped>\n",
       "    .dataframe tbody tr th:only-of-type {\n",
       "        vertical-align: middle;\n",
       "    }\n",
       "\n",
       "    .dataframe tbody tr th {\n",
       "        vertical-align: top;\n",
       "    }\n",
       "\n",
       "    .dataframe thead th {\n",
       "        text-align: right;\n",
       "    }\n",
       "</style>\n",
       "<table border=\"1\" class=\"dataframe\">\n",
       "  <thead>\n",
       "    <tr style=\"text-align: right;\">\n",
       "      <th></th>\n",
       "      <th>abs전일대비(%)</th>\n",
       "      <th>거래량</th>\n",
       "    </tr>\n",
       "  </thead>\n",
       "  <tbody>\n",
       "    <tr>\n",
       "      <th>abs전일대비(%)</th>\n",
       "      <td>1.000000</td>\n",
       "      <td>0.437871</td>\n",
       "    </tr>\n",
       "    <tr>\n",
       "      <th>거래량</th>\n",
       "      <td>0.437871</td>\n",
       "      <td>1.000000</td>\n",
       "    </tr>\n",
       "  </tbody>\n",
       "</table>\n",
       "</div>"
      ],
      "text/plain": [
       "            abs전일대비(%)       거래량\n",
       "abs전일대비(%)    1.000000  0.437871\n",
       "거래량           0.437871  1.000000"
      ]
     },
     "execution_count": 17,
     "metadata": {},
     "output_type": "execute_result"
    }
   ],
   "source": [
    "df_abs_log_1 = pd.DataFrame(df_abs_log_1)\n",
    "df_volum_log_1 = pd.DataFrame(df_volum_log_1)\n",
    "df_abs_volum_1 = pd.concat([df_abs_log_1,df_volum_log_1],axis = 1)\n",
    "df_abs_volum_1.corr()"
   ]
  },
  {
   "cell_type": "code",
   "execution_count": 18,
   "id": "d805e950",
   "metadata": {
    "scrolled": false
   },
   "outputs": [
    {
     "data": {
      "text/html": [
       "<div>\n",
       "<style scoped>\n",
       "    .dataframe tbody tr th:only-of-type {\n",
       "        vertical-align: middle;\n",
       "    }\n",
       "\n",
       "    .dataframe tbody tr th {\n",
       "        vertical-align: top;\n",
       "    }\n",
       "\n",
       "    .dataframe thead th {\n",
       "        text-align: right;\n",
       "    }\n",
       "</style>\n",
       "<table border=\"1\" class=\"dataframe\">\n",
       "  <thead>\n",
       "    <tr style=\"text-align: right;\">\n",
       "      <th></th>\n",
       "      <th>abs전일대비(%)</th>\n",
       "      <th>거래량</th>\n",
       "    </tr>\n",
       "  </thead>\n",
       "  <tbody>\n",
       "    <tr>\n",
       "      <th>abs전일대비(%)</th>\n",
       "      <td>1.000000</td>\n",
       "      <td>0.159661</td>\n",
       "    </tr>\n",
       "    <tr>\n",
       "      <th>거래량</th>\n",
       "      <td>0.159661</td>\n",
       "      <td>1.000000</td>\n",
       "    </tr>\n",
       "  </tbody>\n",
       "</table>\n",
       "</div>"
      ],
      "text/plain": [
       "            abs전일대비(%)       거래량\n",
       "abs전일대비(%)    1.000000  0.159661\n",
       "거래량           0.159661  1.000000"
      ]
     },
     "execution_count": 18,
     "metadata": {},
     "output_type": "execute_result"
    }
   ],
   "source": [
    "df_abs_log_2 = pd.DataFrame(df_abs_log_2)\n",
    "df_volum_log_2 = pd.DataFrame(df_volum_log_2)\n",
    "df_abs_volum_2 = pd.concat([df_abs_log_2,df_volum_log_2],axis = 1)\n",
    "df_abs_volum_2.corr()"
   ]
  },
  {
   "cell_type": "markdown",
   "id": "192d0a66",
   "metadata": {},
   "source": [
    "지금까지 유한양행 데이터로 실행을 했다면 이제는 전체 데이터로 분석을 해볼 생각이다."
   ]
  },
  {
   "cell_type": "markdown",
   "id": "19e7a7c1",
   "metadata": {},
   "source": [
    "## 1. 결론\n",
    "## 주가랑 거래량은 특별한 상관관계가 없다. \n",
    "### -한계 -\n",
    "### 이번분석에선 유한양행에 국한해서 분석하였기에 한계가 많다.\n",
    "### 먼저 로그변환을 사용하면 0값이 결측치로 대체된다. 이는 abs컬럼에 치명적이다. 아마 많은량의 데이터가 결측치로 대체되었을 것이다.\n",
    "### 또한 주식차트를 보면 주식이 높은 반등이나 하락을 \n",
    "\n",
    "### 가지면 몇일동안 조정기간을 가진다. 또한 다른 여러경우에서 전일대비 값이 크지 않아도 거래량이 높은 경우가 있다.  \n",
    "### \n",
    "### 즉  단순히 하루 하루 비교했다는 점에서 이번 분석은 한계를 가진다.\n",
    "#### ---------------------------------------------------------------------------------------------------------------------------"
   ]
  },
  {
   "cell_type": "markdown",
   "id": "ca365633",
   "metadata": {},
   "source": [
    "# 2. 재무제표와 주가랑 어떠한 연관성이 있을까?\n",
    "### 1) 투자에서 사용되는 pair trading 방법을 사용하여 연관된 두 기업을 찾는다.\n",
    "### 2) 기업들의 재무제표가 서로 얼마나 연관성 있는지 확인한다\n",
    "### 3) 2)에서 연관성이 높다고 나온 두 기업이 1)에서 연관된 두 기업에 해당할까? \n",
    " ##### 먼저 재무제표가 연관성이 있다에 대해서 정의해야한다. 재무제표의 값들이 단순히 비슷하면 연관있는 재무제표일까? 조금만더 깊게 생각해보자 \n",
    "1. 2019년도 유한양행(코드 000100) 재무제표가 있다고 가정해보자.뉴스를 통해 기업의 상황을 어느정돈 알 순 있어도 하나하나의 이벤트가 전체적인 기업에 어떠한 영향을 미치는지 실시간으로 알기 어렵다. 하지만 연말 재무제표를 보면 많은 이벤트들이 이 기업에 어떠한 영향을 미쳤는 가는 파악이 가능하다. \n",
    "2. 2019년도의 a기업의 재무제표와 2020년도의 a기업의 재무제표를 비교해보았을때 절대적인 값은 다를지언정 전체적인 상승과 하락이 비슷하다면 결국 재무제표 내의값들은 유기적으로 연결돼있다고 볼 수있을것이다.\n",
    "(2) 는 추가적으로 확인할 예정\n",
    "\n",
    "그럼으로 재무제표가 서로 연관성이 있는 기업이라면 두 기업의 재무제표 내의 값들이 비슷하게 움직일 것이다. \n"
   ]
  },
  {
   "cell_type": "markdown",
   "id": "ac5e671d",
   "metadata": {},
   "source": [
    "먼저 코스피에 상장돼있는 기업들의 종목코드를 들고온다. "
   ]
  },
  {
   "cell_type": "code",
   "execution_count": 19,
   "id": "aeb84d5e",
   "metadata": {},
   "outputs": [],
   "source": [
    "def getStockCode(market):\n",
    "    if market == 'kosdaq':\n",
    "        url_market = 'kosdaqMkt'\n",
    "    elif market == 'kospi':\n",
    "        url_market = 'stockMkt'\n",
    "    else:\n",
    "        print('invalid market ')\n",
    "        return\n",
    "    url = 'http://kind.krx.co.kr/corpgeneral/corpList.do?method=download&searchType=13&marketType=%s' % url_market\n",
    "    df_1 = pd.read_html(url, header=0)[0]\n",
    "    return df_1"
   ]
  },
  {
   "cell_type": "markdown",
   "id": "0a8db372",
   "metadata": {},
   "source": [
    "code_list에는 종목코드들이 int형으로 들어있다 그럼으로 종목코드 6자리(0이 앞에 있는경우)가 맞춰져있지 않는 경우가 있었다. 그렇기에 str형으로 바꿔주고 앞에 생략된 0을 추가해주었다. "
   ]
  },
  {
   "cell_type": "code",
   "execution_count": 20,
   "id": "062d4d78",
   "metadata": {},
   "outputs": [],
   "source": [
    "if __name__ == '__main__':\n",
    "    result_df = getStockCode('kospi')\n",
    "    result_df.to_csv('kospi.csv')\n",
    "    \n",
    "result_want = result_df[['회사명', '종목코드']]\n",
    "result_want['종목코드']\n",
    "code_list = list(result_want['종목코드'])\n",
    "str_code_list = []\n",
    "for k in code_list:\n",
    "    str_code_list.append(str(k))\n",
    "new_code_list = []\n",
    "for i in str_code_list:\n",
    "    x = '0'*(6 - len(i)) + i\n",
    "    new_code_list.append(x)"
   ]
  },
  {
   "cell_type": "markdown",
   "id": "0e50998c",
   "metadata": {},
   "source": [
    "이제 new_code_list에 있는 기업코드를 이용하여 네이버금융에 있는 기업의 재무제표 테이블을read_html로 들고온다. \n",
    "여러 년도가 있지만 먼저 2019년도것을 들고온다. 그리고 결측치가 많은 컬럼들을 삭제한 후 row를 기준으로 결측치가 있는 기업들을 삭제한다. \n",
    "여기서 결측치를 처리하는 방법중 삭제를 택한이유는 여러가지가 있다.\n",
    "1. \n",
    "시가총액         798\n",
    "상장주식수        798\n",
    "ROE(%)       825\n",
    "주당배당금        825\n",
    "위 네가지 컬럼은 모두 결측치 비율이 너무 크기에 삭제를 했다.\n",
    "2. 나머지 결측치들은 row를 기준으로 삭제를했다. 중앙값, 최빈값, 평균값으로 대체를 할까 생각을 했는데 결측치 나름의 이유가 있을것으로 판단하여 대체하지 않고 그냥 삭제하였다."
   ]
  },
  {
   "cell_type": "code",
   "execution_count": 21,
   "id": "e706c3af",
   "metadata": {},
   "outputs": [],
   "source": [
    "fs_df_2019 = pd.read_csv('fs_df_2019.csv')"
   ]
  },
  {
   "cell_type": "code",
   "execution_count": 22,
   "id": "44759887",
   "metadata": {},
   "outputs": [],
   "source": [
    "fs_df_2019.index = new_code_list"
   ]
  },
  {
   "cell_type": "code",
   "execution_count": 23,
   "id": "e57fefc9",
   "metadata": {},
   "outputs": [
    {
     "data": {
      "text/plain": [
       "매출액           39\n",
       "영업이익          38\n",
       "당기순이익         38\n",
       "영업이익률         39\n",
       "순이익률          39\n",
       "ROE(지배주주)     62\n",
       "부채비율          38\n",
       "당좌비율          85\n",
       "유보율           38\n",
       "EPS(원)        38\n",
       "PER(배)        59\n",
       "BPS(원)        38\n",
       "PBR(배)        38\n",
       "주당배당금(원)     102\n",
       "시가배당률(%)     102\n",
       "배당성향(%)       40\n",
       "시가총액         798\n",
       "상장주식수        798\n",
       "ROE(%)       825\n",
       "주당배당금        825\n",
       "dtype: int64"
      ]
     },
     "execution_count": 23,
     "metadata": {},
     "output_type": "execute_result"
    }
   ],
   "source": [
    "fs_df_2019.isna().sum()"
   ]
  },
  {
   "cell_type": "code",
   "execution_count": 24,
   "id": "5aca7e94",
   "metadata": {},
   "outputs": [],
   "source": [
    "fs_df_2019.drop(['시가총액','상장주식수','ROE(%)','주당배당금'],axis = 'columns',inplace = True)\n",
    "fs_df_2019.dropna(inplace = True)"
   ]
  },
  {
   "cell_type": "markdown",
   "id": "48bc434d",
   "metadata": {},
   "source": [
    "데이터 프레임안에 있는 값들이 숫자형이 아니기에 상관관계 분석을 할 수 없다. 그럼으로 astype으로 모두 숫자로 바꿀 생각이였지만 '-'이라는 문자형이 존재해 오류가 떴다. 그렇기에 '-'가 있는 컬럼과 row값을 뽑아봤다."
   ]
  },
  {
   "cell_type": "code",
   "execution_count": 25,
   "id": "3dfea62e",
   "metadata": {},
   "outputs": [
    {
     "name": "stdout",
     "output_type": "stream",
     "text": [
      "2 237\n",
      "13 12\n",
      "13 15\n",
      "13 17\n",
      "13 23\n",
      "13 24\n",
      "13 28\n",
      "13 32\n",
      "13 37\n",
      "13 46\n",
      "13 50\n",
      "13 53\n",
      "13 56\n",
      "13 59\n",
      "13 61\n",
      "13 64\n",
      "13 66\n",
      "13 70\n",
      "13 75\n",
      "13 81\n",
      "13 90\n",
      "13 100\n",
      "13 105\n",
      "13 106\n",
      "13 107\n",
      "13 111\n",
      "13 114\n",
      "13 118\n",
      "13 123\n",
      "13 131\n",
      "13 132\n",
      "13 137\n",
      "13 138\n",
      "13 142\n",
      "13 143\n",
      "13 144\n",
      "13 149\n",
      "13 152\n",
      "13 153\n",
      "13 159\n",
      "13 170\n",
      "13 175\n",
      "13 176\n",
      "13 177\n",
      "13 179\n",
      "13 180\n",
      "13 181\n",
      "13 182\n",
      "13 184\n",
      "13 191\n",
      "13 195\n",
      "13 196\n",
      "13 200\n",
      "13 201\n",
      "13 210\n",
      "13 217\n",
      "13 221\n",
      "13 222\n",
      "13 229\n",
      "13 232\n",
      "13 233\n",
      "13 238\n",
      "13 241\n",
      "13 242\n",
      "13 248\n",
      "13 250\n",
      "13 252\n",
      "13 253\n",
      "13 254\n",
      "13 260\n",
      "13 274\n",
      "13 275\n",
      "13 276\n",
      "13 279\n",
      "13 280\n",
      "13 284\n",
      "13 286\n",
      "13 288\n",
      "13 294\n",
      "13 295\n",
      "13 298\n",
      "13 300\n",
      "13 305\n",
      "13 306\n",
      "13 307\n",
      "13 311\n",
      "13 319\n",
      "13 320\n",
      "13 329\n",
      "13 330\n",
      "13 331\n",
      "13 332\n",
      "13 336\n",
      "13 337\n",
      "13 339\n",
      "13 341\n",
      "13 353\n",
      "13 356\n",
      "13 364\n",
      "13 367\n",
      "13 374\n",
      "13 378\n",
      "13 379\n",
      "13 383\n",
      "13 385\n",
      "13 388\n",
      "13 407\n",
      "13 418\n",
      "13 424\n",
      "13 429\n",
      "13 438\n",
      "13 439\n",
      "13 441\n",
      "13 444\n",
      "13 447\n",
      "13 449\n",
      "13 451\n",
      "13 454\n",
      "13 458\n",
      "13 461\n",
      "13 467\n",
      "13 470\n",
      "13 473\n",
      "13 476\n",
      "13 477\n",
      "13 478\n",
      "13 479\n",
      "13 481\n",
      "13 486\n",
      "13 491\n",
      "13 492\n",
      "13 500\n",
      "13 501\n",
      "13 505\n",
      "13 506\n",
      "13 508\n",
      "13 513\n",
      "13 518\n",
      "13 526\n",
      "13 532\n",
      "13 534\n",
      "13 535\n",
      "13 536\n",
      "13 539\n",
      "13 540\n",
      "13 541\n",
      "13 542\n",
      "13 543\n",
      "13 545\n",
      "13 548\n",
      "13 549\n",
      "13 552\n",
      "13 554\n",
      "13 557\n",
      "13 559\n",
      "13 560\n",
      "13 568\n",
      "13 577\n",
      "13 579\n",
      "13 590\n",
      "13 591\n",
      "13 606\n",
      "13 608\n",
      "13 617\n",
      "13 619\n",
      "13 622\n",
      "13 623\n",
      "13 627\n",
      "13 630\n",
      "13 632\n",
      "13 633\n",
      "13 637\n",
      "13 639\n",
      "13 642\n",
      "13 654\n",
      "14 12\n",
      "14 15\n",
      "14 17\n",
      "14 23\n",
      "14 24\n",
      "14 28\n",
      "14 32\n",
      "14 37\n",
      "14 46\n",
      "14 50\n",
      "14 53\n",
      "14 56\n",
      "14 59\n",
      "14 61\n",
      "14 64\n",
      "14 66\n",
      "14 70\n",
      "14 75\n",
      "14 81\n",
      "14 90\n",
      "14 100\n",
      "14 105\n",
      "14 106\n",
      "14 107\n",
      "14 111\n",
      "14 114\n",
      "14 118\n",
      "14 123\n",
      "14 131\n",
      "14 132\n",
      "14 137\n",
      "14 138\n",
      "14 142\n",
      "14 143\n",
      "14 144\n",
      "14 149\n",
      "14 152\n",
      "14 153\n",
      "14 159\n",
      "14 170\n",
      "14 175\n",
      "14 176\n",
      "14 177\n",
      "14 179\n",
      "14 180\n",
      "14 181\n",
      "14 182\n",
      "14 184\n",
      "14 191\n",
      "14 195\n",
      "14 196\n",
      "14 200\n",
      "14 201\n",
      "14 210\n",
      "14 217\n",
      "14 221\n",
      "14 222\n",
      "14 229\n",
      "14 232\n",
      "14 233\n",
      "14 238\n",
      "14 241\n",
      "14 242\n",
      "14 248\n",
      "14 250\n",
      "14 252\n",
      "14 253\n",
      "14 254\n",
      "14 260\n",
      "14 274\n",
      "14 275\n",
      "14 276\n",
      "14 279\n",
      "14 280\n",
      "14 284\n",
      "14 286\n",
      "14 288\n",
      "14 294\n",
      "14 295\n",
      "14 298\n",
      "14 300\n",
      "14 305\n",
      "14 306\n",
      "14 307\n",
      "14 311\n",
      "14 319\n",
      "14 320\n",
      "14 329\n",
      "14 330\n",
      "14 331\n",
      "14 332\n",
      "14 336\n",
      "14 337\n",
      "14 339\n",
      "14 341\n",
      "14 353\n",
      "14 356\n",
      "14 364\n",
      "14 367\n",
      "14 374\n",
      "14 378\n",
      "14 379\n",
      "14 383\n",
      "14 385\n",
      "14 388\n",
      "14 407\n",
      "14 418\n",
      "14 424\n",
      "14 429\n",
      "14 438\n",
      "14 439\n",
      "14 441\n",
      "14 444\n",
      "14 447\n",
      "14 449\n",
      "14 451\n",
      "14 454\n",
      "14 458\n",
      "14 461\n",
      "14 467\n",
      "14 470\n",
      "14 473\n",
      "14 476\n",
      "14 477\n",
      "14 478\n",
      "14 479\n",
      "14 481\n",
      "14 486\n",
      "14 491\n",
      "14 492\n",
      "14 500\n",
      "14 501\n",
      "14 505\n",
      "14 506\n",
      "14 508\n",
      "14 513\n",
      "14 518\n",
      "14 526\n",
      "14 532\n",
      "14 534\n",
      "14 535\n",
      "14 536\n",
      "14 539\n",
      "14 540\n",
      "14 541\n",
      "14 542\n",
      "14 543\n",
      "14 545\n",
      "14 548\n",
      "14 549\n",
      "14 552\n",
      "14 554\n",
      "14 557\n",
      "14 559\n",
      "14 560\n",
      "14 568\n",
      "14 577\n",
      "14 579\n",
      "14 590\n",
      "14 591\n",
      "14 606\n",
      "14 608\n",
      "14 617\n",
      "14 619\n",
      "14 622\n",
      "14 623\n",
      "14 627\n",
      "14 630\n",
      "14 632\n",
      "14 633\n",
      "14 637\n",
      "14 639\n",
      "14 642\n",
      "14 654\n",
      "15 12\n",
      "15 15\n",
      "15 17\n",
      "15 23\n",
      "15 24\n",
      "15 28\n",
      "15 32\n",
      "15 37\n",
      "15 46\n",
      "15 50\n",
      "15 53\n",
      "15 56\n",
      "15 59\n",
      "15 61\n",
      "15 64\n",
      "15 66\n",
      "15 70\n",
      "15 75\n",
      "15 81\n",
      "15 90\n",
      "15 100\n",
      "15 105\n",
      "15 106\n",
      "15 107\n",
      "15 111\n",
      "15 114\n",
      "15 118\n",
      "15 123\n",
      "15 131\n",
      "15 132\n",
      "15 137\n",
      "15 138\n",
      "15 142\n",
      "15 143\n",
      "15 144\n",
      "15 149\n",
      "15 152\n",
      "15 153\n",
      "15 159\n",
      "15 170\n",
      "15 175\n",
      "15 176\n",
      "15 177\n",
      "15 179\n",
      "15 180\n",
      "15 181\n",
      "15 182\n",
      "15 184\n",
      "15 191\n",
      "15 195\n",
      "15 196\n",
      "15 200\n",
      "15 201\n",
      "15 210\n",
      "15 217\n",
      "15 221\n",
      "15 222\n",
      "15 229\n",
      "15 232\n",
      "15 233\n",
      "15 238\n",
      "15 241\n",
      "15 242\n",
      "15 248\n",
      "15 250\n",
      "15 252\n",
      "15 253\n",
      "15 254\n",
      "15 260\n",
      "15 274\n",
      "15 275\n",
      "15 276\n",
      "15 279\n",
      "15 280\n",
      "15 284\n",
      "15 286\n",
      "15 288\n",
      "15 294\n",
      "15 295\n",
      "15 298\n",
      "15 300\n",
      "15 305\n",
      "15 306\n",
      "15 307\n",
      "15 311\n",
      "15 319\n",
      "15 320\n",
      "15 329\n",
      "15 330\n",
      "15 331\n",
      "15 332\n",
      "15 336\n",
      "15 337\n",
      "15 339\n",
      "15 341\n",
      "15 353\n",
      "15 356\n",
      "15 364\n",
      "15 367\n",
      "15 374\n",
      "15 378\n",
      "15 379\n",
      "15 383\n",
      "15 385\n",
      "15 388\n",
      "15 407\n",
      "15 418\n",
      "15 424\n",
      "15 429\n",
      "15 438\n",
      "15 439\n",
      "15 441\n",
      "15 444\n",
      "15 447\n",
      "15 449\n",
      "15 451\n",
      "15 454\n",
      "15 458\n",
      "15 461\n",
      "15 467\n",
      "15 470\n",
      "15 473\n",
      "15 476\n",
      "15 477\n",
      "15 478\n",
      "15 479\n",
      "15 481\n",
      "15 486\n",
      "15 491\n",
      "15 492\n",
      "15 500\n",
      "15 501\n",
      "15 505\n",
      "15 506\n",
      "15 508\n",
      "15 513\n",
      "15 518\n",
      "15 526\n",
      "15 532\n",
      "15 535\n",
      "15 536\n",
      "15 539\n",
      "15 540\n",
      "15 541\n",
      "15 542\n",
      "15 543\n",
      "15 545\n",
      "15 548\n",
      "15 549\n",
      "15 552\n",
      "15 554\n",
      "15 557\n",
      "15 559\n",
      "15 560\n",
      "15 568\n",
      "15 577\n",
      "15 579\n",
      "15 590\n",
      "15 591\n",
      "15 606\n",
      "15 608\n",
      "15 617\n",
      "15 619\n",
      "15 622\n",
      "15 623\n",
      "15 627\n",
      "15 630\n",
      "15 632\n",
      "15 633\n",
      "15 637\n",
      "15 639\n",
      "15 642\n",
      "15 654\n"
     ]
    }
   ],
   "source": [
    "column_number = -1\n",
    "column_list = []\n",
    "row_list = []\n",
    "for i in fs_df_2019.columns:\n",
    "    \n",
    "    row_number = -1\n",
    "    column_number += 1\n",
    "    for k in fs_df_2019[i]:\n",
    "        #자꾸 float으로 변경할 수 없다고 나옴\n",
    "        row_number += 1\n",
    "        if type(k) == str:\n",
    "            if '-' in k and len(k) == 1: \n",
    "                    column_list.append(column_number)\n",
    "                    row_list.append(row_number)\n",
    "                    print(column_number,row_number)\n"
   ]
  },
  {
   "cell_type": "code",
   "execution_count": 26,
   "id": "8cb48478",
   "metadata": {
    "scrolled": false
   },
   "outputs": [
    {
     "data": {
      "text/plain": [
       "13    174\n",
       "14    174\n",
       "15    173\n",
       "2       1\n",
       "dtype: int64"
      ]
     },
     "execution_count": 26,
     "metadata": {},
     "output_type": "execute_result"
    }
   ],
   "source": [
    "pd.DataFrame(column_list).value_counts()"
   ]
  },
  {
   "cell_type": "markdown",
   "id": "65cab6e4",
   "metadata": {},
   "source": [
    "13,14,15컬럼에 '-' 즉 결측치가 추가로 존재했다. 개수는 174이다. \n",
    "row를 삭제하기에는 데이터 손실이 너무 많기에 차라리 13,14,15 컬럼을 삭제한다. \n",
    "그리고 기업코드 071090 row는 그냥 row를 삭제한다. \n",
    "\n",
    "마지막으로 astype으로 float형으로 바꿔준다. "
   ]
  },
  {
   "cell_type": "code",
   "execution_count": 27,
   "id": "1f2192ad",
   "metadata": {},
   "outputs": [],
   "source": [
    "fs_df_2019.drop(['주당배당금(원)','시가배당률(%)','배당성향(%)'],axis = 1, inplace = True)"
   ]
  },
  {
   "cell_type": "code",
   "execution_count": 28,
   "id": "ce30cbc6",
   "metadata": {},
   "outputs": [],
   "source": [
    "fs_df_2019.drop(index = '071090' ,axis = 0, inplace = True)"
   ]
  },
  {
   "cell_type": "code",
   "execution_count": 29,
   "id": "cf517bde",
   "metadata": {},
   "outputs": [],
   "source": [
    "fs_df_2019 = fs_df_2019.astype(float)"
   ]
  },
  {
   "cell_type": "code",
   "execution_count": 30,
   "id": "889eb1df",
   "metadata": {},
   "outputs": [
    {
     "data": {
      "text/html": [
       "<div>\n",
       "<style scoped>\n",
       "    .dataframe tbody tr th:only-of-type {\n",
       "        vertical-align: middle;\n",
       "    }\n",
       "\n",
       "    .dataframe tbody tr th {\n",
       "        vertical-align: top;\n",
       "    }\n",
       "\n",
       "    .dataframe thead th {\n",
       "        text-align: right;\n",
       "    }\n",
       "</style>\n",
       "<table border=\"1\" class=\"dataframe\">\n",
       "  <thead>\n",
       "    <tr style=\"text-align: right;\">\n",
       "      <th></th>\n",
       "      <th>004840</th>\n",
       "      <th>155660</th>\n",
       "      <th>078930</th>\n",
       "      <th>294870</th>\n",
       "      <th>001390</th>\n",
       "      <th>025000</th>\n",
       "      <th>044450</th>\n",
       "      <th>058860</th>\n",
       "      <th>011070</th>\n",
       "      <th>037560</th>\n",
       "      <th>...</th>\n",
       "      <th>016450</th>\n",
       "      <th>010420</th>\n",
       "      <th>014130</th>\n",
       "      <th>005110</th>\n",
       "      <th>005440</th>\n",
       "      <th>010620</th>\n",
       "      <th>011210</th>\n",
       "      <th>011760</th>\n",
       "      <th>227840</th>\n",
       "      <th>010690</th>\n",
       "    </tr>\n",
       "  </thead>\n",
       "  <tbody>\n",
       "    <tr>\n",
       "      <th>004840</th>\n",
       "      <td>1.000000</td>\n",
       "      <td>0.996447</td>\n",
       "      <td>0.613743</td>\n",
       "      <td>0.830441</td>\n",
       "      <td>0.866200</td>\n",
       "      <td>0.950220</td>\n",
       "      <td>0.988708</td>\n",
       "      <td>0.877975</td>\n",
       "      <td>0.868938</td>\n",
       "      <td>0.855555</td>\n",
       "      <td>...</td>\n",
       "      <td>0.421866</td>\n",
       "      <td>0.797755</td>\n",
       "      <td>0.858573</td>\n",
       "      <td>0.767741</td>\n",
       "      <td>0.696056</td>\n",
       "      <td>0.951531</td>\n",
       "      <td>0.929143</td>\n",
       "      <td>0.682696</td>\n",
       "      <td>0.954777</td>\n",
       "      <td>0.774137</td>\n",
       "    </tr>\n",
       "    <tr>\n",
       "      <th>155660</th>\n",
       "      <td>0.996447</td>\n",
       "      <td>1.000000</td>\n",
       "      <td>0.582584</td>\n",
       "      <td>0.819534</td>\n",
       "      <td>0.864521</td>\n",
       "      <td>0.972595</td>\n",
       "      <td>0.996962</td>\n",
       "      <td>0.856816</td>\n",
       "      <td>0.856339</td>\n",
       "      <td>0.836506</td>\n",
       "      <td>...</td>\n",
       "      <td>0.378782</td>\n",
       "      <td>0.772644</td>\n",
       "      <td>0.836311</td>\n",
       "      <td>0.743666</td>\n",
       "      <td>0.663052</td>\n",
       "      <td>0.950936</td>\n",
       "      <td>0.923551</td>\n",
       "      <td>0.654785</td>\n",
       "      <td>0.975419</td>\n",
       "      <td>0.744309</td>\n",
       "    </tr>\n",
       "    <tr>\n",
       "      <th>078930</th>\n",
       "      <td>0.613743</td>\n",
       "      <td>0.582584</td>\n",
       "      <td>1.000000</td>\n",
       "      <td>0.929860</td>\n",
       "      <td>0.868440</td>\n",
       "      <td>0.458537</td>\n",
       "      <td>0.532738</td>\n",
       "      <td>0.913671</td>\n",
       "      <td>0.912658</td>\n",
       "      <td>0.916192</td>\n",
       "      <td>...</td>\n",
       "      <td>0.964335</td>\n",
       "      <td>0.958407</td>\n",
       "      <td>0.926392</td>\n",
       "      <td>0.887711</td>\n",
       "      <td>0.989165</td>\n",
       "      <td>0.781737</td>\n",
       "      <td>0.834637</td>\n",
       "      <td>0.991184</td>\n",
       "      <td>0.471606</td>\n",
       "      <td>0.967841</td>\n",
       "    </tr>\n",
       "    <tr>\n",
       "      <th>294870</th>\n",
       "      <td>0.830441</td>\n",
       "      <td>0.819534</td>\n",
       "      <td>0.929860</td>\n",
       "      <td>1.000000</td>\n",
       "      <td>0.987246</td>\n",
       "      <td>0.742983</td>\n",
       "      <td>0.788937</td>\n",
       "      <td>0.980125</td>\n",
       "      <td>0.990938</td>\n",
       "      <td>0.969519</td>\n",
       "      <td>...</td>\n",
       "      <td>0.808425</td>\n",
       "      <td>0.976326</td>\n",
       "      <td>0.980633</td>\n",
       "      <td>0.900717</td>\n",
       "      <td>0.947588</td>\n",
       "      <td>0.943401</td>\n",
       "      <td>0.965581</td>\n",
       "      <td>0.952649</td>\n",
       "      <td>0.749828</td>\n",
       "      <td>0.965392</td>\n",
       "    </tr>\n",
       "    <tr>\n",
       "      <th>001390</th>\n",
       "      <td>0.866200</td>\n",
       "      <td>0.864521</td>\n",
       "      <td>0.868440</td>\n",
       "      <td>0.987246</td>\n",
       "      <td>1.000000</td>\n",
       "      <td>0.808402</td>\n",
       "      <td>0.840913</td>\n",
       "      <td>0.964711</td>\n",
       "      <td>0.977656</td>\n",
       "      <td>0.943733</td>\n",
       "      <td>...</td>\n",
       "      <td>0.728734</td>\n",
       "      <td>0.947607</td>\n",
       "      <td>0.962956</td>\n",
       "      <td>0.858837</td>\n",
       "      <td>0.898037</td>\n",
       "      <td>0.958068</td>\n",
       "      <td>0.969984</td>\n",
       "      <td>0.905850</td>\n",
       "      <td>0.810849</td>\n",
       "      <td>0.928656</td>\n",
       "    </tr>\n",
       "    <tr>\n",
       "      <th>...</th>\n",
       "      <td>...</td>\n",
       "      <td>...</td>\n",
       "      <td>...</td>\n",
       "      <td>...</td>\n",
       "      <td>...</td>\n",
       "      <td>...</td>\n",
       "      <td>...</td>\n",
       "      <td>...</td>\n",
       "      <td>...</td>\n",
       "      <td>...</td>\n",
       "      <td>...</td>\n",
       "      <td>...</td>\n",
       "      <td>...</td>\n",
       "      <td>...</td>\n",
       "      <td>...</td>\n",
       "      <td>...</td>\n",
       "      <td>...</td>\n",
       "      <td>...</td>\n",
       "      <td>...</td>\n",
       "      <td>...</td>\n",
       "      <td>...</td>\n",
       "    </tr>\n",
       "    <tr>\n",
       "      <th>010620</th>\n",
       "      <td>0.951531</td>\n",
       "      <td>0.950936</td>\n",
       "      <td>0.781737</td>\n",
       "      <td>0.943401</td>\n",
       "      <td>0.958068</td>\n",
       "      <td>0.909984</td>\n",
       "      <td>0.933051</td>\n",
       "      <td>0.953029</td>\n",
       "      <td>0.968025</td>\n",
       "      <td>0.953590</td>\n",
       "      <td>...</td>\n",
       "      <td>0.605009</td>\n",
       "      <td>0.906891</td>\n",
       "      <td>0.941610</td>\n",
       "      <td>0.871969</td>\n",
       "      <td>0.831894</td>\n",
       "      <td>1.000000</td>\n",
       "      <td>0.995661</td>\n",
       "      <td>0.836188</td>\n",
       "      <td>0.917227</td>\n",
       "      <td>0.885429</td>\n",
       "    </tr>\n",
       "    <tr>\n",
       "      <th>011210</th>\n",
       "      <td>0.929143</td>\n",
       "      <td>0.923551</td>\n",
       "      <td>0.834637</td>\n",
       "      <td>0.965581</td>\n",
       "      <td>0.969984</td>\n",
       "      <td>0.867985</td>\n",
       "      <td>0.899543</td>\n",
       "      <td>0.974771</td>\n",
       "      <td>0.986643</td>\n",
       "      <td>0.975995</td>\n",
       "      <td>...</td>\n",
       "      <td>0.675920</td>\n",
       "      <td>0.941108</td>\n",
       "      <td>0.966801</td>\n",
       "      <td>0.900131</td>\n",
       "      <td>0.879277</td>\n",
       "      <td>0.995661</td>\n",
       "      <td>1.000000</td>\n",
       "      <td>0.883314</td>\n",
       "      <td>0.876491</td>\n",
       "      <td>0.923896</td>\n",
       "    </tr>\n",
       "    <tr>\n",
       "      <th>011760</th>\n",
       "      <td>0.682696</td>\n",
       "      <td>0.654785</td>\n",
       "      <td>0.991184</td>\n",
       "      <td>0.952649</td>\n",
       "      <td>0.905850</td>\n",
       "      <td>0.537346</td>\n",
       "      <td>0.605303</td>\n",
       "      <td>0.948335</td>\n",
       "      <td>0.946045</td>\n",
       "      <td>0.949863</td>\n",
       "      <td>...</td>\n",
       "      <td>0.941561</td>\n",
       "      <td>0.982955</td>\n",
       "      <td>0.959094</td>\n",
       "      <td>0.912235</td>\n",
       "      <td>0.996649</td>\n",
       "      <td>0.836188</td>\n",
       "      <td>0.883314</td>\n",
       "      <td>1.000000</td>\n",
       "      <td>0.549891</td>\n",
       "      <td>0.988124</td>\n",
       "    </tr>\n",
       "    <tr>\n",
       "      <th>227840</th>\n",
       "      <td>0.954777</td>\n",
       "      <td>0.975419</td>\n",
       "      <td>0.471606</td>\n",
       "      <td>0.749828</td>\n",
       "      <td>0.810849</td>\n",
       "      <td>0.999352</td>\n",
       "      <td>0.984374</td>\n",
       "      <td>0.765510</td>\n",
       "      <td>0.789367</td>\n",
       "      <td>0.761255</td>\n",
       "      <td>...</td>\n",
       "      <td>0.239738</td>\n",
       "      <td>0.671034</td>\n",
       "      <td>0.741060</td>\n",
       "      <td>0.662235</td>\n",
       "      <td>0.544964</td>\n",
       "      <td>0.917227</td>\n",
       "      <td>0.876491</td>\n",
       "      <td>0.549891</td>\n",
       "      <td>1.000000</td>\n",
       "      <td>0.633085</td>\n",
       "    </tr>\n",
       "    <tr>\n",
       "      <th>010690</th>\n",
       "      <td>0.774137</td>\n",
       "      <td>0.744309</td>\n",
       "      <td>0.967841</td>\n",
       "      <td>0.965392</td>\n",
       "      <td>0.928656</td>\n",
       "      <td>0.620788</td>\n",
       "      <td>0.697794</td>\n",
       "      <td>0.981646</td>\n",
       "      <td>0.968803</td>\n",
       "      <td>0.973663</td>\n",
       "      <td>...</td>\n",
       "      <td>0.898998</td>\n",
       "      <td>0.997067</td>\n",
       "      <td>0.987795</td>\n",
       "      <td>0.929316</td>\n",
       "      <td>0.992865</td>\n",
       "      <td>0.885429</td>\n",
       "      <td>0.923896</td>\n",
       "      <td>0.988124</td>\n",
       "      <td>0.633085</td>\n",
       "      <td>1.000000</td>\n",
       "    </tr>\n",
       "  </tbody>\n",
       "</table>\n",
       "<p>660 rows × 660 columns</p>\n",
       "</div>"
      ],
      "text/plain": [
       "          004840    155660    078930    294870    001390    025000    044450  \\\n",
       "004840  1.000000  0.996447  0.613743  0.830441  0.866200  0.950220  0.988708   \n",
       "155660  0.996447  1.000000  0.582584  0.819534  0.864521  0.972595  0.996962   \n",
       "078930  0.613743  0.582584  1.000000  0.929860  0.868440  0.458537  0.532738   \n",
       "294870  0.830441  0.819534  0.929860  1.000000  0.987246  0.742983  0.788937   \n",
       "001390  0.866200  0.864521  0.868440  0.987246  1.000000  0.808402  0.840913   \n",
       "...          ...       ...       ...       ...       ...       ...       ...   \n",
       "010620  0.951531  0.950936  0.781737  0.943401  0.958068  0.909984  0.933051   \n",
       "011210  0.929143  0.923551  0.834637  0.965581  0.969984  0.867985  0.899543   \n",
       "011760  0.682696  0.654785  0.991184  0.952649  0.905850  0.537346  0.605303   \n",
       "227840  0.954777  0.975419  0.471606  0.749828  0.810849  0.999352  0.984374   \n",
       "010690  0.774137  0.744309  0.967841  0.965392  0.928656  0.620788  0.697794   \n",
       "\n",
       "          058860    011070    037560  ...    016450    010420    014130  \\\n",
       "004840  0.877975  0.868938  0.855555  ...  0.421866  0.797755  0.858573   \n",
       "155660  0.856816  0.856339  0.836506  ...  0.378782  0.772644  0.836311   \n",
       "078930  0.913671  0.912658  0.916192  ...  0.964335  0.958407  0.926392   \n",
       "294870  0.980125  0.990938  0.969519  ...  0.808425  0.976326  0.980633   \n",
       "001390  0.964711  0.977656  0.943733  ...  0.728734  0.947607  0.962956   \n",
       "...          ...       ...       ...  ...       ...       ...       ...   \n",
       "010620  0.953029  0.968025  0.953590  ...  0.605009  0.906891  0.941610   \n",
       "011210  0.974771  0.986643  0.975995  ...  0.675920  0.941108  0.966801   \n",
       "011760  0.948335  0.946045  0.949863  ...  0.941561  0.982955  0.959094   \n",
       "227840  0.765510  0.789367  0.761255  ...  0.239738  0.671034  0.741060   \n",
       "010690  0.981646  0.968803  0.973663  ...  0.898998  0.997067  0.987795   \n",
       "\n",
       "          005110    005440    010620    011210    011760    227840    010690  \n",
       "004840  0.767741  0.696056  0.951531  0.929143  0.682696  0.954777  0.774137  \n",
       "155660  0.743666  0.663052  0.950936  0.923551  0.654785  0.975419  0.744309  \n",
       "078930  0.887711  0.989165  0.781737  0.834637  0.991184  0.471606  0.967841  \n",
       "294870  0.900717  0.947588  0.943401  0.965581  0.952649  0.749828  0.965392  \n",
       "001390  0.858837  0.898037  0.958068  0.969984  0.905850  0.810849  0.928656  \n",
       "...          ...       ...       ...       ...       ...       ...       ...  \n",
       "010620  0.871969  0.831894  1.000000  0.995661  0.836188  0.917227  0.885429  \n",
       "011210  0.900131  0.879277  0.995661  1.000000  0.883314  0.876491  0.923896  \n",
       "011760  0.912235  0.996649  0.836188  0.883314  1.000000  0.549891  0.988124  \n",
       "227840  0.662235  0.544964  0.917227  0.876491  0.549891  1.000000  0.633085  \n",
       "010690  0.929316  0.992865  0.885429  0.923896  0.988124  0.633085  1.000000  \n",
       "\n",
       "[660 rows x 660 columns]"
      ]
     },
     "execution_count": 30,
     "metadata": {},
     "output_type": "execute_result"
    }
   ],
   "source": [
    "fs_df_2019.T.corr()"
   ]
  },
  {
   "cell_type": "markdown",
   "id": "fcd5c9a4",
   "metadata": {},
   "source": [
    "위 분석이 확실한지 확인하기 위해서 두 상관계수가 높은 두 기업의 그래프를 그려본다."
   ]
  },
  {
   "cell_type": "code",
   "execution_count": 31,
   "id": "9f6853f8",
   "metadata": {},
   "outputs": [
    {
     "data": {
      "text/plain": [
       "[<matplotlib.lines.Line2D at 0x1fe05680fd0>]"
      ]
     },
     "execution_count": 31,
     "metadata": {},
     "output_type": "execute_result"
    },
    {
     "data": {
      "image/png": "[encoded data removed]",
      "text/plain": [
       "<Figure size 432x288 with 1 Axes>"
      ]
     },
     "metadata": {
      "needs_background": "light"
     },
     "output_type": "display_data"
    }
   ],
   "source": [
    "plt.plot(fs_df_2019.loc['155660',:])\n",
    "plt.plot(fs_df_2019.loc['000210',:])"
   ]
  },
  {
   "cell_type": "markdown",
   "id": "84df239b",
   "metadata": {},
   "source": [
    "두 그래프를 비교해봤을때 비슷한 움직임을 보이는 것 같기도 하다. 하지만 상관계수가 0.97정도 까지인가? 싶다. 아마 그 원인은 이상치 때문인것 같다. 피어슨 상관계수 식을 보면 공분산이 있다. 즉 평균과 멀어질 수록 값이 증가한다. 이상치가 있음으로 나머지의 분포는 무시되고 이상치만이 비슷하면 비슷한 분포라고 계산한것이다. \n"
   ]
  },
  {
   "cell_type": "code",
   "execution_count": 32,
   "id": "2d5f07b5",
   "metadata": {},
   "outputs": [
    {
     "data": {
      "text/plain": [
       "<matplotlib.lines.Line2D at 0x1fe05a30460>"
      ]
     },
     "execution_count": 32,
     "metadata": {},
     "output_type": "execute_result"
    },
    {
     "data": {
      "image/png": "[encoded data removed]",
      "text/plain": [
       "<Figure size 432x288 with 1 Axes>"
      ]
     },
     "metadata": {
      "needs_background": "light"
     },
     "output_type": "display_data"
    }
   ],
   "source": [
    "plt.plot(fs_df_2019.loc['155660',:])\n",
    "plt.axhline(y = fs_df_2019.loc['155660',:].mean(),color = 'red')"
   ]
  },
  {
   "cell_type": "code",
   "execution_count": 33,
   "id": "ea723ffe",
   "metadata": {
    "scrolled": true
   },
   "outputs": [
    {
     "data": {
      "text/plain": [
       "<matplotlib.lines.Line2D at 0x1fe05a3a970>"
      ]
     },
     "execution_count": 33,
     "metadata": {},
     "output_type": "execute_result"
    },
    {
     "data": {
      "image/png": "[encoded data removed]",
      "text/plain": [
       "<Figure size 432x288 with 1 Axes>"
      ]
     },
     "metadata": {
      "needs_background": "light"
     },
     "output_type": "display_data"
    }
   ],
   "source": [
    "plt.plot(fs_df_2019.loc['000210',:])\n",
    "plt.axhline(y = fs_df_2019.loc['000210',:].mean(),color = 'blue') "
   ]
  },
  {
   "cell_type": "markdown",
   "id": "2b69d417",
   "metadata": {},
   "source": [
    "그럼으로 정확하게 두 그래프를 비교하려면 데이터를 변환해야한다. 여기에서 가장 적절한 변환은 로그변환이다. \n",
    "이유는 이러하다. \n",
    "각각의 피처들의 값들은 각각의 의미를 가진다 즉 한 기업내에서의 위상은 의미가 없다. 그럼으로 위상의 영향을 극소화 시키는 log변환을 사용하였다. 이후 바로 로그변환을 사용해서 상관관계 분석을 진행해도 되지만 나는 먼저 \n",
    "\n",
    "#### 2. 2019년도의 a기업의 재무제표와 2020년도의 a기업의 재무제표를 비교해보았을때 절대적인 값은 다를지언정 전체적인 상승과 하락이 비슷하다면 결국 재무제표 안의값들은 유기적으로 연결돼있다고 볼 수있을것이다.\n",
    "\n",
    "#### 위 내용을 증명하고 시작할 것이다."
   ]
  },
  {
   "cell_type": "code",
   "execution_count": 34,
   "id": "d53a10be",
   "metadata": {
    "scrolled": true
   },
   "outputs": [
    {
     "data": {
      "text/html": [
       "<div>\n",
       "<style scoped>\n",
       "    .dataframe tbody tr th:only-of-type {\n",
       "        vertical-align: middle;\n",
       "    }\n",
       "\n",
       "    .dataframe tbody tr th {\n",
       "        vertical-align: top;\n",
       "    }\n",
       "\n",
       "    .dataframe thead th {\n",
       "        text-align: right;\n",
       "    }\n",
       "</style>\n",
       "<table border=\"1\" class=\"dataframe\">\n",
       "  <thead>\n",
       "    <tr style=\"text-align: right;\">\n",
       "      <th>(종목코드, 2020)</th>\n",
       "    </tr>\n",
       "  </thead>\n",
       "  <tbody>\n",
       "  </tbody>\n",
       "</table>\n",
       "</div>"
      ],
      "text/plain": [
       "Empty DataFrame\n",
       "Columns: []\n",
       "Index: []"
      ]
     },
     "execution_count": 34,
     "metadata": {},
     "output_type": "execute_result"
    }
   ],
   "source": [
    "new_df_2_2 = pd.DataFrame()\n",
    "list_0 = []\n",
    "for code in new_code_list:\n",
    "    try:\n",
    "        URL = f\"https://finance.naver.com/item/main.nhn?code={code}\"\n",
    "        r = requests.get(URL)\n",
    "        df_1_2 = pd.read_html(r.text)[3]\n",
    "        df_1_2.set_index(df_1_2.columns[0],inplace=True)\n",
    "        df_1_2.index.rename('주요재무정보', inplace=True)\n",
    "\n",
    "        df_2_2 = pd.DataFrame(df_1_2.T.iloc[1,:]).T\n",
    "        new_df_2_2 = pd.concat([new_df_2_2,df_2_2])\n",
    "    except:\n",
    "        list_0.append(code)\n",
    "new_code_list_2 = new_code_list\n",
    "for k in list_0:\n",
    "    new_code_list_2.remove(k)\n",
    "    \n",
    "    \n",
    "    \n",
    "new_df_2_2.index = new_code_list_2\n",
    "new_df_2_2.columns.rename(('종목코드','2020'), inplace=True)\n",
    "new_df_2_2"
   ]
  },
  {
   "cell_type": "code",
   "execution_count": 35,
   "id": "e8f459da",
   "metadata": {},
   "outputs": [],
   "source": [
    "fs_df_2020 = pd.read_csv('fs_df_2020.csv')"
   ]
  },
  {
   "cell_type": "code",
   "execution_count": 36,
   "id": "b68056cd",
   "metadata": {
    "scrolled": true
   },
   "outputs": [],
   "source": [
    "fs_df_2020.index = fs_df_2020.iloc[:,0]"
   ]
  },
  {
   "cell_type": "code",
   "execution_count": 37,
   "id": "bc01a10b",
   "metadata": {},
   "outputs": [],
   "source": [
    "fs_df_2020.drop(fs_df_2020.columns[0],axis = 1,inplace = True)"
   ]
  },
  {
   "cell_type": "code",
   "execution_count": 38,
   "id": "e7e73ede",
   "metadata": {},
   "outputs": [
    {
     "data": {
      "text/plain": [
       "['004840',\n",
       " '155660',\n",
       " '078930',\n",
       " '294870',\n",
       " '001390',\n",
       " '025000',\n",
       " '044450',\n",
       " '058860',\n",
       " '011070',\n",
       " '037560',\n",
       " '108670',\n",
       " '383800',\n",
       " '023150',\n",
       " '010060',\n",
       " '178920',\n",
       " '402340',\n",
       " '096770',\n",
       " '011810',\n",
       " '024070',\n",
       " '011420',\n",
       " '002100',\n",
       " '007690',\n",
       " '014530',\n",
       " '090350',\n",
       " '005250',\n",
       " '353200',\n",
       " '128820',\n",
       " '047040',\n",
       " '000430',\n",
       " '006040',\n",
       " '000020',\n",
       " '336260',\n",
       " '115390',\n",
       " '286940',\n",
       " '008560',\n",
       " '000060',\n",
       " '017180',\n",
       " '012690',\n",
       " '003850',\n",
       " '001270',\n",
       " '030790',\n",
       " '028050',\n",
       " '005930',\n",
       " '068290',\n",
       " '003230',\n",
       " '000070',\n",
       " '003720',\n",
       " '004380',\n",
       " '010960',\n",
       " '136490',\n",
       " '004490',\n",
       " '016590',\n",
       " '029530',\n",
       " '031430',\n",
       " '002870',\n",
       " '055550',\n",
       " '078520',\n",
       " '006740',\n",
       " '012280',\n",
       " '007310',\n",
       " '271560',\n",
       " '105840',\n",
       " '008600',\n",
       " '033270',\n",
       " '023800',\n",
       " '129260',\n",
       " '013360',\n",
       " '081000',\n",
       " '033240',\n",
       " '271980',\n",
       " '002620',\n",
       " '001550',\n",
       " '001630',\n",
       " '272450',\n",
       " '009070',\n",
       " '003070',\n",
       " '031820',\n",
       " '020120',\n",
       " '004100',\n",
       " '214420',\n",
       " '008930',\n",
       " '009240',\n",
       " '009180',\n",
       " '002220',\n",
       " '003300',\n",
       " '009460',\n",
       " '088350',\n",
       " '143210',\n",
       " '000720',\n",
       " '064350',\n",
       " '004560',\n",
       " '005380',\n",
       " '001500',\n",
       " '126560',\n",
       " '111110',\n",
       " '006840',\n",
       " '079160',\n",
       " '097950',\n",
       " '000590',\n",
       " '007340',\n",
       " '069730',\n",
       " '007700',\n",
       " '007070',\n",
       " '012630',\n",
       " '096760',\n",
       " '105560',\n",
       " '092220',\n",
       " '000040',\n",
       " '058850',\n",
       " '229640',\n",
       " '011790',\n",
       " '210980',\n",
       " '064960',\n",
       " '035250',\n",
       " '009450',\n",
       " '030610',\n",
       " '014280',\n",
       " '002990',\n",
       " '001210',\n",
       " '024110',\n",
       " '006280',\n",
       " '030210',\n",
       " '006370',\n",
       " '117580',\n",
       " '003220',\n",
       " '001070',\n",
       " '005880',\n",
       " '024900',\n",
       " '170900',\n",
       " '028100',\n",
       " '082640',\n",
       " '049770',\n",
       " '018500',\n",
       " '003160',\n",
       " '004000',\n",
       " '033920',\n",
       " '002760',\n",
       " '005180',\n",
       " '003960',\n",
       " '001470',\n",
       " '000390',\n",
       " '021050',\n",
       " '004360',\n",
       " '058650',\n",
       " '013000',\n",
       " '021820',\n",
       " '067830',\n",
       " '336370',\n",
       " '017550',\n",
       " '006880',\n",
       " '002700',\n",
       " '015540',\n",
       " '090430',\n",
       " '122900',\n",
       " '003560',\n",
       " '010580',\n",
       " '007460',\n",
       " '036570',\n",
       " '014440',\n",
       " '446070',\n",
       " '047400',\n",
       " '005950',\n",
       " '015020',\n",
       " '014990',\n",
       " '034590',\n",
       " '000230',\n",
       " '002600',\n",
       " '323410',\n",
       " '007810',\n",
       " '005420',\n",
       " '071950',\n",
       " '002020',\n",
       " '138490',\n",
       " '015590',\n",
       " '259960',\n",
       " '003240',\n",
       " '009410',\n",
       " '084870',\n",
       " '003670',\n",
       " '000080',\n",
       " '071050',\n",
       " '006200',\n",
       " '009540',\n",
       " '023350',\n",
       " '161390',\n",
       " '010100',\n",
       " '128940',\n",
       " '018880',\n",
       " '009420',\n",
       " '000880',\n",
       " '008770',\n",
       " '006060',\n",
       " '000850',\n",
       " '016580',\n",
       " '004800',\n",
       " '298000',\n",
       " '000540',\n",
       " '282330',\n",
       " '006360',\n",
       " '066570',\n",
       " '034120',\n",
       " '001380',\n",
       " '001770',\n",
       " '034730',\n",
       " '018670',\n",
       " '006120',\n",
       " '068400',\n",
       " '071970',\n",
       " '037270',\n",
       " '012320',\n",
       " '005320',\n",
       " '002720',\n",
       " '001570',\n",
       " '073240',\n",
       " '008350',\n",
       " '072710',\n",
       " '058730',\n",
       " '006650',\n",
       " '192080',\n",
       " '007590',\n",
       " '026960',\n",
       " '102260',\n",
       " '001520',\n",
       " '008970',\n",
       " '014820',\n",
       " '002690',\n",
       " '013570',\n",
       " '027740',\n",
       " '138040',\n",
       " '090370',\n",
       " '009680',\n",
       " '085620',\n",
       " '134380',\n",
       " '035150',\n",
       " '002410',\n",
       " '207940',\n",
       " '016360',\n",
       " '029780',\n",
       " '002810',\n",
       " '000520',\n",
       " '009770',\n",
       " '001290',\n",
       " '248170',\n",
       " '200880',\n",
       " '003080',\n",
       " '004980',\n",
       " '001430',\n",
       " '004430',\n",
       " '011930',\n",
       " '031440',\n",
       " '003410',\n",
       " '004920',\n",
       " '002790',\n",
       " '010780',\n",
       " '139990',\n",
       " '018250',\n",
       " '161000',\n",
       " '181710',\n",
       " '097520',\n",
       " '015360',\n",
       " '006980',\n",
       " '016880',\n",
       " '011330',\n",
       " '003460',\n",
       " '025820',\n",
       " '214320',\n",
       " '139480',\n",
       " '003120',\n",
       " '194370',\n",
       " '030000',\n",
       " '063160',\n",
       " '071320',\n",
       " '035000',\n",
       " '088790',\n",
       " '051630',\n",
       " '005070',\n",
       " '007980',\n",
       " '078000',\n",
       " '363280',\n",
       " '036580',\n",
       " '071090',\n",
       " '019490',\n",
       " '002200',\n",
       " '000240',\n",
       " '123890',\n",
       " '015760',\n",
       " '025890',\n",
       " '004150',\n",
       " '011700',\n",
       " '300720',\n",
       " '012450',\n",
       " '101530',\n",
       " '086280',\n",
       " '329180',\n",
       " '378850',\n",
       " '094280',\n",
       " '005870',\n",
       " '095570',\n",
       " '138930',\n",
       " '000120',\n",
       " '000210',\n",
       " '383220',\n",
       " '097230',\n",
       " '014790',\n",
       " '011200',\n",
       " '092230',\n",
       " '051900',\n",
       " '051910',\n",
       " '079550',\n",
       " '005940',\n",
       " '034310',\n",
       " '008260',\n",
       " '002360',\n",
       " '001740',\n",
       " '001510',\n",
       " '017670',\n",
       " '012610',\n",
       " '009140',\n",
       " '339770',\n",
       " '092440',\n",
       " '013700',\n",
       " '002350',\n",
       " '004370',\n",
       " '008060',\n",
       " '008110',\n",
       " '005750',\n",
       " '009190',\n",
       " '069620',\n",
       " '012800',\n",
       " '001440',\n",
       " '003490',\n",
       " '069460',\n",
       " '001230',\n",
       " '241560',\n",
       " '001530',\n",
       " '092200',\n",
       " '032350',\n",
       " '280360',\n",
       " '005300',\n",
       " '011170',\n",
       " '007120',\n",
       " '011390',\n",
       " '005030',\n",
       " '007160',\n",
       " '014710',\n",
       " '001360',\n",
       " '023000',\n",
       " '004440',\n",
       " '004450',\n",
       " '007860',\n",
       " '019440',\n",
       " '075580',\n",
       " '068270',\n",
       " '005390',\n",
       " '003620',\n",
       " '004770',\n",
       " '112610',\n",
       " '002310',\n",
       " '011090',\n",
       " '123700',\n",
       " '085310',\n",
       " '004250',\n",
       " '010120',\n",
       " '111770',\n",
       " '009970',\n",
       " '070960',\n",
       " '017370',\n",
       " '049800',\n",
       " '014830',\n",
       " '003470',\n",
       " '001200',\n",
       " '008250',\n",
       " '102460',\n",
       " '101140',\n",
       " '006490',\n",
       " '006220',\n",
       " '004910',\n",
       " '000480',\n",
       " '013870',\n",
       " '002380',\n",
       " '344820',\n",
       " '120110',\n",
       " '006890',\n",
       " '069260',\n",
       " '001020',\n",
       " '009810',\n",
       " '293480',\n",
       " '039130',\n",
       " '005430',\n",
       " '104700',\n",
       " '161890',\n",
       " '053690',\n",
       " '004960',\n",
       " '001750',\n",
       " '002320',\n",
       " '003480',\n",
       " '267270',\n",
       " '042670',\n",
       " '322000',\n",
       " '267260',\n",
       " '004020',\n",
       " '013520',\n",
       " '032560',\n",
       " '298040',\n",
       " '298050',\n",
       " '001040',\n",
       " '016610',\n",
       " '139130',\n",
       " '016380',\n",
       " '001940',\n",
       " '034220',\n",
       " '373220',\n",
       " '006260',\n",
       " '108320',\n",
       " '001120',\n",
       " '010950',\n",
       " '302440',\n",
       " '285130',\n",
       " '000660',\n",
       " '013580',\n",
       " '010130',\n",
       " '000270',\n",
       " '003920',\n",
       " '025860',\n",
       " '145210',\n",
       " '001680',\n",
       " '016710',\n",
       " '042660',\n",
       " '084010',\n",
       " '001790',\n",
       " '012510',\n",
       " '071840',\n",
       " '001080',\n",
       " '005360',\n",
       " '008420',\n",
       " '003650',\n",
       " '001340',\n",
       " '007210',\n",
       " '003000',\n",
       " '026940',\n",
       " '002070',\n",
       " '100220',\n",
       " '006660',\n",
       " '032830',\n",
       " '272550',\n",
       " '009470',\n",
       " '007540',\n",
       " '008490',\n",
       " '027970',\n",
       " '012600',\n",
       " '126720',\n",
       " '004970',\n",
       " '034300',\n",
       " '005800',\n",
       " '001720',\n",
       " '009270',\n",
       " '019170',\n",
       " '183190',\n",
       " '267850',\n",
       " '005850',\n",
       " '298690',\n",
       " '900140',\n",
       " '012160',\n",
       " '316140',\n",
       " '010600',\n",
       " '000910',\n",
       " '000100',\n",
       " '084680',\n",
       " '103590',\n",
       " '001560',\n",
       " '004700',\n",
       " '120030',\n",
       " '035720',\n",
       " '377300',\n",
       " '109070',\n",
       " '029460',\n",
       " '281820',\n",
       " '030200',\n",
       " '003690',\n",
       " '192400',\n",
       " '284740',\n",
       " '264900',\n",
       " '005740',\n",
       " '011280',\n",
       " '001420',\n",
       " '019180',\n",
       " '010820',\n",
       " '016800',\n",
       " '034830',\n",
       " '047810',\n",
       " '002390',\n",
       " '213500',\n",
       " '014680',\n",
       " '004710',\n",
       " '006390',\n",
       " '052690',\n",
       " '272210',\n",
       " '195870',\n",
       " '079430',\n",
       " '069960',\n",
       " '017800',\n",
       " '093240',\n",
       " '003010',\n",
       " '081660',\n",
       " '027410',\n",
       " '012030',\n",
       " '005830',\n",
       " '017940',\n",
       " '060980',\n",
       " '234080',\n",
       " '009440',\n",
       " '032640',\n",
       " '000680',\n",
       " '009160',\n",
       " '100840',\n",
       " '003570',\n",
       " '036530',\n",
       " '005610',\n",
       " '077970',\n",
       " '267290',\n",
       " '000050',\n",
       " '002240',\n",
       " '009290',\n",
       " '037710',\n",
       " '008870',\n",
       " '011780',\n",
       " '006570',\n",
       " '003540',\n",
       " '014160',\n",
       " '006340',\n",
       " '024890',\n",
       " '002880',\n",
       " '003830',\n",
       " '004830',\n",
       " '145720',\n",
       " '002150',\n",
       " '004140',\n",
       " '005960',\n",
       " '002210',\n",
       " '282690',\n",
       " '084670',\n",
       " '030720',\n",
       " '000150',\n",
       " '034020',\n",
       " '004990',\n",
       " '268280',\n",
       " '018260',\n",
       " '010140',\n",
       " '145990',\n",
       " '002450',\n",
       " '004690',\n",
       " '004410',\n",
       " '000180',\n",
       " '306200',\n",
       " '003030',\n",
       " '091090',\n",
       " '033530',\n",
       " '134790',\n",
       " '004170',\n",
       " '002030',\n",
       " '137310',\n",
       " '025530',\n",
       " '003520',\n",
       " '000670',\n",
       " '002920',\n",
       " '093230',\n",
       " '015860',\n",
       " '317400',\n",
       " '010640',\n",
       " '009310',\n",
       " '381970',\n",
       " '192820',\n",
       " '044820',\n",
       " '039490',\n",
       " '091810',\n",
       " '004720',\n",
       " '028670',\n",
       " '090080',\n",
       " '047050',\n",
       " '123690',\n",
       " '003350',\n",
       " '042700',\n",
       " '020000',\n",
       " '105630',\n",
       " '025750',\n",
       " '130660',\n",
       " '180640',\n",
       " '372910',\n",
       " '000370',\n",
       " '012330',\n",
       " '241590',\n",
       " '133820',\n",
       " '010660',\n",
       " '298020',\n",
       " '093370',\n",
       " '005010',\n",
       " '000990',\n",
       " '001880',\n",
       " '375500',\n",
       " '089470',\n",
       " '267250',\n",
       " '003580',\n",
       " '082740',\n",
       " '001060',\n",
       " '093050',\n",
       " '005490',\n",
       " '004060',\n",
       " '361610',\n",
       " '002820',\n",
       " '002710',\n",
       " '002900',\n",
       " '000500',\n",
       " '214390',\n",
       " '002140',\n",
       " '017900',\n",
       " '001140',\n",
       " '001260',\n",
       " '004270',\n",
       " '005720',\n",
       " '023590',\n",
       " '019680',\n",
       " '009320',\n",
       " '001130',\n",
       " '023450',\n",
       " '092780',\n",
       " '210540',\n",
       " '089860',\n",
       " '009900',\n",
       " '009580',\n",
       " '002840',\n",
       " '003610',\n",
       " '008040',\n",
       " '006090',\n",
       " '000810',\n",
       " '006110',\n",
       " '002170',\n",
       " '005680',\n",
       " '005500',\n",
       " '011230',\n",
       " '075180',\n",
       " '014910',\n",
       " '011300',\n",
       " '308170',\n",
       " '248070',\n",
       " '026890',\n",
       " '035510',\n",
       " '102280',\n",
       " '403550',\n",
       " '008700',\n",
       " '001780',\n",
       " '023960',\n",
       " '015260',\n",
       " '002630',\n",
       " '001800',\n",
       " '011690',\n",
       " '005820',\n",
       " '077500',\n",
       " '074610',\n",
       " '249420',\n",
       " '007110',\n",
       " '007570',\n",
       " '020150',\n",
       " '025620',\n",
       " '044380',\n",
       " '013890',\n",
       " '001620',\n",
       " '053210',\n",
       " '021240',\n",
       " '036420',\n",
       " '014580',\n",
       " '004870',\n",
       " '005690',\n",
       " '017810',\n",
       " '005810',\n",
       " '950210',\n",
       " '000140',\n",
       " '025540',\n",
       " '017960',\n",
       " '024720',\n",
       " '011500',\n",
       " '069640',\n",
       " '051600',\n",
       " '009830',\n",
       " '003530',\n",
       " '004310',\n",
       " '307950',\n",
       " '001450',\n",
       " '057050',\n",
       " '002460',\n",
       " '079980',\n",
       " '001460',\n",
       " '011150',\n",
       " '114090',\n",
       " '001250',\n",
       " '039570',\n",
       " '204320',\n",
       " '175330',\n",
       " '119650',\n",
       " '033180',\n",
       " '003550',\n",
       " '035420',\n",
       " '005090',\n",
       " '000860',\n",
       " '012200',\n",
       " '017040',\n",
       " '083420',\n",
       " '214330',\n",
       " '004540',\n",
       " '251270',\n",
       " '000320',\n",
       " '000490',\n",
       " '084690',\n",
       " '003090',\n",
       " '000300',\n",
       " '015230',\n",
       " '016090',\n",
       " '000640',\n",
       " '163560',\n",
       " '004890',\n",
       " '016740',\n",
       " '192650',\n",
       " '024090',\n",
       " '000400',\n",
       " '023530',\n",
       " '009200',\n",
       " '025560',\n",
       " '006800',\n",
       " '107590',\n",
       " '000890',\n",
       " '006400',\n",
       " '028260',\n",
       " '009150',\n",
       " '001820',\n",
       " '041650',\n",
       " '017390',\n",
       " '007610',\n",
       " '002420',\n",
       " '004080',\n",
       " '012170',\n",
       " '020560',\n",
       " '012750',\n",
       " '326030',\n",
       " '003060',\n",
       " '244920',\n",
       " '380440',\n",
       " '010050',\n",
       " '010400',\n",
       " '095720',\n",
       " '000700',\n",
       " '072130',\n",
       " '000220',\n",
       " '008730',\n",
       " '007660',\n",
       " '000760',\n",
       " '023810',\n",
       " '003200',\n",
       " '008500',\n",
       " '020760',\n",
       " '271940',\n",
       " '226320',\n",
       " '000950',\n",
       " '089590',\n",
       " '018470',\n",
       " '185750',\n",
       " '003780',\n",
       " '100250',\n",
       " '011000',\n",
       " '002780',\n",
       " '000650',\n",
       " '033250',\n",
       " '118000',\n",
       " '006380',\n",
       " '033780',\n",
       " '015890',\n",
       " '055490',\n",
       " '010770',\n",
       " '058430',\n",
       " '103140',\n",
       " '086790',\n",
       " '352820',\n",
       " '036460',\n",
       " '010040',\n",
       " '004090',\n",
       " '002960',\n",
       " '000970',\n",
       " '007280',\n",
       " '003680',\n",
       " '016450',\n",
       " '010420',\n",
       " '014130',\n",
       " '005110',\n",
       " '005440',\n",
       " '010620',\n",
       " '011210',\n",
       " '011760',\n",
       " '227840',\n",
       " '010690',\n",
       " '003280']"
      ]
     },
     "execution_count": 38,
     "metadata": {},
     "output_type": "execute_result"
    }
   ],
   "source": [
    "str_code_list_2 = []\n",
    "for k in fs_df_2020.index:\n",
    "    str_code_list_2.append(str(k))\n",
    "new_code_list_2 = []\n",
    "for i in str_code_list_2:\n",
    "    x = '0'*(6 - len(i)) + i\n",
    "    new_code_list_2.append(x)\n",
    "new_code_list_2"
   ]
  },
  {
   "cell_type": "code",
   "execution_count": 39,
   "id": "4149c4ef",
   "metadata": {},
   "outputs": [],
   "source": [
    "fs_df_2020.index = new_code_list_2"
   ]
  },
  {
   "cell_type": "code",
   "execution_count": 40,
   "id": "47ea572d",
   "metadata": {},
   "outputs": [
    {
     "data": {
      "text/plain": [
       "매출액           4966.0\n",
       "영업이익           210.0\n",
       "당기순이익           63.0\n",
       "영업이익률           4.24\n",
       "순이익률            1.26\n",
       "ROE(지배주주)       0.66\n",
       "부채비율           67.47\n",
       "당좌비율          112.92\n",
       "유보율          4588.02\n",
       "EPS(원)         117.0\n",
       "PER(배)         58.97\n",
       "BPS(원)       18307.0\n",
       "PBR(배)          0.38\n",
       "주당배당금(원)        50.0\n",
       "시가배당률(%)        0.73\n",
       "배당성향(%)        41.38\n",
       "ROE(%)           NaN\n",
       "주당배당금            NaN\n",
       "Name: 004840, dtype: object"
      ]
     },
     "execution_count": 40,
     "metadata": {},
     "output_type": "execute_result"
    }
   ],
   "source": [
    "fs_df_2020.iloc[0,:]"
   ]
  },
  {
   "cell_type": "code",
   "execution_count": 41,
   "id": "7634b96c",
   "metadata": {},
   "outputs": [],
   "source": [
    "fs_df_2020.drop(['시가배당률(%)','ROE(%)','주당배당금(원)','배당성향(%)','주당배당금'],axis = 'columns',inplace = True)\n",
    "fs_df_2020.dropna(inplace = True)"
   ]
  },
  {
   "cell_type": "code",
   "execution_count": 42,
   "id": "08961e8b",
   "metadata": {},
   "outputs": [
    {
     "name": "stdout",
     "output_type": "stream",
     "text": [
      "1 384\n",
      "2 320\n",
      "2 428\n"
     ]
    }
   ],
   "source": [
    "column_number = -1\n",
    "column_list = []\n",
    "row_list = []\n",
    "for i in fs_df_2020.columns:\n",
    "    \n",
    "    row_number = -1\n",
    "    column_number += 1\n",
    "    for k in fs_df_2020[i]:\n",
    "       \n",
    "        row_number += 1\n",
    "        if type(k) == str:\n",
    "            if '-' in k and len(k) == 1: \n",
    "                    column_list.append(column_number)\n",
    "                    row_list.append(row_number)\n",
    "                    print(column_number,row_number)"
   ]
  },
  {
   "cell_type": "code",
   "execution_count": 43,
   "id": "7141167f",
   "metadata": {},
   "outputs": [
    {
     "name": "stdout",
     "output_type": "stream",
     "text": [
      "매출액          40517.0\n",
      "영업이익          1611.0\n",
      "당기순이익          287.0\n",
      "영업이익률           3.98\n",
      "순이익률            0.71\n",
      "ROE(지배주주)       1.49\n",
      "부채비율            73.9\n",
      "당좌비율           55.52\n",
      "유보율          1531.79\n",
      "EPS(원)        1217.0\n",
      "PER(배)          25.6\n",
      "BPS(원)       81582.0\n",
      "PBR(배)          0.38\n",
      "Name: 071840, dtype: object 매출액          2337.0\n",
      "영업이익            -85\n",
      "당기순이익           -89\n",
      "영업이익률         -3.64\n",
      "순이익률          -3.81\n",
      "ROE(지배주주)    -17.89\n",
      "부채비율         149.55\n",
      "당좌비율         100.65\n",
      "유보율           70.98\n",
      "EPS(원)       -148.0\n",
      "PER(배)        -8.13\n",
      "BPS(원)        818.0\n",
      "PBR(배)         1.47\n",
      "Name: 011090, dtype: object 매출액          5620.0\n",
      "영업이익             95\n",
      "당기순이익            45\n",
      "영업이익률           1.7\n",
      "순이익률           0.81\n",
      "ROE(지배주주)      0.97\n",
      "부채비율          74.71\n",
      "당좌비율          51.87\n",
      "유보율           790.9\n",
      "EPS(원)         42.0\n",
      "PER(배)       138.37\n",
      "BPS(원)       4477.0\n",
      "PBR(배)         1.30\n",
      "Name: 011280, dtype: object\n"
     ]
    }
   ],
   "source": [
    "print(fs_df_2020.iloc[382,:], fs_df_2020.iloc[318,:], fs_df_2020.iloc[427,:])"
   ]
  },
  {
   "cell_type": "code",
   "execution_count": 44,
   "id": "779b5dac",
   "metadata": {},
   "outputs": [],
   "source": [
    "fs_df_2020.drop(index = ['005360','085310','001420'],axis = 0,inplace = True)"
   ]
  },
  {
   "cell_type": "code",
   "execution_count": 45,
   "id": "4ed9950f",
   "metadata": {},
   "outputs": [],
   "source": [
    "fs_df_2020 = fs_df_2020.astype(float)"
   ]
  },
  {
   "cell_type": "markdown",
   "id": "9dd310a9",
   "metadata": {},
   "source": [
    "2020 데이터 셋에 있는 기업과 2019데이터 셋에 있는 기업이 다를 수 있음으로 set을 활용해 교집합을 구하고 교집합에 없는 데이터는 지워버린다"
   ]
  },
  {
   "cell_type": "code",
   "execution_count": 46,
   "id": "5bd01994",
   "metadata": {},
   "outputs": [],
   "source": [
    "intersection_index = set(fs_df_2020.index) & set(fs_df_2019.index)"
   ]
  },
  {
   "cell_type": "code",
   "execution_count": 47,
   "id": "54f5c201",
   "metadata": {},
   "outputs": [],
   "source": [
    "for i in fs_df_2020.index:\n",
    "    if i not in intersection_index:\n",
    "        fs_df_2020.drop(i, inplace = True)\n"
   ]
  },
  {
   "cell_type": "code",
   "execution_count": 48,
   "id": "dcf4d436",
   "metadata": {},
   "outputs": [],
   "source": [
    "for i in fs_df_2019.index:\n",
    "    if i not in intersection_index:\n",
    "        fs_df_2019.drop(i, inplace = True)"
   ]
  },
  {
   "cell_type": "code",
   "execution_count": 49,
   "id": "b6c0367d",
   "metadata": {},
   "outputs": [
    {
     "data": {
      "text/plain": [
       "0"
      ]
     },
     "execution_count": 49,
     "metadata": {},
     "output_type": "execute_result"
    }
   ],
   "source": [
    "len(set(fs_df_2020.index) - set(fs_df_2019.index))"
   ]
  },
  {
   "cell_type": "markdown",
   "id": "6904f141",
   "metadata": {},
   "source": [
    "또한 위치를 같은 row를 기준으로 분석을 진행할 예정이기에 row의 기업이 다르다면 이상한 분석이 진행될 것이다. 그럼으로 각 데이터셋의 row값(기업 코드)가 일치 하는 지 확인해본다"
   ]
  },
  {
   "cell_type": "code",
   "execution_count": 50,
   "id": "3b22a8db",
   "metadata": {},
   "outputs": [
    {
     "data": {
      "text/plain": [
       "0"
      ]
     },
     "execution_count": 50,
     "metadata": {},
     "output_type": "execute_result"
    }
   ],
   "source": [
    "count = 0\n",
    "for i in range(648):\n",
    "    if fs_df_2020.index[i] != fs_df_2019.index[i]:\n",
    "        count += 1\n",
    "count"
   ]
  },
  {
   "cell_type": "markdown",
   "id": "002389a1",
   "metadata": {},
   "source": [
    "이후 로그변환을 진행해준다."
   ]
  },
  {
   "cell_type": "code",
   "execution_count": 51,
   "id": "92661c54",
   "metadata": {},
   "outputs": [],
   "source": [
    "log_fs_df_2020 = np.log(fs_df_2020)\n",
    "log_fs_df_2019 = np.log(fs_df_2019)"
   ]
  },
  {
   "cell_type": "code",
   "execution_count": 52,
   "id": "c0821235",
   "metadata": {
    "scrolled": false
   },
   "outputs": [
    {
     "data": {
      "text/plain": [
       "649"
      ]
     },
     "execution_count": 52,
     "metadata": {},
     "output_type": "execute_result"
    }
   ],
   "source": [
    "len(log_fs_df_2020.index)"
   ]
  },
  {
   "cell_type": "code",
   "execution_count": 53,
   "id": "7e983af4",
   "metadata": {},
   "outputs": [],
   "source": [
    "intersection_index = set(log_fs_df_2020.index) & set(log_fs_df_2019.index)"
   ]
  },
  {
   "cell_type": "code",
   "execution_count": 54,
   "id": "b39d34cc",
   "metadata": {},
   "outputs": [
    {
     "data": {
      "text/plain": [
       "649"
      ]
     },
     "execution_count": 54,
     "metadata": {},
     "output_type": "execute_result"
    }
   ],
   "source": [
    "len(log_fs_df_2019.index)"
   ]
  },
  {
   "cell_type": "code",
   "execution_count": 55,
   "id": "761e076c",
   "metadata": {
    "scrolled": true
   },
   "outputs": [
    {
     "data": {
      "image/png": "[encoded data removed]",
      "text/plain": [
       "<Figure size 432x288 with 1 Axes>"
      ]
     },
     "metadata": {
      "needs_background": "light"
     },
     "output_type": "display_data"
    }
   ],
   "source": [
    "plt.plot(log_fs_df_2019.iloc[0,:])\n",
    "plt.plot(log_fs_df_2020.iloc[0,:])\n",
    "log_corr_df = pd.DataFrame()\n",
    "for k in range(len(log_fs_df_2019.index)):\n",
    "    x = log_fs_df_2019.iloc[k,:]\n",
    "    y = log_fs_df_2020.iloc[k,:]\n",
    "    correlation = np.corrcoef(x, y)[1][0]\n",
    "    correlation = pd.Series(correlation)\n",
    "    log_corr_df = pd.concat([log_corr_df,correlation])\n",
    "    \n",
    "log_corr_df.index = fs_df_2019.index"
   ]
  },
  {
   "cell_type": "markdown",
   "id": "aa661520",
   "metadata": {},
   "source": [
    "확실히 log변환을 하니 분포가 더 잘 보인다.  아래는 2020과 2019의 재무제표 간의 상관계수 값들을 box플롯으로 나타낸것이다. 많은 값들이 상관계수 1근처에 포진해있는 것으로 보아 두 데이터셋은 연관성이 있다고 판단한다."
   ]
  },
  {
   "cell_type": "code",
   "execution_count": 56,
   "id": "d90c3de4",
   "metadata": {},
   "outputs": [
    {
     "data": {
      "text/plain": [
       "<AxesSubplot:>"
      ]
     },
     "execution_count": 56,
     "metadata": {},
     "output_type": "execute_result"
    },
    {
     "data": {
      "image/png": "[encoded data removed]",
      "text/plain": [
       "<Figure size 432x288 with 1 Axes>"
      ]
     },
     "metadata": {
      "needs_background": "light"
     },
     "output_type": "display_data"
    }
   ],
   "source": [
    "log_corr_df.boxplot()"
   ]
  },
  {
   "cell_type": "code",
   "execution_count": 57,
   "id": "c06dfc0f",
   "metadata": {},
   "outputs": [
    {
     "name": "stdout",
     "output_type": "stream",
     "text": [
      "매출액            0\n",
      "영업이익         112\n",
      "당기순이익        173\n",
      "영업이익률        112\n",
      "순이익률         173\n",
      "ROE(지배주주)    175\n",
      "부채비율           0\n",
      "당좌비율           0\n",
      "유보율           13\n",
      "EPS(원)       174\n",
      "PER(배)       174\n",
      "BPS(원)         0\n",
      "PBR(배)         0\n",
      "dtype: int64\n",
      "매출액            0\n",
      "영업이익         133\n",
      "당기순이익        186\n",
      "영업이익률        133\n",
      "순이익률         186\n",
      "ROE(지배주주)    189\n",
      "부채비율           2\n",
      "당좌비율           0\n",
      "유보율           18\n",
      "EPS(원)       189\n",
      "PER(배)       189\n",
      "BPS(원)         1\n",
      "PBR(배)         1\n",
      "dtype: int64\n"
     ]
    }
   ],
   "source": [
    "print(log_fs_df_2019.isna().sum())\n",
    "print(log_fs_df_2020.isna().sum())"
   ]
  },
  {
   "cell_type": "markdown",
   "id": "d4c9ebdd",
   "metadata": {},
   "source": [
    "결측치 값이 너무 많다. 아마 음수의 영향인것 같다. \n",
    "방법은 두가지 이다\n",
    "1. 이대로 많은 데이터에 많은 손실이 있는 상태로 분석을진행한다.\n",
    "2. 로그 변환의 일반화인 여존스 변환을 사용해본다. "
   ]
  },
  {
   "cell_type": "code",
   "execution_count": 58,
   "id": "1eb3cbd2",
   "metadata": {},
   "outputs": [
    {
     "data": {
      "text/plain": [
       "0    285\n",
       "dtype: int64"
      ]
     },
     "execution_count": 58,
     "metadata": {},
     "output_type": "execute_result"
    }
   ],
   "source": [
    "log_corr_df.isna().sum()"
   ]
  },
  {
   "cell_type": "code",
   "execution_count": 59,
   "id": "2623b80a",
   "metadata": {},
   "outputs": [],
   "source": [
    "from sklearn.preprocessing import power_transform\n",
    "power_2020 = power_transform(fs_df_2020.iloc[0,:][:,np.newaxis])\n",
    "power_2019 = power_transform(fs_df_2019.iloc[0,:][:,np.newaxis])"
   ]
  },
  {
   "cell_type": "markdown",
   "id": "46fda46c",
   "metadata": {},
   "source": [
    "컬럼으로 람다를 설정하길레 transformation을 해주었다. "
   ]
  },
  {
   "cell_type": "code",
   "execution_count": 60,
   "id": "0cbbf2a7",
   "metadata": {},
   "outputs": [],
   "source": [
    "import numpy as np\n",
    "from sklearn.preprocessing import PowerTransformer\n",
    "pt = PowerTransformer()\n",
    "pt.fit(fs_df_2020.T)\n",
    "PowerTransformer()\n",
    "power_2020 = pt.transform(fs_df_2020.T)\n",
    "pt_2 = PowerTransformer()\n",
    "pt_2.fit(fs_df_2019.T)\n",
    "PowerTransformer()\n",
    "power_2019 = pt_2.transform(fs_df_2019.T)"
   ]
  },
  {
   "cell_type": "code",
   "execution_count": 61,
   "id": "8d0ca5da",
   "metadata": {},
   "outputs": [],
   "source": [
    "power_2019 = power_2019.T\n",
    "power_2020 = power_2020.T"
   ]
  },
  {
   "cell_type": "code",
   "execution_count": 62,
   "id": "c0515ef0",
   "metadata": {
    "scrolled": true
   },
   "outputs": [
    {
     "data": {
      "text/plain": [
       "[<matplotlib.lines.Line2D at 0x1fe070a6520>]"
      ]
     },
     "execution_count": 62,
     "metadata": {},
     "output_type": "execute_result"
    },
    {
     "data": {
      "image/png": "[encoded data removed]",
      "text/plain": [
       "<Figure size 432x288 with 1 Axes>"
      ]
     },
     "metadata": {
      "needs_background": "light"
     },
     "output_type": "display_data"
    }
   ],
   "source": [
    "plt.plot(power_2019[2])\n",
    "plt.plot(power_2020[2])"
   ]
  },
  {
   "cell_type": "code",
   "execution_count": 63,
   "id": "b0621d82",
   "metadata": {},
   "outputs": [],
   "source": [
    "power_corr_df = pd.DataFrame()\n",
    "for k in range(len(log_fs_df_2019.index)):\n",
    "    x = power_2019[k]\n",
    "    y = power_2020[k]\n",
    "    correlation = np.corrcoef(x, y)[1][0]\n",
    "    correlation = pd.Series(correlation)\n",
    "    power_corr_df = pd.concat([power_corr_df,correlation])\n",
    "power_corr_df.index = range(len(power_corr_df))"
   ]
  },
  {
   "cell_type": "code",
   "execution_count": 64,
   "id": "9206b7fc",
   "metadata": {
    "scrolled": false
   },
   "outputs": [
    {
     "data": {
      "text/plain": [
       "{'whiskers': [<matplotlib.lines.Line2D at 0x1fe0711e070>,\n",
       "  <matplotlib.lines.Line2D at 0x1fe0711e340>],\n",
       " 'caps': [<matplotlib.lines.Line2D at 0x1fe0711e610>,\n",
       "  <matplotlib.lines.Line2D at 0x1fe0711e8e0>],\n",
       " 'boxes': [<matplotlib.lines.Line2D at 0x1fe0710fd60>],\n",
       " 'medians': [<matplotlib.lines.Line2D at 0x1fe0711ebb0>],\n",
       " 'fliers': [<matplotlib.lines.Line2D at 0x1fe0711ee80>],\n",
       " 'means': []}"
      ]
     },
     "execution_count": 64,
     "metadata": {},
     "output_type": "execute_result"
    },
    {
     "data": {
      "image/png": "[encoded data removed]",
      "text/plain": [
       "<Figure size 432x288 with 1 Axes>"
      ]
     },
     "metadata": {
      "needs_background": "light"
     },
     "output_type": "display_data"
    }
   ],
   "source": [
    "plt.boxplot(power_corr_df)"
   ]
  },
  {
   "cell_type": "code",
   "execution_count": 65,
   "id": "d90ad791",
   "metadata": {
    "scrolled": true
   },
   "outputs": [
    {
     "data": {
      "text/html": [
       "<div>\n",
       "<style scoped>\n",
       "    .dataframe tbody tr th:only-of-type {\n",
       "        vertical-align: middle;\n",
       "    }\n",
       "\n",
       "    .dataframe tbody tr th {\n",
       "        vertical-align: top;\n",
       "    }\n",
       "\n",
       "    .dataframe thead th {\n",
       "        text-align: right;\n",
       "    }\n",
       "</style>\n",
       "<table border=\"1\" class=\"dataframe\">\n",
       "  <thead>\n",
       "    <tr style=\"text-align: right;\">\n",
       "      <th></th>\n",
       "      <th>0</th>\n",
       "    </tr>\n",
       "  </thead>\n",
       "  <tbody>\n",
       "    <tr>\n",
       "      <th>count</th>\n",
       "      <td>649.000000</td>\n",
       "    </tr>\n",
       "    <tr>\n",
       "      <th>mean</th>\n",
       "      <td>0.816240</td>\n",
       "    </tr>\n",
       "    <tr>\n",
       "      <th>std</th>\n",
       "      <td>0.278372</td>\n",
       "    </tr>\n",
       "    <tr>\n",
       "      <th>min</th>\n",
       "      <td>0.040472</td>\n",
       "    </tr>\n",
       "    <tr>\n",
       "      <th>25%</th>\n",
       "      <td>0.619697</td>\n",
       "    </tr>\n",
       "    <tr>\n",
       "      <th>50%</th>\n",
       "      <td>0.986228</td>\n",
       "    </tr>\n",
       "    <tr>\n",
       "      <th>75%</th>\n",
       "      <td>0.997252</td>\n",
       "    </tr>\n",
       "    <tr>\n",
       "      <th>max</th>\n",
       "      <td>0.999975</td>\n",
       "    </tr>\n",
       "  </tbody>\n",
       "</table>\n",
       "</div>"
      ],
      "text/plain": [
       "                0\n",
       "count  649.000000\n",
       "mean     0.816240\n",
       "std      0.278372\n",
       "min      0.040472\n",
       "25%      0.619697\n",
       "50%      0.986228\n",
       "75%      0.997252\n",
       "max      0.999975"
      ]
     },
     "execution_count": 65,
     "metadata": {},
     "output_type": "execute_result"
    }
   ],
   "source": [
    "power_corr_df.describe()"
   ]
  },
  {
   "cell_type": "code",
   "execution_count": 66,
   "id": "dbce033c",
   "metadata": {},
   "outputs": [
    {
     "data": {
      "text/plain": [
       "<AxesSubplot:ylabel='Density'>"
      ]
     },
     "execution_count": 66,
     "metadata": {},
     "output_type": "execute_result"
    },
    {
     "data": {
      "image/png": "[encoded data removed]",
      "text/plain": [
       "<Figure size 432x288 with 1 Axes>"
      ]
     },
     "metadata": {
      "needs_background": "light"
     },
     "output_type": "display_data"
    }
   ],
   "source": [
    "sns.distplot(power_corr_df)"
   ]
  },
  {
   "cell_type": "code",
   "execution_count": 67,
   "id": "69666c12",
   "metadata": {},
   "outputs": [],
   "source": [
    "power_corr_df.index = fs_df_2019.index"
   ]
  },
  {
   "cell_type": "markdown",
   "id": "25d0d72d",
   "metadata": {},
   "source": [
    "로그분포와 비교했을때 box플롯이 차이가 너무 난다. 두 데이터 프레임을 합쳐서 비교해보았더니 기존 로그값이 nan이였던 기업은 여존슨변환을 했을때 상관계수가 낮게 나오는 경향이 있는것 같았다."
   ]
  },
  {
   "cell_type": "code",
   "execution_count": 68,
   "id": "6de44172",
   "metadata": {
    "scrolled": true
   },
   "outputs": [
    {
     "data": {
      "text/html": [
       "<div>\n",
       "<style scoped>\n",
       "    .dataframe tbody tr th:only-of-type {\n",
       "        vertical-align: middle;\n",
       "    }\n",
       "\n",
       "    .dataframe tbody tr th {\n",
       "        vertical-align: top;\n",
       "    }\n",
       "\n",
       "    .dataframe thead th {\n",
       "        text-align: right;\n",
       "    }\n",
       "</style>\n",
       "<table border=\"1\" class=\"dataframe\">\n",
       "  <thead>\n",
       "    <tr style=\"text-align: right;\">\n",
       "      <th></th>\n",
       "      <th>0</th>\n",
       "      <th>0</th>\n",
       "    </tr>\n",
       "  </thead>\n",
       "  <tbody>\n",
       "    <tr>\n",
       "      <th>004840</th>\n",
       "      <td>0.974630</td>\n",
       "      <td>0.975335</td>\n",
       "    </tr>\n",
       "    <tr>\n",
       "      <th>155660</th>\n",
       "      <td>0.999528</td>\n",
       "      <td>0.999545</td>\n",
       "    </tr>\n",
       "    <tr>\n",
       "      <th>078930</th>\n",
       "      <td>0.234732</td>\n",
       "      <td>NaN</td>\n",
       "    </tr>\n",
       "    <tr>\n",
       "      <th>294870</th>\n",
       "      <td>0.992366</td>\n",
       "      <td>0.991928</td>\n",
       "    </tr>\n",
       "    <tr>\n",
       "      <th>001390</th>\n",
       "      <td>0.983253</td>\n",
       "      <td>0.979769</td>\n",
       "    </tr>\n",
       "    <tr>\n",
       "      <th>...</th>\n",
       "      <td>...</td>\n",
       "      <td>...</td>\n",
       "    </tr>\n",
       "    <tr>\n",
       "      <th>010620</th>\n",
       "      <td>0.298945</td>\n",
       "      <td>NaN</td>\n",
       "    </tr>\n",
       "    <tr>\n",
       "      <th>011210</th>\n",
       "      <td>0.999590</td>\n",
       "      <td>0.999505</td>\n",
       "    </tr>\n",
       "    <tr>\n",
       "      <th>011760</th>\n",
       "      <td>0.982336</td>\n",
       "      <td>0.979722</td>\n",
       "    </tr>\n",
       "    <tr>\n",
       "      <th>227840</th>\n",
       "      <td>0.986975</td>\n",
       "      <td>0.988808</td>\n",
       "    </tr>\n",
       "    <tr>\n",
       "      <th>010690</th>\n",
       "      <td>0.369222</td>\n",
       "      <td>NaN</td>\n",
       "    </tr>\n",
       "  </tbody>\n",
       "</table>\n",
       "<p>649 rows × 2 columns</p>\n",
       "</div>"
      ],
      "text/plain": [
       "               0         0\n",
       "004840  0.974630  0.975335\n",
       "155660  0.999528  0.999545\n",
       "078930  0.234732       NaN\n",
       "294870  0.992366  0.991928\n",
       "001390  0.983253  0.979769\n",
       "...          ...       ...\n",
       "010620  0.298945       NaN\n",
       "011210  0.999590  0.999505\n",
       "011760  0.982336  0.979722\n",
       "227840  0.986975  0.988808\n",
       "010690  0.369222       NaN\n",
       "\n",
       "[649 rows x 2 columns]"
      ]
     },
     "execution_count": 68,
     "metadata": {},
     "output_type": "execute_result"
    }
   ],
   "source": [
    "df_concat = pd.concat([power_corr_df,log_corr_df],axis = 1)\n",
    "df_concat"
   ]
  },
  {
   "cell_type": "markdown",
   "id": "25d9f98c",
   "metadata": {},
   "source": [
    "NaN이 있는 값들이 낮게 나온것 같다. 진짜일까?\n",
    "\n",
    "NaN값만 뽑아와서 boxplot을 그려보았다."
   ]
  },
  {
   "cell_type": "code",
   "execution_count": 69,
   "id": "735e3814",
   "metadata": {
    "scrolled": true
   },
   "outputs": [
    {
     "data": {
      "text/plain": [
       "<AxesSubplot:>"
      ]
     },
     "execution_count": 69,
     "metadata": {},
     "output_type": "execute_result"
    },
    {
     "data": {
      "image/png": "[encoded data removed]",
      "text/plain": [
       "<Figure size 432x288 with 1 Axes>"
      ]
     },
     "metadata": {
      "needs_background": "light"
     },
     "output_type": "display_data"
    }
   ],
   "source": [
    "nan_df = pd.DataFrame(power_corr_df[log_corr_df[0].isna()][0])\n",
    "nan_df.boxplot()"
   ]
  },
  {
   "cell_type": "code",
   "execution_count": 70,
   "id": "adde2ea9",
   "metadata": {},
   "outputs": [
    {
     "data": {
      "text/plain": [
       "<AxesSubplot:>"
      ]
     },
     "execution_count": 70,
     "metadata": {},
     "output_type": "execute_result"
    },
    {
     "data": {
      "image/png": "[encoded data removed]",
      "text/plain": [
       "<Figure size 432x288 with 1 Axes>"
      ]
     },
     "metadata": {
      "needs_background": "light"
     },
     "output_type": "display_data"
    }
   ],
   "source": [
    "notnan_df = pd.DataFrame(power_corr_df[log_corr_df[0].notna()][0])\n",
    "notnan_df.boxplot()"
   ]
  },
  {
   "cell_type": "code",
   "execution_count": 71,
   "id": "57d3b7ef",
   "metadata": {
    "scrolled": false
   },
   "outputs": [
    {
     "data": {
      "text/html": [
       "<div>\n",
       "<style scoped>\n",
       "    .dataframe tbody tr th:only-of-type {\n",
       "        vertical-align: middle;\n",
       "    }\n",
       "\n",
       "    .dataframe tbody tr th {\n",
       "        vertical-align: top;\n",
       "    }\n",
       "\n",
       "    .dataframe thead th {\n",
       "        text-align: right;\n",
       "    }\n",
       "</style>\n",
       "<table border=\"1\" class=\"dataframe\">\n",
       "  <thead>\n",
       "    <tr style=\"text-align: right;\">\n",
       "      <th></th>\n",
       "      <th>0</th>\n",
       "    </tr>\n",
       "  </thead>\n",
       "  <tbody>\n",
       "    <tr>\n",
       "      <th>count</th>\n",
       "      <td>285.000000</td>\n",
       "    </tr>\n",
       "    <tr>\n",
       "      <th>mean</th>\n",
       "      <td>0.601412</td>\n",
       "    </tr>\n",
       "    <tr>\n",
       "      <th>std</th>\n",
       "      <td>0.305063</td>\n",
       "    </tr>\n",
       "    <tr>\n",
       "      <th>min</th>\n",
       "      <td>0.040472</td>\n",
       "    </tr>\n",
       "    <tr>\n",
       "      <th>25%</th>\n",
       "      <td>0.343462</td>\n",
       "    </tr>\n",
       "    <tr>\n",
       "      <th>50%</th>\n",
       "      <td>0.515169</td>\n",
       "    </tr>\n",
       "    <tr>\n",
       "      <th>75%</th>\n",
       "      <td>0.969039</td>\n",
       "    </tr>\n",
       "    <tr>\n",
       "      <th>max</th>\n",
       "      <td>0.999975</td>\n",
       "    </tr>\n",
       "  </tbody>\n",
       "</table>\n",
       "</div>"
      ],
      "text/plain": [
       "                0\n",
       "count  285.000000\n",
       "mean     0.601412\n",
       "std      0.305063\n",
       "min      0.040472\n",
       "25%      0.343462\n",
       "50%      0.515169\n",
       "75%      0.969039\n",
       "max      0.999975"
      ]
     },
     "execution_count": 71,
     "metadata": {},
     "output_type": "execute_result"
    }
   ],
   "source": [
    "nan_df.describe()"
   ]
  },
  {
   "cell_type": "markdown",
   "id": "35ca4beb",
   "metadata": {},
   "source": [
    "몇몇 이상치를 제외하고 기존 로그변환 값보다 낮게 나온것을 볼 수있다. \n",
    "\n",
    "이유를 찾기위해 람다 성정기준을 찾아보았지만 나오지 않았다"
   ]
  },
  {
   "cell_type": "markdown",
   "id": "104a080a",
   "metadata": {},
   "source": [
    "이유를 못찾겠다. 일단 기존 NaN값이였던 row의 값이 비정상적으로 낮은 값에 위치함을 알 수있다.\n",
    "그럼으로 일단 로그분포에서 nan값은 제외한체 분석을 계속 진행한다."
   ]
  },
  {
   "cell_type": "code",
   "execution_count": 72,
   "id": "343ea977",
   "metadata": {},
   "outputs": [],
   "source": [
    "log_corr_df.dropna(inplace = True)"
   ]
  },
  {
   "cell_type": "code",
   "execution_count": 73,
   "id": "65ff804c",
   "metadata": {},
   "outputs": [
    {
     "data": {
      "text/html": [
       "<div>\n",
       "<style scoped>\n",
       "    .dataframe tbody tr th:only-of-type {\n",
       "        vertical-align: middle;\n",
       "    }\n",
       "\n",
       "    .dataframe tbody tr th {\n",
       "        vertical-align: top;\n",
       "    }\n",
       "\n",
       "    .dataframe thead th {\n",
       "        text-align: right;\n",
       "    }\n",
       "</style>\n",
       "<table border=\"1\" class=\"dataframe\">\n",
       "  <thead>\n",
       "    <tr style=\"text-align: right;\">\n",
       "      <th></th>\n",
       "      <th>0</th>\n",
       "    </tr>\n",
       "  </thead>\n",
       "  <tbody>\n",
       "    <tr>\n",
       "      <th>count</th>\n",
       "      <td>364.000000</td>\n",
       "    </tr>\n",
       "    <tr>\n",
       "      <th>mean</th>\n",
       "      <td>0.984730</td>\n",
       "    </tr>\n",
       "    <tr>\n",
       "      <th>std</th>\n",
       "      <td>0.029478</td>\n",
       "    </tr>\n",
       "    <tr>\n",
       "      <th>min</th>\n",
       "      <td>0.722657</td>\n",
       "    </tr>\n",
       "    <tr>\n",
       "      <th>25%</th>\n",
       "      <td>0.985566</td>\n",
       "    </tr>\n",
       "    <tr>\n",
       "      <th>50%</th>\n",
       "      <td>0.995528</td>\n",
       "    </tr>\n",
       "    <tr>\n",
       "      <th>75%</th>\n",
       "      <td>0.998307</td>\n",
       "    </tr>\n",
       "    <tr>\n",
       "      <th>max</th>\n",
       "      <td>0.999893</td>\n",
       "    </tr>\n",
       "  </tbody>\n",
       "</table>\n",
       "</div>"
      ],
      "text/plain": [
       "                0\n",
       "count  364.000000\n",
       "mean     0.984730\n",
       "std      0.029478\n",
       "min      0.722657\n",
       "25%      0.985566\n",
       "50%      0.995528\n",
       "75%      0.998307\n",
       "max      0.999893"
      ]
     },
     "execution_count": 73,
     "metadata": {},
     "output_type": "execute_result"
    }
   ],
   "source": [
    "log_corr_df.describe()"
   ]
  },
  {
   "cell_type": "code",
   "execution_count": 74,
   "id": "a70ac595",
   "metadata": {},
   "outputs": [
    {
     "data": {
      "text/plain": [
       "<AxesSubplot:ylabel='Density'>"
      ]
     },
     "execution_count": 74,
     "metadata": {},
     "output_type": "execute_result"
    },
    {
     "data": {
      "image/png": "[encoded data removed]",
      "text/plain": [
       "<Figure size 432x288 with 1 Axes>"
      ]
     },
     "metadata": {
      "needs_background": "light"
     },
     "output_type": "display_data"
    }
   ],
   "source": [
    "sns.distplot(log_corr_df)"
   ]
  },
  {
   "cell_type": "markdown",
   "id": "12e48f20",
   "metadata": {},
   "source": [
    "### 대부분의 값들이 0.8 ~ 1.0에 분포함을 알 수있다.\n",
    "현재 분석한 데이터는 기업들의 2019 재무제표와 2020재무제표를 상관관계 분석을 한것이다.\n",
    "상관계수가 높은 것을 보아 우리는 한 기업 내에서 2019년도 재무제표와 2020년도의 재무제표가 서로 유사한 형태의 그래프임을 알 수있다. 이는 재무제표속 값들속 상대적 비율이 일정하게 유지 되면서 값들이 움직인다고 볼 수있다. \n",
    "위 분석의 결과를 통해 다른 기업과 재무제표를 비교하는게 의미가 있다는 것을 알 수있다. \n",
    "### 다시 가설2 로 돌아와서 제무제표의 상관계수를 통해 기업의 pair를 찾아보자\n",
    "\n",
    "### 데이터는 2020데이터를 사용한다."
   ]
  },
  {
   "cell_type": "code",
   "execution_count": 75,
   "id": "89b5c3b8",
   "metadata": {},
   "outputs": [],
   "source": [
    "fs_df_2020_log = np.log(fs_df_2020)"
   ]
  },
  {
   "cell_type": "code",
   "execution_count": 76,
   "id": "ceb3c537",
   "metadata": {
    "scrolled": false
   },
   "outputs": [
    {
     "data": {
      "text/plain": [
       "매출액            0\n",
       "영업이익         133\n",
       "당기순이익        186\n",
       "영업이익률        133\n",
       "순이익률         186\n",
       "ROE(지배주주)    189\n",
       "부채비율           2\n",
       "당좌비율           0\n",
       "유보율           18\n",
       "EPS(원)       189\n",
       "PER(배)       189\n",
       "BPS(원)         1\n",
       "PBR(배)         1\n",
       "dtype: int64"
      ]
     },
     "execution_count": 76,
     "metadata": {},
     "output_type": "execute_result"
    }
   ],
   "source": [
    "fs_df_2020_log.isna().sum()"
   ]
  },
  {
   "cell_type": "markdown",
   "id": "9fc803a3",
   "metadata": {},
   "source": [
    "여기에서도 log변환을 사용했기에 0은 결측치로 대체 되었다. \n",
    "원계획은 여존슨 변환으로 한번 더 분석 할 예정이였지만 주제1에서 변환을 했을때 데이터가 극단적으로 버러지는 것을 보고 그냥 결측치를 삭제하는 방향으로 진행하였다."
   ]
  },
  {
   "cell_type": "code",
   "execution_count": 77,
   "id": "29255e17",
   "metadata": {},
   "outputs": [],
   "source": [
    "fs_df_2020_log.dropna(inplace = True)"
   ]
  },
  {
   "cell_type": "code",
   "execution_count": 78,
   "id": "ca736d76",
   "metadata": {},
   "outputs": [
    {
     "data": {
      "text/plain": [
       "437"
      ]
     },
     "execution_count": 78,
     "metadata": {},
     "output_type": "execute_result"
    }
   ],
   "source": [
    "len(fs_df_2020_log.index)"
   ]
  },
  {
   "cell_type": "code",
   "execution_count": 79,
   "id": "43115502",
   "metadata": {
    "scrolled": true
   },
   "outputs": [
    {
     "data": {
      "text/html": [
       "<div>\n",
       "<style scoped>\n",
       "    .dataframe tbody tr th:only-of-type {\n",
       "        vertical-align: middle;\n",
       "    }\n",
       "\n",
       "    .dataframe tbody tr th {\n",
       "        vertical-align: top;\n",
       "    }\n",
       "\n",
       "    .dataframe thead th {\n",
       "        text-align: right;\n",
       "    }\n",
       "</style>\n",
       "<table border=\"1\" class=\"dataframe\">\n",
       "  <thead>\n",
       "    <tr style=\"text-align: right;\">\n",
       "      <th></th>\n",
       "      <th>004840</th>\n",
       "      <th>155660</th>\n",
       "      <th>294870</th>\n",
       "      <th>001390</th>\n",
       "      <th>025000</th>\n",
       "      <th>044450</th>\n",
       "      <th>058860</th>\n",
       "      <th>011070</th>\n",
       "      <th>023150</th>\n",
       "      <th>178920</th>\n",
       "      <th>...</th>\n",
       "      <th>103140</th>\n",
       "      <th>004090</th>\n",
       "      <th>002960</th>\n",
       "      <th>000970</th>\n",
       "      <th>016450</th>\n",
       "      <th>010420</th>\n",
       "      <th>005440</th>\n",
       "      <th>011210</th>\n",
       "      <th>011760</th>\n",
       "      <th>227840</th>\n",
       "    </tr>\n",
       "  </thead>\n",
       "  <tbody>\n",
       "    <tr>\n",
       "      <th>004840</th>\n",
       "      <td>1.000000</td>\n",
       "      <td>0.957660</td>\n",
       "      <td>0.868326</td>\n",
       "      <td>0.862971</td>\n",
       "      <td>0.858631</td>\n",
       "      <td>0.942740</td>\n",
       "      <td>0.963232</td>\n",
       "      <td>0.887182</td>\n",
       "      <td>0.888887</td>\n",
       "      <td>0.925266</td>\n",
       "      <td>...</td>\n",
       "      <td>0.914912</td>\n",
       "      <td>0.965973</td>\n",
       "      <td>0.844379</td>\n",
       "      <td>0.935465</td>\n",
       "      <td>0.888929</td>\n",
       "      <td>0.931207</td>\n",
       "      <td>0.940800</td>\n",
       "      <td>0.951443</td>\n",
       "      <td>0.871899</td>\n",
       "      <td>0.860789</td>\n",
       "    </tr>\n",
       "    <tr>\n",
       "      <th>155660</th>\n",
       "      <td>0.957660</td>\n",
       "      <td>1.000000</td>\n",
       "      <td>0.927149</td>\n",
       "      <td>0.930105</td>\n",
       "      <td>0.956425</td>\n",
       "      <td>0.965617</td>\n",
       "      <td>0.981736</td>\n",
       "      <td>0.939024</td>\n",
       "      <td>0.948573</td>\n",
       "      <td>0.978812</td>\n",
       "      <td>...</td>\n",
       "      <td>0.965083</td>\n",
       "      <td>0.991558</td>\n",
       "      <td>0.942868</td>\n",
       "      <td>0.988423</td>\n",
       "      <td>0.952996</td>\n",
       "      <td>0.950895</td>\n",
       "      <td>0.970549</td>\n",
       "      <td>0.971712</td>\n",
       "      <td>0.950031</td>\n",
       "      <td>0.951536</td>\n",
       "    </tr>\n",
       "    <tr>\n",
       "      <th>294870</th>\n",
       "      <td>0.868326</td>\n",
       "      <td>0.927149</td>\n",
       "      <td>1.000000</td>\n",
       "      <td>0.991993</td>\n",
       "      <td>0.950185</td>\n",
       "      <td>0.922701</td>\n",
       "      <td>0.919783</td>\n",
       "      <td>0.983717</td>\n",
       "      <td>0.870684</td>\n",
       "      <td>0.953219</td>\n",
       "      <td>...</td>\n",
       "      <td>0.986061</td>\n",
       "      <td>0.911122</td>\n",
       "      <td>0.898638</td>\n",
       "      <td>0.946501</td>\n",
       "      <td>0.967378</td>\n",
       "      <td>0.874086</td>\n",
       "      <td>0.964889</td>\n",
       "      <td>0.952111</td>\n",
       "      <td>0.952211</td>\n",
       "      <td>0.921806</td>\n",
       "    </tr>\n",
       "    <tr>\n",
       "      <th>001390</th>\n",
       "      <td>0.862971</td>\n",
       "      <td>0.930105</td>\n",
       "      <td>0.991993</td>\n",
       "      <td>1.000000</td>\n",
       "      <td>0.942050</td>\n",
       "      <td>0.926456</td>\n",
       "      <td>0.928106</td>\n",
       "      <td>0.991214</td>\n",
       "      <td>0.888247</td>\n",
       "      <td>0.943667</td>\n",
       "      <td>...</td>\n",
       "      <td>0.990128</td>\n",
       "      <td>0.917914</td>\n",
       "      <td>0.899825</td>\n",
       "      <td>0.945727</td>\n",
       "      <td>0.982759</td>\n",
       "      <td>0.895714</td>\n",
       "      <td>0.966293</td>\n",
       "      <td>0.961991</td>\n",
       "      <td>0.974066</td>\n",
       "      <td>0.911788</td>\n",
       "    </tr>\n",
       "    <tr>\n",
       "      <th>025000</th>\n",
       "      <td>0.858631</td>\n",
       "      <td>0.956425</td>\n",
       "      <td>0.950185</td>\n",
       "      <td>0.942050</td>\n",
       "      <td>1.000000</td>\n",
       "      <td>0.903793</td>\n",
       "      <td>0.915613</td>\n",
       "      <td>0.945160</td>\n",
       "      <td>0.887570</td>\n",
       "      <td>0.980256</td>\n",
       "      <td>...</td>\n",
       "      <td>0.962662</td>\n",
       "      <td>0.921663</td>\n",
       "      <td>0.979329</td>\n",
       "      <td>0.971073</td>\n",
       "      <td>0.932989</td>\n",
       "      <td>0.866037</td>\n",
       "      <td>0.942323</td>\n",
       "      <td>0.933611</td>\n",
       "      <td>0.938273</td>\n",
       "      <td>0.984593</td>\n",
       "    </tr>\n",
       "    <tr>\n",
       "      <th>...</th>\n",
       "      <td>...</td>\n",
       "      <td>...</td>\n",
       "      <td>...</td>\n",
       "      <td>...</td>\n",
       "      <td>...</td>\n",
       "      <td>...</td>\n",
       "      <td>...</td>\n",
       "      <td>...</td>\n",
       "      <td>...</td>\n",
       "      <td>...</td>\n",
       "      <td>...</td>\n",
       "      <td>...</td>\n",
       "      <td>...</td>\n",
       "      <td>...</td>\n",
       "      <td>...</td>\n",
       "      <td>...</td>\n",
       "      <td>...</td>\n",
       "      <td>...</td>\n",
       "      <td>...</td>\n",
       "      <td>...</td>\n",
       "      <td>...</td>\n",
       "    </tr>\n",
       "    <tr>\n",
       "      <th>010420</th>\n",
       "      <td>0.931207</td>\n",
       "      <td>0.950895</td>\n",
       "      <td>0.874086</td>\n",
       "      <td>0.895714</td>\n",
       "      <td>0.866037</td>\n",
       "      <td>0.904663</td>\n",
       "      <td>0.986238</td>\n",
       "      <td>0.895582</td>\n",
       "      <td>0.906475</td>\n",
       "      <td>0.886476</td>\n",
       "      <td>...</td>\n",
       "      <td>0.919973</td>\n",
       "      <td>0.969532</td>\n",
       "      <td>0.862398</td>\n",
       "      <td>0.941293</td>\n",
       "      <td>0.931242</td>\n",
       "      <td>1.000000</td>\n",
       "      <td>0.928079</td>\n",
       "      <td>0.959500</td>\n",
       "      <td>0.954881</td>\n",
       "      <td>0.886044</td>\n",
       "    </tr>\n",
       "    <tr>\n",
       "      <th>005440</th>\n",
       "      <td>0.940800</td>\n",
       "      <td>0.970549</td>\n",
       "      <td>0.964889</td>\n",
       "      <td>0.966293</td>\n",
       "      <td>0.942323</td>\n",
       "      <td>0.938858</td>\n",
       "      <td>0.972192</td>\n",
       "      <td>0.974202</td>\n",
       "      <td>0.882816</td>\n",
       "      <td>0.975829</td>\n",
       "      <td>...</td>\n",
       "      <td>0.984362</td>\n",
       "      <td>0.963196</td>\n",
       "      <td>0.894576</td>\n",
       "      <td>0.984531</td>\n",
       "      <td>0.981667</td>\n",
       "      <td>0.928079</td>\n",
       "      <td>1.000000</td>\n",
       "      <td>0.983551</td>\n",
       "      <td>0.957162</td>\n",
       "      <td>0.919385</td>\n",
       "    </tr>\n",
       "    <tr>\n",
       "      <th>011210</th>\n",
       "      <td>0.951443</td>\n",
       "      <td>0.971712</td>\n",
       "      <td>0.952111</td>\n",
       "      <td>0.961991</td>\n",
       "      <td>0.933611</td>\n",
       "      <td>0.939412</td>\n",
       "      <td>0.983060</td>\n",
       "      <td>0.974263</td>\n",
       "      <td>0.900937</td>\n",
       "      <td>0.959166</td>\n",
       "      <td>...</td>\n",
       "      <td>0.984902</td>\n",
       "      <td>0.969287</td>\n",
       "      <td>0.916116</td>\n",
       "      <td>0.976556</td>\n",
       "      <td>0.968743</td>\n",
       "      <td>0.959500</td>\n",
       "      <td>0.983551</td>\n",
       "      <td>1.000000</td>\n",
       "      <td>0.971135</td>\n",
       "      <td>0.924401</td>\n",
       "    </tr>\n",
       "    <tr>\n",
       "      <th>011760</th>\n",
       "      <td>0.871899</td>\n",
       "      <td>0.950031</td>\n",
       "      <td>0.952211</td>\n",
       "      <td>0.974066</td>\n",
       "      <td>0.938273</td>\n",
       "      <td>0.912093</td>\n",
       "      <td>0.961495</td>\n",
       "      <td>0.965314</td>\n",
       "      <td>0.908268</td>\n",
       "      <td>0.930662</td>\n",
       "      <td>...</td>\n",
       "      <td>0.972892</td>\n",
       "      <td>0.947035</td>\n",
       "      <td>0.918344</td>\n",
       "      <td>0.960915</td>\n",
       "      <td>0.982511</td>\n",
       "      <td>0.954881</td>\n",
       "      <td>0.957162</td>\n",
       "      <td>0.971135</td>\n",
       "      <td>1.000000</td>\n",
       "      <td>0.929858</td>\n",
       "    </tr>\n",
       "    <tr>\n",
       "      <th>227840</th>\n",
       "      <td>0.860789</td>\n",
       "      <td>0.951536</td>\n",
       "      <td>0.921806</td>\n",
       "      <td>0.911788</td>\n",
       "      <td>0.984593</td>\n",
       "      <td>0.879808</td>\n",
       "      <td>0.923164</td>\n",
       "      <td>0.905777</td>\n",
       "      <td>0.872857</td>\n",
       "      <td>0.953089</td>\n",
       "      <td>...</td>\n",
       "      <td>0.939502</td>\n",
       "      <td>0.915440</td>\n",
       "      <td>0.970825</td>\n",
       "      <td>0.960675</td>\n",
       "      <td>0.901662</td>\n",
       "      <td>0.886044</td>\n",
       "      <td>0.919385</td>\n",
       "      <td>0.924401</td>\n",
       "      <td>0.929858</td>\n",
       "      <td>1.000000</td>\n",
       "    </tr>\n",
       "  </tbody>\n",
       "</table>\n",
       "<p>437 rows × 437 columns</p>\n",
       "</div>"
      ],
      "text/plain": [
       "          004840    155660    294870    001390    025000    044450    058860  \\\n",
       "004840  1.000000  0.957660  0.868326  0.862971  0.858631  0.942740  0.963232   \n",
       "155660  0.957660  1.000000  0.927149  0.930105  0.956425  0.965617  0.981736   \n",
       "294870  0.868326  0.927149  1.000000  0.991993  0.950185  0.922701  0.919783   \n",
       "001390  0.862971  0.930105  0.991993  1.000000  0.942050  0.926456  0.928106   \n",
       "025000  0.858631  0.956425  0.950185  0.942050  1.000000  0.903793  0.915613   \n",
       "...          ...       ...       ...       ...       ...       ...       ...   \n",
       "010420  0.931207  0.950895  0.874086  0.895714  0.866037  0.904663  0.986238   \n",
       "005440  0.940800  0.970549  0.964889  0.966293  0.942323  0.938858  0.972192   \n",
       "011210  0.951443  0.971712  0.952111  0.961991  0.933611  0.939412  0.983060   \n",
       "011760  0.871899  0.950031  0.952211  0.974066  0.938273  0.912093  0.961495   \n",
       "227840  0.860789  0.951536  0.921806  0.911788  0.984593  0.879808  0.923164   \n",
       "\n",
       "          011070    023150    178920  ...    103140    004090    002960  \\\n",
       "004840  0.887182  0.888887  0.925266  ...  0.914912  0.965973  0.844379   \n",
       "155660  0.939024  0.948573  0.978812  ...  0.965083  0.991558  0.942868   \n",
       "294870  0.983717  0.870684  0.953219  ...  0.986061  0.911122  0.898638   \n",
       "001390  0.991214  0.888247  0.943667  ...  0.990128  0.917914  0.899825   \n",
       "025000  0.945160  0.887570  0.980256  ...  0.962662  0.921663  0.979329   \n",
       "...          ...       ...       ...  ...       ...       ...       ...   \n",
       "010420  0.895582  0.906475  0.886476  ...  0.919973  0.969532  0.862398   \n",
       "005440  0.974202  0.882816  0.975829  ...  0.984362  0.963196  0.894576   \n",
       "011210  0.974263  0.900937  0.959166  ...  0.984902  0.969287  0.916116   \n",
       "011760  0.965314  0.908268  0.930662  ...  0.972892  0.947035  0.918344   \n",
       "227840  0.905777  0.872857  0.953089  ...  0.939502  0.915440  0.970825   \n",
       "\n",
       "          000970    016450    010420    005440    011210    011760    227840  \n",
       "004840  0.935465  0.888929  0.931207  0.940800  0.951443  0.871899  0.860789  \n",
       "155660  0.988423  0.952996  0.950895  0.970549  0.971712  0.950031  0.951536  \n",
       "294870  0.946501  0.967378  0.874086  0.964889  0.952111  0.952211  0.921806  \n",
       "001390  0.945727  0.982759  0.895714  0.966293  0.961991  0.974066  0.911788  \n",
       "025000  0.971073  0.932989  0.866037  0.942323  0.933611  0.938273  0.984593  \n",
       "...          ...       ...       ...       ...       ...       ...       ...  \n",
       "010420  0.941293  0.931242  1.000000  0.928079  0.959500  0.954881  0.886044  \n",
       "005440  0.984531  0.981667  0.928079  1.000000  0.983551  0.957162  0.919385  \n",
       "011210  0.976556  0.968743  0.959500  0.983551  1.000000  0.971135  0.924401  \n",
       "011760  0.960915  0.982511  0.954881  0.957162  0.971135  1.000000  0.929858  \n",
       "227840  0.960675  0.901662  0.886044  0.919385  0.924401  0.929858  1.000000  \n",
       "\n",
       "[437 rows x 437 columns]"
      ]
     },
     "execution_count": 79,
     "metadata": {},
     "output_type": "execute_result"
    }
   ],
   "source": [
    "fs_df_2020_log.T.corr()"
   ]
  },
  {
   "cell_type": "code",
   "execution_count": 80,
   "id": "896c61ed",
   "metadata": {
    "scrolled": false
   },
   "outputs": [
    {
     "data": {
      "text/plain": [
       "[<matplotlib.lines.Line2D at 0x1fe075db2e0>]"
      ]
     },
     "execution_count": 80,
     "metadata": {},
     "output_type": "execute_result"
    },
    {
     "data": {
      "image/png": "[encoded data removed]",
      "text/plain": [
       "<Figure size 432x288 with 1 Axes>"
      ]
     },
     "metadata": {
      "needs_background": "light"
     },
     "output_type": "display_data"
    }
   ],
   "source": [
    "plt.plot(fs_df_2020_log.iloc[0,:])\n",
    "plt.plot(fs_df_2020_log.iloc[1,:])"
   ]
  },
  {
   "cell_type": "code",
   "execution_count": 81,
   "id": "940049a8",
   "metadata": {},
   "outputs": [],
   "source": [
    "df = pd.read_csv('all_data_set.csv') "
   ]
  },
  {
   "cell_type": "code",
   "execution_count": 82,
   "id": "99c3b6d5",
   "metadata": {
    "scrolled": false
   },
   "outputs": [],
   "source": [
    "df_T = df.T"
   ]
  },
  {
   "cell_type": "code",
   "execution_count": 83,
   "id": "d286b6dc",
   "metadata": {},
   "outputs": [],
   "source": [
    "for i in df_T.index:\n",
    "    if i not in intersection_index:\n",
    "        df_T.drop(i, inplace = True)\n"
   ]
  },
  {
   "cell_type": "code",
   "execution_count": 84,
   "id": "ae7e33ec",
   "metadata": {},
   "outputs": [],
   "source": [
    "df = df_T.T"
   ]
  },
  {
   "cell_type": "code",
   "execution_count": 85,
   "id": "0bde63b9",
   "metadata": {},
   "outputs": [
    {
     "data": {
      "text/html": [
       "<div>\n",
       "<style scoped>\n",
       "    .dataframe tbody tr th:only-of-type {\n",
       "        vertical-align: middle;\n",
       "    }\n",
       "\n",
       "    .dataframe tbody tr th {\n",
       "        vertical-align: top;\n",
       "    }\n",
       "\n",
       "    .dataframe thead th {\n",
       "        text-align: right;\n",
       "    }\n",
       "</style>\n",
       "<table border=\"1\" class=\"dataframe\">\n",
       "  <thead>\n",
       "    <tr style=\"text-align: right;\">\n",
       "      <th></th>\n",
       "      <th>000210</th>\n",
       "      <th>004840</th>\n",
       "      <th>155660</th>\n",
       "      <th>078930</th>\n",
       "      <th>294870</th>\n",
       "      <th>001390</th>\n",
       "      <th>025000</th>\n",
       "      <th>044450</th>\n",
       "      <th>058860</th>\n",
       "      <th>011070</th>\n",
       "      <th>...</th>\n",
       "      <th>010420</th>\n",
       "      <th>014130</th>\n",
       "      <th>005110</th>\n",
       "      <th>005440</th>\n",
       "      <th>064350</th>\n",
       "      <th>010620</th>\n",
       "      <th>011210</th>\n",
       "      <th>011760</th>\n",
       "      <th>227840</th>\n",
       "      <th>010690</th>\n",
       "    </tr>\n",
       "  </thead>\n",
       "  <tbody>\n",
       "    <tr>\n",
       "      <th>0</th>\n",
       "      <td>68800.0</td>\n",
       "      <td>4180.0</td>\n",
       "      <td>6370.0</td>\n",
       "      <td>47250.0</td>\n",
       "      <td>11100.0</td>\n",
       "      <td>23400.0</td>\n",
       "      <td>48700.0</td>\n",
       "      <td>9550.0</td>\n",
       "      <td>2480.0</td>\n",
       "      <td>302000.0</td>\n",
       "      <td>...</td>\n",
       "      <td>1790.0</td>\n",
       "      <td>5160.0</td>\n",
       "      <td>843.0</td>\n",
       "      <td>6910.0</td>\n",
       "      <td>29900.0</td>\n",
       "      <td>91000.0</td>\n",
       "      <td>60200.0</td>\n",
       "      <td>17650.0</td>\n",
       "      <td>11150.0</td>\n",
       "      <td>8880.0</td>\n",
       "    </tr>\n",
       "    <tr>\n",
       "      <th>1</th>\n",
       "      <td>66500.0</td>\n",
       "      <td>4180.0</td>\n",
       "      <td>6260.0</td>\n",
       "      <td>47050.0</td>\n",
       "      <td>11000.0</td>\n",
       "      <td>22950.0</td>\n",
       "      <td>48400.0</td>\n",
       "      <td>9540.0</td>\n",
       "      <td>2440.0</td>\n",
       "      <td>303000.0</td>\n",
       "      <td>...</td>\n",
       "      <td>1760.0</td>\n",
       "      <td>5090.0</td>\n",
       "      <td>847.0</td>\n",
       "      <td>6840.0</td>\n",
       "      <td>28850.0</td>\n",
       "      <td>90200.0</td>\n",
       "      <td>59000.0</td>\n",
       "      <td>17300.0</td>\n",
       "      <td>11000.0</td>\n",
       "      <td>8550.0</td>\n",
       "    </tr>\n",
       "    <tr>\n",
       "      <th>2</th>\n",
       "      <td>64600.0</td>\n",
       "      <td>4230.0</td>\n",
       "      <td>6310.0</td>\n",
       "      <td>47150.0</td>\n",
       "      <td>10850.0</td>\n",
       "      <td>23350.0</td>\n",
       "      <td>48450.0</td>\n",
       "      <td>9550.0</td>\n",
       "      <td>2435.0</td>\n",
       "      <td>308500.0</td>\n",
       "      <td>...</td>\n",
       "      <td>1765.0</td>\n",
       "      <td>5060.0</td>\n",
       "      <td>845.0</td>\n",
       "      <td>6860.0</td>\n",
       "      <td>29150.0</td>\n",
       "      <td>90200.0</td>\n",
       "      <td>60000.0</td>\n",
       "      <td>17100.0</td>\n",
       "      <td>11150.0</td>\n",
       "      <td>8780.0</td>\n",
       "    </tr>\n",
       "    <tr>\n",
       "      <th>3</th>\n",
       "      <td>64700.0</td>\n",
       "      <td>4280.0</td>\n",
       "      <td>6070.0</td>\n",
       "      <td>46300.0</td>\n",
       "      <td>11200.0</td>\n",
       "      <td>23850.0</td>\n",
       "      <td>49100.0</td>\n",
       "      <td>9690.0</td>\n",
       "      <td>2490.0</td>\n",
       "      <td>307500.0</td>\n",
       "      <td>...</td>\n",
       "      <td>1835.0</td>\n",
       "      <td>4955.0</td>\n",
       "      <td>858.0</td>\n",
       "      <td>6950.0</td>\n",
       "      <td>27350.0</td>\n",
       "      <td>91000.0</td>\n",
       "      <td>60500.0</td>\n",
       "      <td>17450.0</td>\n",
       "      <td>11250.0</td>\n",
       "      <td>9210.0</td>\n",
       "    </tr>\n",
       "    <tr>\n",
       "      <th>4</th>\n",
       "      <td>64700.0</td>\n",
       "      <td>4265.0</td>\n",
       "      <td>6040.0</td>\n",
       "      <td>46450.0</td>\n",
       "      <td>11350.0</td>\n",
       "      <td>24450.0</td>\n",
       "      <td>49450.0</td>\n",
       "      <td>9900.0</td>\n",
       "      <td>2525.0</td>\n",
       "      <td>310500.0</td>\n",
       "      <td>...</td>\n",
       "      <td>1815.0</td>\n",
       "      <td>4985.0</td>\n",
       "      <td>869.0</td>\n",
       "      <td>6950.0</td>\n",
       "      <td>28050.0</td>\n",
       "      <td>90800.0</td>\n",
       "      <td>60500.0</td>\n",
       "      <td>17500.0</td>\n",
       "      <td>11350.0</td>\n",
       "      <td>9330.0</td>\n",
       "    </tr>\n",
       "    <tr>\n",
       "      <th>...</th>\n",
       "      <td>...</td>\n",
       "      <td>...</td>\n",
       "      <td>...</td>\n",
       "      <td>...</td>\n",
       "      <td>...</td>\n",
       "      <td>...</td>\n",
       "      <td>...</td>\n",
       "      <td>...</td>\n",
       "      <td>...</td>\n",
       "      <td>...</td>\n",
       "      <td>...</td>\n",
       "      <td>...</td>\n",
       "      <td>...</td>\n",
       "      <td>...</td>\n",
       "      <td>...</td>\n",
       "      <td>...</td>\n",
       "      <td>...</td>\n",
       "      <td>...</td>\n",
       "      <td>...</td>\n",
       "      <td>...</td>\n",
       "      <td>...</td>\n",
       "    </tr>\n",
       "    <tr>\n",
       "      <th>6630</th>\n",
       "      <td>NaN</td>\n",
       "      <td>NaN</td>\n",
       "      <td>NaN</td>\n",
       "      <td>NaN</td>\n",
       "      <td>NaN</td>\n",
       "      <td>NaN</td>\n",
       "      <td>NaN</td>\n",
       "      <td>NaN</td>\n",
       "      <td>NaN</td>\n",
       "      <td>NaN</td>\n",
       "      <td>...</td>\n",
       "      <td>NaN</td>\n",
       "      <td>NaN</td>\n",
       "      <td>NaN</td>\n",
       "      <td>NaN</td>\n",
       "      <td>NaN</td>\n",
       "      <td>NaN</td>\n",
       "      <td>NaN</td>\n",
       "      <td>NaN</td>\n",
       "      <td>NaN</td>\n",
       "      <td>NaN</td>\n",
       "    </tr>\n",
       "    <tr>\n",
       "      <th>6631</th>\n",
       "      <td>NaN</td>\n",
       "      <td>NaN</td>\n",
       "      <td>NaN</td>\n",
       "      <td>NaN</td>\n",
       "      <td>NaN</td>\n",
       "      <td>NaN</td>\n",
       "      <td>NaN</td>\n",
       "      <td>NaN</td>\n",
       "      <td>NaN</td>\n",
       "      <td>NaN</td>\n",
       "      <td>...</td>\n",
       "      <td>NaN</td>\n",
       "      <td>NaN</td>\n",
       "      <td>NaN</td>\n",
       "      <td>NaN</td>\n",
       "      <td>NaN</td>\n",
       "      <td>NaN</td>\n",
       "      <td>NaN</td>\n",
       "      <td>NaN</td>\n",
       "      <td>NaN</td>\n",
       "      <td>NaN</td>\n",
       "    </tr>\n",
       "    <tr>\n",
       "      <th>6632</th>\n",
       "      <td>NaN</td>\n",
       "      <td>NaN</td>\n",
       "      <td>NaN</td>\n",
       "      <td>NaN</td>\n",
       "      <td>NaN</td>\n",
       "      <td>NaN</td>\n",
       "      <td>NaN</td>\n",
       "      <td>NaN</td>\n",
       "      <td>NaN</td>\n",
       "      <td>NaN</td>\n",
       "      <td>...</td>\n",
       "      <td>NaN</td>\n",
       "      <td>NaN</td>\n",
       "      <td>NaN</td>\n",
       "      <td>NaN</td>\n",
       "      <td>NaN</td>\n",
       "      <td>NaN</td>\n",
       "      <td>NaN</td>\n",
       "      <td>NaN</td>\n",
       "      <td>NaN</td>\n",
       "      <td>NaN</td>\n",
       "    </tr>\n",
       "    <tr>\n",
       "      <th>6633</th>\n",
       "      <td>NaN</td>\n",
       "      <td>NaN</td>\n",
       "      <td>NaN</td>\n",
       "      <td>NaN</td>\n",
       "      <td>NaN</td>\n",
       "      <td>NaN</td>\n",
       "      <td>NaN</td>\n",
       "      <td>NaN</td>\n",
       "      <td>NaN</td>\n",
       "      <td>NaN</td>\n",
       "      <td>...</td>\n",
       "      <td>NaN</td>\n",
       "      <td>NaN</td>\n",
       "      <td>NaN</td>\n",
       "      <td>NaN</td>\n",
       "      <td>NaN</td>\n",
       "      <td>NaN</td>\n",
       "      <td>NaN</td>\n",
       "      <td>NaN</td>\n",
       "      <td>NaN</td>\n",
       "      <td>NaN</td>\n",
       "    </tr>\n",
       "    <tr>\n",
       "      <th>6634</th>\n",
       "      <td>NaN</td>\n",
       "      <td>NaN</td>\n",
       "      <td>NaN</td>\n",
       "      <td>NaN</td>\n",
       "      <td>NaN</td>\n",
       "      <td>NaN</td>\n",
       "      <td>NaN</td>\n",
       "      <td>NaN</td>\n",
       "      <td>NaN</td>\n",
       "      <td>NaN</td>\n",
       "      <td>...</td>\n",
       "      <td>NaN</td>\n",
       "      <td>NaN</td>\n",
       "      <td>NaN</td>\n",
       "      <td>NaN</td>\n",
       "      <td>NaN</td>\n",
       "      <td>NaN</td>\n",
       "      <td>NaN</td>\n",
       "      <td>NaN</td>\n",
       "      <td>NaN</td>\n",
       "      <td>NaN</td>\n",
       "    </tr>\n",
       "  </tbody>\n",
       "</table>\n",
       "<p>6635 rows × 649 columns</p>\n",
       "</div>"
      ],
      "text/plain": [
       "       000210  004840  155660   078930   294870   001390   025000  044450  \\\n",
       "0     68800.0  4180.0  6370.0  47250.0  11100.0  23400.0  48700.0  9550.0   \n",
       "1     66500.0  4180.0  6260.0  47050.0  11000.0  22950.0  48400.0  9540.0   \n",
       "2     64600.0  4230.0  6310.0  47150.0  10850.0  23350.0  48450.0  9550.0   \n",
       "3     64700.0  4280.0  6070.0  46300.0  11200.0  23850.0  49100.0  9690.0   \n",
       "4     64700.0  4265.0  6040.0  46450.0  11350.0  24450.0  49450.0  9900.0   \n",
       "...       ...     ...     ...      ...      ...      ...      ...     ...   \n",
       "6630      NaN     NaN     NaN      NaN      NaN      NaN      NaN     NaN   \n",
       "6631      NaN     NaN     NaN      NaN      NaN      NaN      NaN     NaN   \n",
       "6632      NaN     NaN     NaN      NaN      NaN      NaN      NaN     NaN   \n",
       "6633      NaN     NaN     NaN      NaN      NaN      NaN      NaN     NaN   \n",
       "6634      NaN     NaN     NaN      NaN      NaN      NaN      NaN     NaN   \n",
       "\n",
       "      058860    011070  ...  010420  014130 005110  005440   064350   010620  \\\n",
       "0     2480.0  302000.0  ...  1790.0  5160.0  843.0  6910.0  29900.0  91000.0   \n",
       "1     2440.0  303000.0  ...  1760.0  5090.0  847.0  6840.0  28850.0  90200.0   \n",
       "2     2435.0  308500.0  ...  1765.0  5060.0  845.0  6860.0  29150.0  90200.0   \n",
       "3     2490.0  307500.0  ...  1835.0  4955.0  858.0  6950.0  27350.0  91000.0   \n",
       "4     2525.0  310500.0  ...  1815.0  4985.0  869.0  6950.0  28050.0  90800.0   \n",
       "...      ...       ...  ...     ...     ...    ...     ...      ...      ...   \n",
       "6630     NaN       NaN  ...     NaN     NaN    NaN     NaN      NaN      NaN   \n",
       "6631     NaN       NaN  ...     NaN     NaN    NaN     NaN      NaN      NaN   \n",
       "6632     NaN       NaN  ...     NaN     NaN    NaN     NaN      NaN      NaN   \n",
       "6633     NaN       NaN  ...     NaN     NaN    NaN     NaN      NaN      NaN   \n",
       "6634     NaN       NaN  ...     NaN     NaN    NaN     NaN      NaN      NaN   \n",
       "\n",
       "       011210   011760   227840  010690  \n",
       "0     60200.0  17650.0  11150.0  8880.0  \n",
       "1     59000.0  17300.0  11000.0  8550.0  \n",
       "2     60000.0  17100.0  11150.0  8780.0  \n",
       "3     60500.0  17450.0  11250.0  9210.0  \n",
       "4     60500.0  17500.0  11350.0  9330.0  \n",
       "...       ...      ...      ...     ...  \n",
       "6630      NaN      NaN      NaN     NaN  \n",
       "6631      NaN      NaN      NaN     NaN  \n",
       "6632      NaN      NaN      NaN     NaN  \n",
       "6633      NaN      NaN      NaN     NaN  \n",
       "6634      NaN      NaN      NaN     NaN  \n",
       "\n",
       "[6635 rows x 649 columns]"
      ]
     },
     "execution_count": 85,
     "metadata": {},
     "output_type": "execute_result"
    }
   ],
   "source": [
    "df"
   ]
  },
  {
   "cell_type": "code",
   "execution_count": 86,
   "id": "5a67f43c",
   "metadata": {},
   "outputs": [
    {
     "data": {
      "text/plain": [
       "{5: 246,\n",
       " 32: 67,\n",
       " 1185: 11,\n",
       " 181: 5,\n",
       " 5559: 4,\n",
       " 376: 4,\n",
       " 582: 4,\n",
       " 7: 4,\n",
       " 62: 3,\n",
       " 5415: 3,\n",
       " 3597: 3,\n",
       " 8: 3,\n",
       " 155: 3,\n",
       " 5271: 3,\n",
       " 3472: 2,\n",
       " 4151: 2,\n",
       " 892: 2,\n",
       " 1245: 2,\n",
       " 39: 2,\n",
       " 4874: 2,\n",
       " 12: 2,\n",
       " 580: 2,\n",
       " 35: 2,\n",
       " 1300: 2,\n",
       " 585: 2,\n",
       " 2107: 2,\n",
       " 449: 2,\n",
       " 343: 2,\n",
       " 15: 2,\n",
       " 1278: 2,\n",
       " 583: 2,\n",
       " 3547: 1,\n",
       " 1157: 1,\n",
       " 1058: 1,\n",
       " 2045: 1,\n",
       " 5273: 1,\n",
       " 1496: 1,\n",
       " 5140: 1,\n",
       " 1011: 1,\n",
       " 5235: 1,\n",
       " 3606: 1,\n",
       " 2348: 1,\n",
       " 1180: 1,\n",
       " 4539: 1,\n",
       " 3933: 1,\n",
       " 5614: 1,\n",
       " 2602: 1,\n",
       " 3720: 1,\n",
       " 2912: 1,\n",
       " 5881: 1,\n",
       " 4512: 1,\n",
       " 1500: 1,\n",
       " 4660: 1,\n",
       " 2431: 1,\n",
       " 3636: 1,\n",
       " 3486: 1,\n",
       " 3824: 1,\n",
       " 3072: 1,\n",
       " 5408: 1,\n",
       " 5432: 1,\n",
       " 885: 1,\n",
       " 4409: 1,\n",
       " 5648: 1,\n",
       " 3681: 1,\n",
       " 3468: 1,\n",
       " 267: 1,\n",
       " 3096: 1,\n",
       " 523: 1,\n",
       " 2444: 1,\n",
       " 3559: 1,\n",
       " 1690: 1,\n",
       " 982: 1,\n",
       " 5412: 1,\n",
       " 765: 1,\n",
       " 2098: 1,\n",
       " 4594: 1,\n",
       " 5436: 1,\n",
       " 2887: 1,\n",
       " 5254: 1,\n",
       " 3825: 1,\n",
       " 4708: 1,\n",
       " 5886: 1,\n",
       " 5056: 1,\n",
       " 2415: 1,\n",
       " 5572: 1,\n",
       " 4377: 1,\n",
       " 2563: 1,\n",
       " 5603: 1,\n",
       " 4632: 1,\n",
       " 1671: 1,\n",
       " 2408: 1,\n",
       " 4905: 1,\n",
       " 2364: 1,\n",
       " 2331: 1,\n",
       " 5081: 1,\n",
       " 5720: 1,\n",
       " 2486: 1,\n",
       " 5386: 1,\n",
       " 3239: 1,\n",
       " 4684: 1,\n",
       " 1446: 1,\n",
       " 1013: 1,\n",
       " 2809: 1,\n",
       " 3555: 1,\n",
       " 1837: 1,\n",
       " 1139: 1,\n",
       " 581: 1,\n",
       " 4937: 1,\n",
       " 4902: 1,\n",
       " 4431: 1,\n",
       " 2981: 1,\n",
       " 959: 1,\n",
       " 5387: 1,\n",
       " 1621: 1,\n",
       " 3094: 1,\n",
       " 1006: 1,\n",
       " 4404: 1,\n",
       " 3736: 1,\n",
       " 3424: 1,\n",
       " 3988: 1,\n",
       " 3628: 1,\n",
       " 5730: 1,\n",
       " 2347: 1,\n",
       " 42: 1,\n",
       " 3253: 1,\n",
       " 1921: 1,\n",
       " 3693: 1,\n",
       " 5123: 1,\n",
       " 4583: 1,\n",
       " 2702: 1,\n",
       " 2641: 1,\n",
       " 3705: 1,\n",
       " 2687: 1,\n",
       " 4812: 1,\n",
       " 260: 1,\n",
       " 1980: 1,\n",
       " 4701: 1,\n",
       " 2409: 1,\n",
       " 5894: 1,\n",
       " 1198: 1,\n",
       " 3058: 1,\n",
       " 2813: 1,\n",
       " 322: 1,\n",
       " 5103: 1,\n",
       " 3744: 1,\n",
       " 772: 1,\n",
       " 3608: 1,\n",
       " 3807: 1,\n",
       " 1719: 1,\n",
       " 3818: 1,\n",
       " 2943: 1,\n",
       " 3318: 1,\n",
       " 1373: 1,\n",
       " 3135: 1,\n",
       " 1732: 1,\n",
       " 123: 1,\n",
       " 2850: 1,\n",
       " 2653: 1,\n",
       " 3631: 1,\n",
       " 5116: 1,\n",
       " 4808: 1,\n",
       " 1515: 1,\n",
       " 1426: 1,\n",
       " 3699: 1,\n",
       " 4266: 1,\n",
       " 3311: 1,\n",
       " 33: 1,\n",
       " 37: 1,\n",
       " 801: 1,\n",
       " 1365: 1,\n",
       " 1606: 1,\n",
       " 4420: 1,\n",
       " 2581: 1,\n",
       " 1112: 1,\n",
       " 3388: 1,\n",
       " 2669: 1,\n",
       " 2356: 1,\n",
       " 3814: 1,\n",
       " 2450: 1,\n",
       " 1429: 1,\n",
       " 3401: 1,\n",
       " 901: 1,\n",
       " 3783: 1,\n",
       " 4140: 1,\n",
       " 3947: 1,\n",
       " 2889: 1,\n",
       " 1208: 1,\n",
       " 2205: 1,\n",
       " 5537: 1,\n",
       " 2908: 1,\n",
       " 3694: 1,\n",
       " 3090: 1,\n",
       " 4166: 1,\n",
       " 3274: 1,\n",
       " 4676: 1,\n",
       " 2846: 1,\n",
       " 235: 1,\n",
       " 2583: 1,\n",
       " 3471: 1,\n",
       " 5569: 1,\n",
       " 1613: 1,\n",
       " 1602: 1,\n",
       " 3733: 1,\n",
       " 3835: 1,\n",
       " 2234: 1,\n",
       " 5312: 1,\n",
       " 3593: 1,\n",
       " 981: 1,\n",
       " 3942: 1,\n",
       " 2203: 1,\n",
       " 770: 1,\n",
       " 1065: 1,\n",
       " 4821: 1,\n",
       " 1600: 1,\n",
       " 5166: 1,\n",
       " 3698: 1,\n",
       " 5207: 1,\n",
       " 960: 1,\n",
       " 1543: 1,\n",
       " 855: 1,\n",
       " 3418: 1,\n",
       " 2907: 1,\n",
       " 4850: 1,\n",
       " 2872: 1,\n",
       " 2651: 1,\n",
       " 1981: 1,\n",
       " 2910: 1,\n",
       " 1675: 1,\n",
       " 5156: 1,\n",
       " 2902: 1,\n",
       " 2566: 1,\n",
       " 4074: 1,\n",
       " 3841: 1,\n",
       " 4998: 1,\n",
       " 6: 1,\n",
       " 3805: 1,\n",
       " 4918: 1,\n",
       " 4669: 1,\n",
       " 3554: 1,\n",
       " 3345: 1,\n",
       " 5037: 1,\n",
       " 4292: 1,\n",
       " 1370: 1,\n",
       " 2190: 1,\n",
       " 3561: 1,\n",
       " 3014: 1,\n",
       " 4173: 1,\n",
       " 3473: 1,\n",
       " 1655: 1,\n",
       " 5612: 1,\n",
       " 2455: 1,\n",
       " 5025: 1,\n",
       " 725: 1,\n",
       " 919: 1,\n",
       " 4094: 1,\n",
       " 3291: 1,\n",
       " 1859: 1,\n",
       " 2240: 1,\n",
       " 1857: 1,\n",
       " 2104: 1,\n",
       " 4743: 1,\n",
       " 4900: 1,\n",
       " 3067: 1,\n",
       " 1201: 1,\n",
       " 1211: 1,\n",
       " 2703: 1,\n",
       " 3732: 1,\n",
       " 13: 1,\n",
       " 2095: 1,\n",
       " 5088: 1,\n",
       " 4596: 1,\n",
       " 1366: 1,\n",
       " 5483: 1,\n",
       " 4129: 1,\n",
       " 4365: 1,\n",
       " 4092: 1,\n",
       " 4826: 1,\n",
       " 3811: 1,\n",
       " 4963: 1,\n",
       " 1085: 1,\n",
       " 2518: 1,\n",
       " 1240: 1,\n",
       " 4892: 1}"
      ]
     },
     "execution_count": 86,
     "metadata": {},
     "output_type": "execute_result"
    }
   ],
   "source": [
    "dict(df_T.T.isna().sum().value_counts())"
   ]
  },
  {
   "cell_type": "markdown",
   "id": "2049ff9d",
   "metadata": {},
   "source": [
    "코스피에 상장한 모든 기업의 가격데이터를 들고왔다. 먼저 intersection_index와 일치하는 기업만 들고온다. 이후 결측치를 확인해보았더니 다양하다 아마 상장 날짜가 제각기 다르기 때문일 것이다. 결측치 처리를 해야하는데 여기서 방법이 두가지가 있다.\n",
    "#### 1. 일정 비율이상 결측치를 가지는 기업을 삭제하고 나머지는 날짜를 기준으로 결측치를 삭제한다\n",
    "#### 2. 위 dict에서 보이는 것 처럼 결측치가 5개인 기업이 245개 임으로 이 기업만 가지고 분석을 진행한다."
   ]
  },
  {
   "cell_type": "code",
   "execution_count": 87,
   "id": "5d71bb63",
   "metadata": {},
   "outputs": [],
   "source": [
    "new_df = df.loc[:,df.isna().sum() == 5].dropna(axis = 0)"
   ]
  },
  {
   "cell_type": "code",
   "execution_count": 88,
   "id": "a23e2225",
   "metadata": {},
   "outputs": [],
   "source": [
    "import pickle\n",
    "with open('pairs.pickle', 'rb') as fid:\n",
    "\n",
    "    pairs = pickle.load(fid,encoding='utf-8')"
   ]
  },
  {
   "cell_type": "markdown",
   "id": "b454fd2a",
   "metadata": {},
   "source": [
    "공적분을 활용해 pair를 tuple형태로 저장하였다. 아래 코드는 pair들을 dict형태로 저장한것이다."
   ]
  },
  {
   "cell_type": "code",
   "execution_count": 89,
   "id": "a8818a5d",
   "metadata": {},
   "outputs": [
    {
     "name": "stdout",
     "output_type": "stream",
     "text": [
      "end\n"
     ]
    }
   ],
   "source": [
    "one_pair_list = []\n",
    "two_pair_list = []\n",
    "pair_dic = dict()\n",
    "count = 0\n",
    "for i in range(len(pairs)):\n",
    "    a,b = pairs[i]\n",
    "    \n",
    "    \n",
    "    \n",
    "    if i > 0 & i != (len(pairs)-1):\n",
    "        if a in one_pair_list: #key값이 같은 데이터가 들어왔음\n",
    "            two_pair_list.append(b)\n",
    "        else:\n",
    "            one_pair_list.append(a)#key값이 달라짐 \n",
    "            pair_dic[one_pair_list[count]] = list(two_pair_list)\n",
    "            two_pair_list.clear()\n",
    "            two_pair_list.append(b)\n",
    "            count += 1\n",
    "            \n",
    "    else:\n",
    "        one_pair_list.append(a)\n",
    "        two_pair_list.append(b)\n",
    "            \n",
    "    if i == (len(pairs)-1):\n",
    "        pair_dic[one_pair_list[count]] = list(two_pair_list)\n",
    "        two_pair_list.clear()\n",
    "        two_pair_list.append(b)\n",
    "        pair_dic[one_pair_list[count]] = list(two_pair_list)\n",
    "        print('end')\n",
    "        \n",
    "\n",
    "            \n",
    "\n"
   ]
  },
  {
   "cell_type": "code",
   "execution_count": 90,
   "id": "f31be50d",
   "metadata": {},
   "outputs": [],
   "source": [
    "a = np.log(fs_df_2019).T.corr()"
   ]
  },
  {
   "cell_type": "code",
   "execution_count": 91,
   "id": "d4a28fe9",
   "metadata": {},
   "outputs": [],
   "source": [
    "count_0 = 0\n",
    "new_list_2 =[]\n",
    "new_list_3 = []\n",
    "for i in one_pair_list:\n",
    "    df_pair_1 = pd.DataFrame(a.loc[i])\n",
    "    df_pair_1 = df_pair_1.sort_values(by = i)\n",
    "    df_pair_1.index = range(len(df_pair_1))\n",
    "    for k in pair_dic[one_pair_list[count_0]]:\n",
    "        count = 0\n",
    "        for j in pd.DataFrame(a.loc[i]).iloc[:,0]: #log변환 한 재무제표의 각기업을 들고옴\n",
    "            if float(j) == a.loc[i,k]: #ex) float(j) == 0.9166428579406288\n",
    "                new_list_3.append(f'{count}/{len(fs_df_2019)}')\n",
    "            count += 1\n",
    "       \n",
    "    count_0 += 1\n",
    "    new_list_2.append(list(new_list_3))\n",
    "    new_list_3.clear()\n",
    "\n"
   ]
  },
  {
   "cell_type": "markdown",
   "id": "aa58ca14",
   "metadata": {},
   "source": [
    "위 코드는 pair들로 짝지어진 기업들의 상관계수가 전체 상관계수 값에서 어느정도 위치하는지 비율로 나타낸것이다. 비율들이 다 제각각 분포해있음을 알 수있다. \n"
   ]
  },
  {
   "cell_type": "code",
   "execution_count": 92,
   "id": "6f8c02d3",
   "metadata": {},
   "outputs": [],
   "source": [
    "new_ratio_list = []\n",
    "for k in range(len(new_list_2)):\n",
    "    for i in new_list_2[k]:\n",
    "        a,b = i.split('/')\n",
    "        a = int(a)\n",
    "        b = int(b)\n",
    "        new_ratio_list.append(1 - a/b)\n",
    "        \n",
    "new_ratio_ary = np.array(new_ratio_list)"
   ]
  },
  {
   "cell_type": "markdown",
   "id": "1f96b5aa",
   "metadata": {},
   "source": [
    "new_ratio_list에 있는 값들이 1에 가까울 수록 pair들로 짝지어진 기업들의 상관계수값이 상위에 있다."
   ]
  },
  {
   "cell_type": "code",
   "execution_count": 93,
   "id": "e32c0fb0",
   "metadata": {
    "scrolled": true
   },
   "outputs": [
    {
     "data": {
      "text/plain": [
       "<AxesSubplot:>"
      ]
     },
     "execution_count": 93,
     "metadata": {},
     "output_type": "execute_result"
    },
    {
     "data": {
      "image/png": "[encoded data removed]",
      "text/plain": [
       "<Figure size 432x288 with 1 Axes>"
      ]
     },
     "metadata": {
      "needs_background": "light"
     },
     "output_type": "display_data"
    }
   ],
   "source": [
    "pd.DataFrame(new_ratio_ary).boxplot()"
   ]
  },
  {
   "cell_type": "code",
   "execution_count": 94,
   "id": "bfa44600",
   "metadata": {
    "scrolled": true
   },
   "outputs": [
    {
     "data": {
      "text/plain": [
       "<AxesSubplot:ylabel='Density'>"
      ]
     },
     "execution_count": 94,
     "metadata": {},
     "output_type": "execute_result"
    },
    {
     "data": {
      "image/png": "[encoded data removed]",
      "text/plain": [
       "<Figure size 432x288 with 1 Axes>"
      ]
     },
     "metadata": {
      "needs_background": "light"
     },
     "output_type": "display_data"
    }
   ],
   "source": [
    "sns.distplot(new_ratio_ary)"
   ]
  },
  {
   "cell_type": "markdown",
   "id": "59186e8d",
   "metadata": {},
   "source": [
    "## 주제2 결론 : 재무제표는 주가랑 높은 연관관계가 없다."
   ]
  },
  {
   "cell_type": "markdown",
   "id": "d3b4de9d",
   "metadata": {},
   "source": [
    "# 전체 분석의 한계점\n",
    "먼저 데이터 상관관계 분석을 진행할때 피어슨상관계수만 쓴 점\n",
    "마할노비스 거리를 이용한 클러스터링을 진행하려고 하였지만 시간상 기각\n",
    "회기분석또한 진행해볼 생각이였지만 시간상 기각\n",
    "이후 다른여러가지 분석방법이 있었지만 생각보다 크롤링과 전처리에 시간을 많이 사용하여 시도해보지 못하였다. \n",
    "그리고 분석을 진행한 후 결과를 내고 다른 연구들을 보고 따라해 비교해볼 생각이였지만 시간 그리고 딱 맞는 논문이 많지 않아 해보지 못하였다. "
   ]
  },
  {
   "cell_type": "markdown",
   "id": "f2589f58",
   "metadata": {},
   "source": [
    "## 이후 해보고싶은것\n",
    "이번 경희대에서 열리는 창업공모전에 나가게 되었는데 창업아이템으로 saas를 활용한 문서,필기 웹을 만들어볼 생각이다. 이때 클라우드 서비스 관련 데이터들이 공공데이터로 올라와있어 시장조사를 할 때 상용해볼 생각이다\n",
    "\n",
    "금융관련으로는 투자자심리에 대한 분석을 진행해보고 싶다."
   ]
  },
  {
   "cell_type": "markdown",
   "id": "7ca3e8aa",
   "metadata": {},
   "source": [
    "### 아래 코드는 크롤링 코드중 데이터 크기가 큰 코드와 공적분을 이용해 pair를 짝었을때 사용한 코드이다."
   ]
  },
  {
   "cell_type": "code",
   "execution_count": 95,
   "id": "8642b6ad",
   "metadata": {
    "collapsed": true
   },
   "outputs": [
    {
     "name": "stdout",
     "output_type": "stream",
     "text": [
      "총페이지 : 664\n"
     ]
    },
    {
     "ename": "KeyboardInterrupt",
     "evalue": "",
     "output_type": "error",
     "traceback": [
      "\u001b[1;31m---------------------------------------------------------------------------\u001b[0m",
      "\u001b[1;31mKeyboardInterrupt\u001b[0m                         Traceback (most recent call last)",
      "Input \u001b[1;32mIn [95]\u001b[0m, in \u001b[0;36m<cell line: 14>\u001b[1;34m()\u001b[0m\n\u001b[0;32m     14\u001b[0m \u001b[38;5;28;01mfor\u001b[39;00m page \u001b[38;5;129;01min\u001b[39;00m \u001b[38;5;28mrange\u001b[39m(\u001b[38;5;241m1\u001b[39m,\u001b[38;5;28mint\u001b[39m(last_page)\u001b[38;5;241m+\u001b[39m\u001b[38;5;241m1\u001b[39m):\n\u001b[0;32m     15\u001b[0m     page_url\u001b[38;5;241m=\u001b[39m\u001b[38;5;124m'\u001b[39m\u001b[38;5;132;01m{}\u001b[39;00m\u001b[38;5;124m&page=\u001b[39m\u001b[38;5;132;01m{}\u001b[39;00m\u001b[38;5;124m'\u001b[39m\u001b[38;5;241m.\u001b[39mformat(url,page)\n\u001b[1;32m---> 16\u001b[0m     response\u001b[38;5;241m=\u001b[39m\u001b[43mopener\u001b[49m\u001b[38;5;241;43m.\u001b[39;49m\u001b[43mopen\u001b[49m\u001b[43m(\u001b[49m\u001b[43mpage_url\u001b[49m\u001b[43m)\u001b[49m\n\u001b[0;32m     17\u001b[0m     df\u001b[38;5;241m=\u001b[39mpd\u001b[38;5;241m.\u001b[39mconcat([df,pd\u001b[38;5;241m.\u001b[39mread_html(response,header\u001b[38;5;241m=\u001b[39m\u001b[38;5;241m0\u001b[39m)[\u001b[38;5;241m0\u001b[39m]])\n\u001b[0;32m     19\u001b[0m df \u001b[38;5;241m=\u001b[39m df\u001b[38;5;241m.\u001b[39mdropna()\n",
      "File \u001b[1;32m~\\anaconda3\\lib\\urllib\\request.py:517\u001b[0m, in \u001b[0;36mOpenerDirector.open\u001b[1;34m(self, fullurl, data, timeout)\u001b[0m\n\u001b[0;32m    514\u001b[0m     req \u001b[38;5;241m=\u001b[39m meth(req)\n\u001b[0;32m    516\u001b[0m sys\u001b[38;5;241m.\u001b[39maudit(\u001b[38;5;124m'\u001b[39m\u001b[38;5;124murllib.Request\u001b[39m\u001b[38;5;124m'\u001b[39m, req\u001b[38;5;241m.\u001b[39mfull_url, req\u001b[38;5;241m.\u001b[39mdata, req\u001b[38;5;241m.\u001b[39mheaders, req\u001b[38;5;241m.\u001b[39mget_method())\n\u001b[1;32m--> 517\u001b[0m response \u001b[38;5;241m=\u001b[39m \u001b[38;5;28;43mself\u001b[39;49m\u001b[38;5;241;43m.\u001b[39;49m\u001b[43m_open\u001b[49m\u001b[43m(\u001b[49m\u001b[43mreq\u001b[49m\u001b[43m,\u001b[49m\u001b[43m \u001b[49m\u001b[43mdata\u001b[49m\u001b[43m)\u001b[49m\n\u001b[0;32m    519\u001b[0m \u001b[38;5;66;03m# post-process response\u001b[39;00m\n\u001b[0;32m    520\u001b[0m meth_name \u001b[38;5;241m=\u001b[39m protocol\u001b[38;5;241m+\u001b[39m\u001b[38;5;124m\"\u001b[39m\u001b[38;5;124m_response\u001b[39m\u001b[38;5;124m\"\u001b[39m\n",
      "File \u001b[1;32m~\\anaconda3\\lib\\urllib\\request.py:534\u001b[0m, in \u001b[0;36mOpenerDirector._open\u001b[1;34m(self, req, data)\u001b[0m\n\u001b[0;32m    531\u001b[0m     \u001b[38;5;28;01mreturn\u001b[39;00m result\n\u001b[0;32m    533\u001b[0m protocol \u001b[38;5;241m=\u001b[39m req\u001b[38;5;241m.\u001b[39mtype\n\u001b[1;32m--> 534\u001b[0m result \u001b[38;5;241m=\u001b[39m \u001b[38;5;28;43mself\u001b[39;49m\u001b[38;5;241;43m.\u001b[39;49m\u001b[43m_call_chain\u001b[49m\u001b[43m(\u001b[49m\u001b[38;5;28;43mself\u001b[39;49m\u001b[38;5;241;43m.\u001b[39;49m\u001b[43mhandle_open\u001b[49m\u001b[43m,\u001b[49m\u001b[43m \u001b[49m\u001b[43mprotocol\u001b[49m\u001b[43m,\u001b[49m\u001b[43m \u001b[49m\u001b[43mprotocol\u001b[49m\u001b[43m \u001b[49m\u001b[38;5;241;43m+\u001b[39;49m\n\u001b[0;32m    535\u001b[0m \u001b[43m                          \u001b[49m\u001b[38;5;124;43m'\u001b[39;49m\u001b[38;5;124;43m_open\u001b[39;49m\u001b[38;5;124;43m'\u001b[39;49m\u001b[43m,\u001b[49m\u001b[43m \u001b[49m\u001b[43mreq\u001b[49m\u001b[43m)\u001b[49m\n\u001b[0;32m    536\u001b[0m \u001b[38;5;28;01mif\u001b[39;00m result:\n\u001b[0;32m    537\u001b[0m     \u001b[38;5;28;01mreturn\u001b[39;00m result\n",
      "File \u001b[1;32m~\\anaconda3\\lib\\urllib\\request.py:494\u001b[0m, in \u001b[0;36mOpenerDirector._call_chain\u001b[1;34m(self, chain, kind, meth_name, *args)\u001b[0m\n\u001b[0;32m    492\u001b[0m \u001b[38;5;28;01mfor\u001b[39;00m handler \u001b[38;5;129;01min\u001b[39;00m handlers:\n\u001b[0;32m    493\u001b[0m     func \u001b[38;5;241m=\u001b[39m \u001b[38;5;28mgetattr\u001b[39m(handler, meth_name)\n\u001b[1;32m--> 494\u001b[0m     result \u001b[38;5;241m=\u001b[39m \u001b[43mfunc\u001b[49m\u001b[43m(\u001b[49m\u001b[38;5;241;43m*\u001b[39;49m\u001b[43margs\u001b[49m\u001b[43m)\u001b[49m\n\u001b[0;32m    495\u001b[0m     \u001b[38;5;28;01mif\u001b[39;00m result \u001b[38;5;129;01mis\u001b[39;00m \u001b[38;5;129;01mnot\u001b[39;00m \u001b[38;5;28;01mNone\u001b[39;00m:\n\u001b[0;32m    496\u001b[0m         \u001b[38;5;28;01mreturn\u001b[39;00m result\n",
      "File \u001b[1;32m~\\anaconda3\\lib\\urllib\\request.py:1389\u001b[0m, in \u001b[0;36mHTTPSHandler.https_open\u001b[1;34m(self, req)\u001b[0m\n\u001b[0;32m   1388\u001b[0m \u001b[38;5;28;01mdef\u001b[39;00m \u001b[38;5;21mhttps_open\u001b[39m(\u001b[38;5;28mself\u001b[39m, req):\n\u001b[1;32m-> 1389\u001b[0m     \u001b[38;5;28;01mreturn\u001b[39;00m \u001b[38;5;28;43mself\u001b[39;49m\u001b[38;5;241;43m.\u001b[39;49m\u001b[43mdo_open\u001b[49m\u001b[43m(\u001b[49m\u001b[43mhttp\u001b[49m\u001b[38;5;241;43m.\u001b[39;49m\u001b[43mclient\u001b[49m\u001b[38;5;241;43m.\u001b[39;49m\u001b[43mHTTPSConnection\u001b[49m\u001b[43m,\u001b[49m\u001b[43m \u001b[49m\u001b[43mreq\u001b[49m\u001b[43m,\u001b[49m\n\u001b[0;32m   1390\u001b[0m \u001b[43m        \u001b[49m\u001b[43mcontext\u001b[49m\u001b[38;5;241;43m=\u001b[39;49m\u001b[38;5;28;43mself\u001b[39;49m\u001b[38;5;241;43m.\u001b[39;49m\u001b[43m_context\u001b[49m\u001b[43m,\u001b[49m\u001b[43m \u001b[49m\u001b[43mcheck_hostname\u001b[49m\u001b[38;5;241;43m=\u001b[39;49m\u001b[38;5;28;43mself\u001b[39;49m\u001b[38;5;241;43m.\u001b[39;49m\u001b[43m_check_hostname\u001b[49m\u001b[43m)\u001b[49m\n",
      "File \u001b[1;32m~\\anaconda3\\lib\\urllib\\request.py:1315\u001b[0m, in \u001b[0;36mAbstractHTTPHandler.do_open\u001b[1;34m(self, http_class, req, **http_conn_args)\u001b[0m\n\u001b[0;32m   1312\u001b[0m     \u001b[38;5;28;01mraise\u001b[39;00m URLError(\u001b[38;5;124m'\u001b[39m\u001b[38;5;124mno host given\u001b[39m\u001b[38;5;124m'\u001b[39m)\n\u001b[0;32m   1314\u001b[0m \u001b[38;5;66;03m# will parse host:port\u001b[39;00m\n\u001b[1;32m-> 1315\u001b[0m h \u001b[38;5;241m=\u001b[39m http_class(host, timeout\u001b[38;5;241m=\u001b[39mreq\u001b[38;5;241m.\u001b[39mtimeout, \u001b[38;5;241m*\u001b[39m\u001b[38;5;241m*\u001b[39mhttp_conn_args)\n\u001b[0;32m   1316\u001b[0m h\u001b[38;5;241m.\u001b[39mset_debuglevel(\u001b[38;5;28mself\u001b[39m\u001b[38;5;241m.\u001b[39m_debuglevel)\n\u001b[0;32m   1318\u001b[0m headers \u001b[38;5;241m=\u001b[39m \u001b[38;5;28mdict\u001b[39m(req\u001b[38;5;241m.\u001b[39munredirected_hdrs)\n",
      "File \u001b[1;32m~\\anaconda3\\lib\\http\\client.py:1424\u001b[0m, in \u001b[0;36mHTTPSConnection.__init__\u001b[1;34m(self, host, port, key_file, cert_file, timeout, source_address, context, check_hostname, blocksize)\u001b[0m\n\u001b[0;32m   1422\u001b[0m \u001b[38;5;28mself\u001b[39m\u001b[38;5;241m.\u001b[39mcert_file \u001b[38;5;241m=\u001b[39m cert_file\n\u001b[0;32m   1423\u001b[0m \u001b[38;5;28;01mif\u001b[39;00m context \u001b[38;5;129;01mis\u001b[39;00m \u001b[38;5;28;01mNone\u001b[39;00m:\n\u001b[1;32m-> 1424\u001b[0m     context \u001b[38;5;241m=\u001b[39m \u001b[43mssl\u001b[49m\u001b[38;5;241;43m.\u001b[39;49m\u001b[43m_create_default_https_context\u001b[49m\u001b[43m(\u001b[49m\u001b[43m)\u001b[49m\n\u001b[0;32m   1425\u001b[0m     \u001b[38;5;66;03m# enable PHA for TLS 1.3 connections if available\u001b[39;00m\n\u001b[0;32m   1426\u001b[0m     \u001b[38;5;28;01mif\u001b[39;00m context\u001b[38;5;241m.\u001b[39mpost_handshake_auth \u001b[38;5;129;01mis\u001b[39;00m \u001b[38;5;129;01mnot\u001b[39;00m \u001b[38;5;28;01mNone\u001b[39;00m:\n",
      "File \u001b[1;32m~\\anaconda3\\lib\\ssl.py:750\u001b[0m, in \u001b[0;36mcreate_default_context\u001b[1;34m(purpose, cafile, capath, cadata)\u001b[0m\n\u001b[0;32m    745\u001b[0m     context\u001b[38;5;241m.\u001b[39mload_verify_locations(cafile, capath, cadata)\n\u001b[0;32m    746\u001b[0m \u001b[38;5;28;01melif\u001b[39;00m context\u001b[38;5;241m.\u001b[39mverify_mode \u001b[38;5;241m!=\u001b[39m CERT_NONE:\n\u001b[0;32m    747\u001b[0m     \u001b[38;5;66;03m# no explicit cafile, capath or cadata but the verify mode is\u001b[39;00m\n\u001b[0;32m    748\u001b[0m     \u001b[38;5;66;03m# CERT_OPTIONAL or CERT_REQUIRED. Let's try to load default system\u001b[39;00m\n\u001b[0;32m    749\u001b[0m     \u001b[38;5;66;03m# root CA certificates for the given purpose. This may fail silently.\u001b[39;00m\n\u001b[1;32m--> 750\u001b[0m     \u001b[43mcontext\u001b[49m\u001b[38;5;241;43m.\u001b[39;49m\u001b[43mload_default_certs\u001b[49m\u001b[43m(\u001b[49m\u001b[43mpurpose\u001b[49m\u001b[43m)\u001b[49m\n\u001b[0;32m    751\u001b[0m \u001b[38;5;66;03m# OpenSSL 1.1.1 keylog file\u001b[39;00m\n\u001b[0;32m    752\u001b[0m \u001b[38;5;28;01mif\u001b[39;00m \u001b[38;5;28mhasattr\u001b[39m(context, \u001b[38;5;124m'\u001b[39m\u001b[38;5;124mkeylog_filename\u001b[39m\u001b[38;5;124m'\u001b[39m):\n",
      "File \u001b[1;32m~\\anaconda3\\lib\\ssl.py:574\u001b[0m, in \u001b[0;36mSSLContext.load_default_certs\u001b[1;34m(self, purpose)\u001b[0m\n\u001b[0;32m    572\u001b[0m \u001b[38;5;28;01mif\u001b[39;00m sys\u001b[38;5;241m.\u001b[39mplatform \u001b[38;5;241m==\u001b[39m \u001b[38;5;124m\"\u001b[39m\u001b[38;5;124mwin32\u001b[39m\u001b[38;5;124m\"\u001b[39m:\n\u001b[0;32m    573\u001b[0m     \u001b[38;5;28;01mfor\u001b[39;00m storename \u001b[38;5;129;01min\u001b[39;00m \u001b[38;5;28mself\u001b[39m\u001b[38;5;241m.\u001b[39m_windows_cert_stores:\n\u001b[1;32m--> 574\u001b[0m         \u001b[38;5;28;43mself\u001b[39;49m\u001b[38;5;241;43m.\u001b[39;49m\u001b[43m_load_windows_store_certs\u001b[49m\u001b[43m(\u001b[49m\u001b[43mstorename\u001b[49m\u001b[43m,\u001b[49m\u001b[43m \u001b[49m\u001b[43mpurpose\u001b[49m\u001b[43m)\u001b[49m\n\u001b[0;32m    575\u001b[0m \u001b[38;5;28mself\u001b[39m\u001b[38;5;241m.\u001b[39mset_default_verify_paths()\n",
      "File \u001b[1;32m~\\anaconda3\\lib\\ssl.py:558\u001b[0m, in \u001b[0;36mSSLContext._load_windows_store_certs\u001b[1;34m(self, storename, purpose)\u001b[0m\n\u001b[0;32m    556\u001b[0m certs \u001b[38;5;241m=\u001b[39m \u001b[38;5;28mbytearray\u001b[39m()\n\u001b[0;32m    557\u001b[0m \u001b[38;5;28;01mtry\u001b[39;00m:\n\u001b[1;32m--> 558\u001b[0m     \u001b[38;5;28;01mfor\u001b[39;00m cert, encoding, trust \u001b[38;5;129;01min\u001b[39;00m enum_certificates(storename):\n\u001b[0;32m    559\u001b[0m         \u001b[38;5;66;03m# CA certs are never PKCS#7 encoded\u001b[39;00m\n\u001b[0;32m    560\u001b[0m         \u001b[38;5;28;01mif\u001b[39;00m encoding \u001b[38;5;241m==\u001b[39m \u001b[38;5;124m\"\u001b[39m\u001b[38;5;124mx509_asn\u001b[39m\u001b[38;5;124m\"\u001b[39m:\n\u001b[0;32m    561\u001b[0m             \u001b[38;5;28;01mif\u001b[39;00m trust \u001b[38;5;129;01mis\u001b[39;00m \u001b[38;5;28;01mTrue\u001b[39;00m \u001b[38;5;129;01mor\u001b[39;00m purpose\u001b[38;5;241m.\u001b[39moid \u001b[38;5;129;01min\u001b[39;00m trust:\n",
      "\u001b[1;31mKeyboardInterrupt\u001b[0m: "
     ]
    }
   ],
   "source": [
    "headers=('User-Agent','Mozilla/5.0 (Windows NT 10.0; Win64; x64) AppleWebKit/537.36 (KHTML, like Gecko) Chrome/89.0.4389.82 Safari/537.36') \n",
    "url='https://finance.naver.com/item/sise_day.nhn?code=000100' # 000100= 유한양행 종목코드\n",
    "\n",
    "\n",
    "opener = req.build_opener()\n",
    "opener.addheaders = [headers]\n",
    "response=opener.open(url)\n",
    "doc=bs(response,'lxml')     \n",
    "last_page = doc.find('td',class_='pgRR').a['href'].split('=')[-1]\n",
    "print('총페이지 : '+last_page)\n",
    "\n",
    "\n",
    "df=pd.DataFrame()\n",
    "for page in range(1,int(last_page)+1):\n",
    "    page_url='{}&page={}'.format(url,page)\n",
    "    response=opener.open(page_url)\n",
    "    df=pd.concat([df,pd.read_html(response,header=0)[0]])\n",
    "\n",
    "df = df.dropna()\n",
    "df.index = range(0,len(df.index))\n",
    "df"
   ]
  },
  {
   "cell_type": "code",
   "execution_count": null,
   "id": "2518fa88",
   "metadata": {},
   "outputs": [],
   "source": [
    "import pandas as pd\n",
    "import requests\n",
    "fs_df_2019 = pd.DataFrame()\n",
    "for code in new_code_list:\n",
    "    \n",
    "    URL = f\"https://finance.naver.com/item/main.nhn?code={code}\"\n",
    "    r = requests.get(URL)\n",
    "    df_1 = pd.read_html(r.text)[3]\n",
    "    df_1.set_index(df_1.columns[0],inplace=True)\n",
    "    df_1.index.rename('주요재무정보', inplace=True)\n",
    "    \n",
    "    df_2 = pd.DataFrame(df_1.T.iloc[0,:]).T\n",
    "    fs_df_2019 = pd.concat([fs_df_2019,df_2])\n",
    "\n",
    "fs_df_2019.index = new_code_list\n",
    "fs_df_2019.columns.rename(('종목코드','2019'), inplace=True)\n",
    "fs_df_2019"
   ]
  },
  {
   "cell_type": "code",
   "execution_count": null,
   "id": "0c102986",
   "metadata": {},
   "outputs": [],
   "source": [
    "import pandas as pd\n",
    "import requests\n",
    "new_df_2_2 = pd.DataFrame()\n",
    "list_0 = []\n",
    "for code in new_code_list:\n",
    "    try:\n",
    "        URL = f\"https://finance.naver.com/item/main.nhn?code={code}\"\n",
    "        r = requests.get(URL)\n",
    "        df_1_2 = pd.read_html(r.text)[3]\n",
    "        df_1_2.set_index(df_1_2.columns[0],inplace=True)\n",
    "        df_1_2.index.rename('주요재무정보', inplace=True)\n",
    "\n",
    "        df_2_2 = pd.DataFrame(df_1_2.T.iloc[1,:]).T\n",
    "        new_df_2_2 = pd.concat([new_df_2_2,df_2_2])\n",
    "    except:\n",
    "        list_0.append(code)\n",
    "new_code_list_2 = new_code_list\n",
    "for k in list_0:\n",
    "    new_code_list_2.remove(k)\n",
    "    \n",
    "    \n",
    "    \n",
    "new_df_2_2.index = new_code_list_2\n",
    "new_df_2_2.columns.rename(('종목코드','2020'), inplace=True)\n",
    "new_df_2_2"
   ]
  },
  {
   "cell_type": "code",
   "execution_count": null,
   "id": "dcee7d9b",
   "metadata": {},
   "outputs": [],
   "source": [
    "#전체 가격데이터\n",
    "import pandas as pd\n",
    "from urllib import request as req\n",
    "from bs4 import BeautifulSoup as bs\n",
    "\n",
    "df = pd.DataFrame()\n",
    "for i in new_code_list:\n",
    "    headers=('User-Agent','Mozilla/5.0 (Windows NT 10.0; Win64; x64) AppleWebKit/537.36 (KHTML, like Gecko) Chrome/89.0.4389.82 Safari/537.36') \n",
    "    url=f'https://finance.naver.com/item/sise_day.nhn?code={i}' #너무 오래걸려서 슬라이싱 컴퓨터로 다시해봐야 할듯 하다가 자꾸 노트북이 다운됨\n",
    "\n",
    "    df_1=pd.DataFrame()\n",
    "    opener = req.build_opener()\n",
    "    opener.addheaders = [headers]\n",
    "    response=opener.open(url)\n",
    "    doc=bs(response,'lxml')\n",
    "    last_page = doc.find('td',class_='pgRR').a['href'].split('=')[-1]\n",
    "    print('총페이지 : '+last_page)\n",
    "    for page in range(1,int(last_page) + 1):\n",
    "        page_url='{}&page={}'.format(url,page)\n",
    "        response=opener.open(page_url)\n",
    "        df_1=pd.concat([df_1,pd.read_html(response,header=0)[0]])\n",
    "\n",
    "    df_1 = df_1.dropna()\n",
    "    date_list = list(df_1['날짜'])\n",
    "    df_1.index = date_list\n",
    "    df_1.drop('날짜',axis = 1,inplace = True)\n",
    "    df_1 = pd.DataFrame(df_1['종가'])\n",
    "    df_1.rename(columns = {'종가':f'{i}'},inplace = True)\n",
    "    df = pd.concat([df,df_1],axis = 1)"
   ]
  },
  {
   "cell_type": "code",
   "execution_count": null,
   "id": "11932f08",
   "metadata": {
    "scrolled": true
   },
   "outputs": [],
   "source": [
    "#공적분을 활용한 pair트레이딩 \n",
    "#공적분을 활용해서 pair를 찾는과정 \n",
    "def find_cointegrated_pairs(new_df):\n",
    "    n = new_df.shape[1]\n",
    "    score_matrix = np.zeros((n, n))\n",
    "    pvalue_matrix = np.ones((n, n))\n",
    "    keys = new_df.keys()\n",
    "    pairs = []\n",
    "    for i in range(n):\n",
    "        for j in range(i+1, n):\n",
    "            S1 = new_df[keys[i]]\n",
    "            S2 = new_df[keys[j]]\n",
    "            result = coint(S1, S2)\n",
    "            score = result[0]\n",
    "            pvalue = result[1]\n",
    "            score_matrix[i, j] = score\n",
    "            pvalue_matrix[i, j] = pvalue\n",
    "            if pvalue < 0.02:\n",
    "                pairs.append((keys[i], keys[j]))\n",
    "    return score_matrix, pvalue_matrix, pairs\n",
    "\n",
    "\n",
    "\n",
    "# Heatmap to show the p-values of the cointegration test\n",
    "# between each pair of stocks\n",
    "scores, pvalues, pairs = find_cointegrated_pairs(new_df)\n",
    "import seaborn\n",
    "m = [0,0.2,0.4,0.6,0.8,1]\n",
    "seaborn.heatmap(pvalues, \n",
    "                mask = (pvalues >= 0.98))\n",
    "plt.show()\n",
    "print(pairs)"
   ]
  },
  {
   "cell_type": "code",
   "execution_count": null,
   "id": "feeda69f",
   "metadata": {},
   "outputs": [],
   "source": []
  },
  {
   "cell_type": "code",
   "execution_count": null,
   "id": "08dcb28a",
   "metadata": {},
   "outputs": [],
   "source": []
  },
  {
   "cell_type": "code",
   "execution_count": null,
   "id": "34fd62dc",
   "metadata": {},
   "outputs": [],
   "source": []
  },
  {
   "cell_type": "code",
   "execution_count": null,
   "id": "58c0125e",
   "metadata": {},
   "outputs": [],
   "source": []
  },
  {
   "cell_type": "code",
   "execution_count": null,
   "id": "e779c14a",
   "metadata": {},
   "outputs": [],
   "source": []
  },
  {
   "cell_type": "code",
   "execution_count": null,
   "id": "961aba17",
   "metadata": {},
   "outputs": [],
   "source": []
  },
  {
   "cell_type": "code",
   "execution_count": null,
   "id": "8653bad8",
   "metadata": {},
   "outputs": [],
   "source": []
  },
  {
   "cell_type": "code",
   "execution_count": null,
   "id": "f6077750",
   "metadata": {},
   "outputs": [],
   "source": []
  },
  {
   "cell_type": "code",
   "execution_count": null,
   "id": "555af352",
   "metadata": {},
   "outputs": [],
   "source": []
  },
  {
   "cell_type": "code",
   "execution_count": null,
   "id": "1078a38b",
   "metadata": {},
   "outputs": [],
   "source": []
  },
  {
   "cell_type": "code",
   "execution_count": null,
   "id": "54c380fd",
   "metadata": {},
   "outputs": [],
   "source": []
  },
  {
   "cell_type": "code",
   "execution_count": null,
   "id": "060d1b3e",
   "metadata": {},
   "outputs": [],
   "source": []
  },
  {
   "cell_type": "code",
   "execution_count": null,
   "id": "ef5d15f8",
   "metadata": {},
   "outputs": [],
   "source": []
  },
  {
   "cell_type": "code",
   "execution_count": null,
   "id": "283c51d0",
   "metadata": {},
   "outputs": [],
   "source": []
  },
  {
   "cell_type": "code",
   "execution_count": null,
   "id": "f0fcdbfd",
   "metadata": {},
   "outputs": [],
   "source": []
  },
  {
   "cell_type": "code",
   "execution_count": null,
   "id": "48afdc1f",
   "metadata": {},
   "outputs": [],
   "source": []
  },
  {
   "cell_type": "code",
   "execution_count": null,
   "id": "b9770140",
   "metadata": {},
   "outputs": [],
   "source": []
  },
  {
   "cell_type": "code",
   "execution_count": null,
   "id": "9d401e4d",
   "metadata": {},
   "outputs": [],
   "source": []
  },
  {
   "cell_type": "code",
   "execution_count": null,
   "id": "fae40bb2",
   "metadata": {},
   "outputs": [],
   "source": []
  },
  {
   "cell_type": "code",
   "execution_count": null,
   "id": "ada69d7e",
   "metadata": {},
   "outputs": [],
   "source": []
  },
  {
   "cell_type": "code",
   "execution_count": null,
   "id": "ac889728",
   "metadata": {},
   "outputs": [],
   "source": []
  },
  {
   "cell_type": "code",
   "execution_count": null,
   "id": "30b7a78e",
   "metadata": {},
   "outputs": [],
   "source": []
  },
  {
   "cell_type": "code",
   "execution_count": null,
   "id": "cfde18d6",
   "metadata": {},
   "outputs": [],
   "source": []
  },
  {
   "cell_type": "code",
   "execution_count": null,
   "id": "5e942c17",
   "metadata": {},
   "outputs": [],
   "source": []
  },
  {
   "cell_type": "code",
   "execution_count": null,
   "id": "a55545bc",
   "metadata": {},
   "outputs": [],
   "source": []
  },
  {
   "cell_type": "code",
   "execution_count": null,
   "id": "aa09fd17",
   "metadata": {},
   "outputs": [],
   "source": []
  },
  {
   "cell_type": "code",
   "execution_count": null,
   "id": "b28a4790",
   "metadata": {},
   "outputs": [],
   "source": []
  },
  {
   "cell_type": "code",
   "execution_count": null,
   "id": "6ca510f3",
   "metadata": {},
   "outputs": [],
   "source": []
  },
  {
   "cell_type": "code",
   "execution_count": null,
   "id": "50c98f8e",
   "metadata": {},
   "outputs": [],
   "source": []
  },
  {
   "cell_type": "code",
   "execution_count": null,
   "id": "171d15e6",
   "metadata": {},
   "outputs": [],
   "source": [
    "\n"
   ]
  },
  {
   "cell_type": "code",
   "execution_count": null,
   "id": "5a30d1c6",
   "metadata": {},
   "outputs": [],
   "source": []
  },
  {
   "cell_type": "code",
   "execution_count": null,
   "id": "4034f37d",
   "metadata": {},
   "outputs": [],
   "source": []
  }
 ],
 "metadata": {
  "kernelspec": {
   "display_name": "Python 3 (ipykernel)",
   "language": "python",
   "name": "python3"
  },
  "language_info": {
   "codemirror_mode": {
    "name": "ipython",
    "version": 3
   },
   "file_extension": ".py",
   "mimetype": "text/x-python",
   "name": "python",
   "nbconvert_exporter": "python",
   "pygments_lexer": "ipython3",
   "version": "3.9.12"
  }
 },
 "nbformat": 4,
 "nbformat_minor": 5
}
